{
 "cells": [
  {
   "cell_type": "code",
   "execution_count": 1,
   "metadata": {},
   "outputs": [],
   "source": [
    "data <- read.csv('./Downloads/carmpgdata_26.txt',sep = '\\t')"
   ]
  },
  {
   "cell_type": "code",
   "execution_count": 2,
   "metadata": {},
   "outputs": [
    {
     "data": {
      "text/html": [
       "<table>\n",
       "<thead><tr><th scope=col>Auto</th><th scope=col>MPG</th><th scope=col>CYLINDERS</th><th scope=col>SIZE</th><th scope=col>HP</th><th scope=col>WEIGHT</th><th scope=col>ACCEL</th><th scope=col>ENG_TYPE</th></tr></thead>\n",
       "<tbody>\n",
       "\t<tr><td>Buick Estate Wagon    </td><td>16.9                  </td><td> 8                    </td><td>350                   </td><td>155                   </td><td>4.360                 </td><td>14.9                  </td><td> 1                    </td></tr>\n",
       "\t<tr><td>Ford Country Sq. Wagon</td><td>15.5                  </td><td> 8                    </td><td>351                   </td><td> NA                   </td><td>4.054                 </td><td>14.3                  </td><td> 1                    </td></tr>\n",
       "\t<tr><td>Chevy Malibu Wagon    </td><td>19.2                  </td><td> 8                    </td><td>267                   </td><td>125                   </td><td>3.605                 </td><td>15.0                  </td><td> 1                    </td></tr>\n",
       "\t<tr><td>Chrys Lebaron Wagon   </td><td>18.5                  </td><td> 8                    </td><td>360                   </td><td>150                   </td><td>3.940                 </td><td>13.0                  </td><td> 1                    </td></tr>\n",
       "\t<tr><td>Chevette              </td><td>30.0                  </td><td> 4                    </td><td> 98                   </td><td> 68                   </td><td>2.155                 </td><td>16.5                  </td><td> 0                    </td></tr>\n",
       "\t<tr><td>Toyota Corona         </td><td>27.5                  </td><td> 4                    </td><td>134                   </td><td> 95                   </td><td>2.560                 </td><td>14.2                  </td><td> 0                    </td></tr>\n",
       "\t<tr><td>Datsun 510            </td><td>27.2                  </td><td> 4                    </td><td>119                   </td><td> 97                   </td><td>2.300                 </td><td>14.7                  </td><td> 0                    </td></tr>\n",
       "\t<tr><td>Dodge Omni            </td><td>30.9                  </td><td> 4                    </td><td>105                   </td><td> 75                   </td><td>2.230                 </td><td>14.5                  </td><td>NA                    </td></tr>\n",
       "\t<tr><td>Audi 5000             </td><td>20.3                  </td><td> 5                    </td><td>131                   </td><td> NA                   </td><td>2.830                 </td><td>15.9                  </td><td> 0                    </td></tr>\n",
       "\t<tr><td>Volvo 240 GL          </td><td>17.0                  </td><td> 6                    </td><td>163                   </td><td>125                   </td><td>3.140                 </td><td>13.6                  </td><td> 0                    </td></tr>\n",
       "\t<tr><td>Saab 99 GLE           </td><td>21.6                  </td><td>NA                    </td><td>121                   </td><td>115                   </td><td>2.795                 </td><td>15.7                  </td><td> 0                    </td></tr>\n",
       "\t<tr><td>Peugeot 694 SL        </td><td>16.2                  </td><td> 6                    </td><td> NA                   </td><td>133                   </td><td>3.410                 </td><td>15.8                  </td><td> 0                    </td></tr>\n",
       "\t<tr><td>Buick Century Spec.   </td><td>20.6                  </td><td>NA                    </td><td>231                   </td><td>105                   </td><td>3.380                 </td><td>15.8                  </td><td> 0                    </td></tr>\n",
       "\t<tr><td>Mercury Zephyr        </td><td>20.8                  </td><td> 6                    </td><td>200                   </td><td> 85                   </td><td>   NA                 </td><td>16.7                  </td><td> 0                    </td></tr>\n",
       "\t<tr><td>Dodge Aspen           </td><td>18.6                  </td><td> 6                    </td><td>225                   </td><td>110                   </td><td>3.620                 </td><td>18.7                  </td><td> 0                    </td></tr>\n",
       "\t<tr><td>AMC Concord D/L       </td><td>18.1                  </td><td>NA                    </td><td>258                   </td><td>120                   </td><td>3.410                 </td><td>  NA                  </td><td> 0                    </td></tr>\n",
       "\t<tr><td>Chevy Caprice Classic </td><td>17.0                  </td><td>NA                    </td><td>305                   </td><td>130                   </td><td>   NA                 </td><td>15.4                  </td><td> 1                    </td></tr>\n",
       "\t<tr><td>Ford LTD              </td><td>17.6                  </td><td> 8                    </td><td>302                   </td><td>129                   </td><td>3.725                 </td><td>  NA                  </td><td>NA                    </td></tr>\n",
       "\t<tr><td>Mercury Grand Marquis </td><td>16.5                  </td><td> 8                    </td><td>351                   </td><td>138                   </td><td>3.955                 </td><td>13.2                  </td><td> 1                    </td></tr>\n",
       "\t<tr><td>Dodge St Regis        </td><td>18.2                  </td><td> 8                    </td><td>318                   </td><td>135                   </td><td>3.830                 </td><td>  NA                  </td><td> 1                    </td></tr>\n",
       "\t<tr><td>Ford Mustang 4        </td><td>26.5                  </td><td> 4                    </td><td>140                   </td><td> NA                   </td><td>2.585                 </td><td>14.4                  </td><td> 0                    </td></tr>\n",
       "\t<tr><td>Ford Mustang Ghia     </td><td>21.9                  </td><td> 6                    </td><td>171                   </td><td> NA                   </td><td>2.910                 </td><td>16.6                  </td><td> 1                    </td></tr>\n",
       "\t<tr><td>Mazda GLC             </td><td>34.1                  </td><td> 4                    </td><td> 86                   </td><td> 65                   </td><td>   NA                 </td><td>15.2                  </td><td> 0                    </td></tr>\n",
       "\t<tr><td>Dodge Colt            </td><td>35.1                  </td><td> 4                    </td><td> 98                   </td><td> 80                   </td><td>1.915                 </td><td>14.4                  </td><td> 0                    </td></tr>\n",
       "\t<tr><td>AMC Spirit            </td><td>27.4                  </td><td> 4                    </td><td>121                   </td><td> NA                   </td><td>2.670                 </td><td>15.0                  </td><td> 0                    </td></tr>\n",
       "\t<tr><td>VW Scirocco           </td><td>31.5                  </td><td> 4                    </td><td> 89                   </td><td> 71                   </td><td>1.990                 </td><td>14.9                  </td><td> 0                    </td></tr>\n",
       "\t<tr><td>Honda Accord          </td><td>29.5                  </td><td> 4                    </td><td> 98                   </td><td> 68                   </td><td>   NA                 </td><td>16.6                  </td><td> 0                    </td></tr>\n",
       "\t<tr><td>Buick Skylark         </td><td>28.4                  </td><td> 4                    </td><td>151                   </td><td> 90                   </td><td>2.670                 </td><td>16.0                  </td><td> 0                    </td></tr>\n",
       "\t<tr><td>Chevy Citation        </td><td>28.8                  </td><td> 6                    </td><td>173                   </td><td>115                   </td><td>2.595                 </td><td>11.3                  </td><td> 1                    </td></tr>\n",
       "\t<tr><td>Olds Omega            </td><td>26.8                  </td><td> 6                    </td><td>173                   </td><td>115                   </td><td>2.700                 </td><td>12.9                  </td><td> 1                    </td></tr>\n",
       "\t<tr><td>Pontiac Phoenix       </td><td>33.5                  </td><td> 4                    </td><td>151                   </td><td> 90                   </td><td>2.556                 </td><td>13.2                  </td><td> 0                    </td></tr>\n",
       "\t<tr><td>Plymouth Horizon      </td><td>34.2                  </td><td> 4                    </td><td>105                   </td><td> 70                   </td><td>2.200                 </td><td>13.2                  </td><td> 0                    </td></tr>\n",
       "\t<tr><td>Datsun 210            </td><td>31.8                  </td><td> 4                    </td><td> 85                   </td><td> 65                   </td><td>2.020                 </td><td>19.2                  </td><td>NA                    </td></tr>\n",
       "\t<tr><td>Fiat Strada           </td><td>37.3                  </td><td> 4                    </td><td> 91                   </td><td> 69                   </td><td>2.130                 </td><td>14.7                  </td><td> 0                    </td></tr>\n",
       "\t<tr><td>VW Dasher             </td><td>30.5                  </td><td> 4                    </td><td> NA                   </td><td> 78                   </td><td>   NA                 </td><td>14.1                  </td><td> 0                    </td></tr>\n",
       "\t<tr><td>Datsun 810            </td><td>22.0                  </td><td> 6                    </td><td> NA                   </td><td> 97                   </td><td>2.815                 </td><td>14.5                  </td><td> 0                    </td></tr>\n",
       "\t<tr><td>BMW 320i              </td><td>21.5                  </td><td> 4                    </td><td>121                   </td><td>110                   </td><td>   NA                 </td><td>  NA                  </td><td> 0                    </td></tr>\n",
       "\t<tr><td>VW Rabbit             </td><td>31.9                  </td><td> 4                    </td><td> 89                   </td><td> 71                   </td><td>1.925                 </td><td>14.0                  </td><td> 0                    </td></tr>\n",
       "</tbody>\n",
       "</table>\n"
      ],
      "text/latex": [
       "\\begin{tabular}{r|llllllll}\n",
       " Auto & MPG & CYLINDERS & SIZE & HP & WEIGHT & ACCEL & ENG\\_TYPE\\\\\n",
       "\\hline\n",
       "\t Buick Estate Wagon     & 16.9                   &  8                     & 350                    & 155                    & 4.360                  & 14.9                   &  1                    \\\\\n",
       "\t Ford Country Sq. Wagon & 15.5                   &  8                     & 351                    &  NA                    & 4.054                  & 14.3                   &  1                    \\\\\n",
       "\t Chevy Malibu Wagon     & 19.2                   &  8                     & 267                    & 125                    & 3.605                  & 15.0                   &  1                    \\\\\n",
       "\t Chrys Lebaron Wagon    & 18.5                   &  8                     & 360                    & 150                    & 3.940                  & 13.0                   &  1                    \\\\\n",
       "\t Chevette               & 30.0                   &  4                     &  98                    &  68                    & 2.155                  & 16.5                   &  0                    \\\\\n",
       "\t Toyota Corona          & 27.5                   &  4                     & 134                    &  95                    & 2.560                  & 14.2                   &  0                    \\\\\n",
       "\t Datsun 510             & 27.2                   &  4                     & 119                    &  97                    & 2.300                  & 14.7                   &  0                    \\\\\n",
       "\t Dodge Omni             & 30.9                   &  4                     & 105                    &  75                    & 2.230                  & 14.5                   & NA                    \\\\\n",
       "\t Audi 5000              & 20.3                   &  5                     & 131                    &  NA                    & 2.830                  & 15.9                   &  0                    \\\\\n",
       "\t Volvo 240 GL           & 17.0                   &  6                     & 163                    & 125                    & 3.140                  & 13.6                   &  0                    \\\\\n",
       "\t Saab 99 GLE            & 21.6                   & NA                     & 121                    & 115                    & 2.795                  & 15.7                   &  0                    \\\\\n",
       "\t Peugeot 694 SL         & 16.2                   &  6                     &  NA                    & 133                    & 3.410                  & 15.8                   &  0                    \\\\\n",
       "\t Buick Century Spec.    & 20.6                   & NA                     & 231                    & 105                    & 3.380                  & 15.8                   &  0                    \\\\\n",
       "\t Mercury Zephyr         & 20.8                   &  6                     & 200                    &  85                    &    NA                  & 16.7                   &  0                    \\\\\n",
       "\t Dodge Aspen            & 18.6                   &  6                     & 225                    & 110                    & 3.620                  & 18.7                   &  0                    \\\\\n",
       "\t AMC Concord D/L        & 18.1                   & NA                     & 258                    & 120                    & 3.410                  &   NA                   &  0                    \\\\\n",
       "\t Chevy Caprice Classic  & 17.0                   & NA                     & 305                    & 130                    &    NA                  & 15.4                   &  1                    \\\\\n",
       "\t Ford LTD               & 17.6                   &  8                     & 302                    & 129                    & 3.725                  &   NA                   & NA                    \\\\\n",
       "\t Mercury Grand Marquis  & 16.5                   &  8                     & 351                    & 138                    & 3.955                  & 13.2                   &  1                    \\\\\n",
       "\t Dodge St Regis         & 18.2                   &  8                     & 318                    & 135                    & 3.830                  &   NA                   &  1                    \\\\\n",
       "\t Ford Mustang 4         & 26.5                   &  4                     & 140                    &  NA                    & 2.585                  & 14.4                   &  0                    \\\\\n",
       "\t Ford Mustang Ghia      & 21.9                   &  6                     & 171                    &  NA                    & 2.910                  & 16.6                   &  1                    \\\\\n",
       "\t Mazda GLC              & 34.1                   &  4                     &  86                    &  65                    &    NA                  & 15.2                   &  0                    \\\\\n",
       "\t Dodge Colt             & 35.1                   &  4                     &  98                    &  80                    & 1.915                  & 14.4                   &  0                    \\\\\n",
       "\t AMC Spirit             & 27.4                   &  4                     & 121                    &  NA                    & 2.670                  & 15.0                   &  0                    \\\\\n",
       "\t VW Scirocco            & 31.5                   &  4                     &  89                    &  71                    & 1.990                  & 14.9                   &  0                    \\\\\n",
       "\t Honda Accord           & 29.5                   &  4                     &  98                    &  68                    &    NA                  & 16.6                   &  0                    \\\\\n",
       "\t Buick Skylark          & 28.4                   &  4                     & 151                    &  90                    & 2.670                  & 16.0                   &  0                    \\\\\n",
       "\t Chevy Citation         & 28.8                   &  6                     & 173                    & 115                    & 2.595                  & 11.3                   &  1                    \\\\\n",
       "\t Olds Omega             & 26.8                   &  6                     & 173                    & 115                    & 2.700                  & 12.9                   &  1                    \\\\\n",
       "\t Pontiac Phoenix        & 33.5                   &  4                     & 151                    &  90                    & 2.556                  & 13.2                   &  0                    \\\\\n",
       "\t Plymouth Horizon       & 34.2                   &  4                     & 105                    &  70                    & 2.200                  & 13.2                   &  0                    \\\\\n",
       "\t Datsun 210             & 31.8                   &  4                     &  85                    &  65                    & 2.020                  & 19.2                   & NA                    \\\\\n",
       "\t Fiat Strada            & 37.3                   &  4                     &  91                    &  69                    & 2.130                  & 14.7                   &  0                    \\\\\n",
       "\t VW Dasher              & 30.5                   &  4                     &  NA                    &  78                    &    NA                  & 14.1                   &  0                    \\\\\n",
       "\t Datsun 810             & 22.0                   &  6                     &  NA                    &  97                    & 2.815                  & 14.5                   &  0                    \\\\\n",
       "\t BMW 320i               & 21.5                   &  4                     & 121                    & 110                    &    NA                  &   NA                   &  0                    \\\\\n",
       "\t VW Rabbit              & 31.9                   &  4                     &  89                    &  71                    & 1.925                  & 14.0                   &  0                    \\\\\n",
       "\\end{tabular}\n"
      ],
      "text/markdown": [
       "\n",
       "Auto | MPG | CYLINDERS | SIZE | HP | WEIGHT | ACCEL | ENG_TYPE | \n",
       "|---|---|---|---|---|---|---|---|---|---|---|---|---|---|---|---|---|---|---|---|---|---|---|---|---|---|---|---|---|---|---|---|---|---|---|---|---|---|\n",
       "| Buick Estate Wagon     | 16.9                   |  8                     | 350                    | 155                    | 4.360                  | 14.9                   |  1                     | \n",
       "| Ford Country Sq. Wagon | 15.5                   |  8                     | 351                    |  NA                    | 4.054                  | 14.3                   |  1                     | \n",
       "| Chevy Malibu Wagon     | 19.2                   |  8                     | 267                    | 125                    | 3.605                  | 15.0                   |  1                     | \n",
       "| Chrys Lebaron Wagon    | 18.5                   |  8                     | 360                    | 150                    | 3.940                  | 13.0                   |  1                     | \n",
       "| Chevette               | 30.0                   |  4                     |  98                    |  68                    | 2.155                  | 16.5                   |  0                     | \n",
       "| Toyota Corona          | 27.5                   |  4                     | 134                    |  95                    | 2.560                  | 14.2                   |  0                     | \n",
       "| Datsun 510             | 27.2                   |  4                     | 119                    |  97                    | 2.300                  | 14.7                   |  0                     | \n",
       "| Dodge Omni             | 30.9                   |  4                     | 105                    |  75                    | 2.230                  | 14.5                   | NA                     | \n",
       "| Audi 5000              | 20.3                   |  5                     | 131                    |  NA                    | 2.830                  | 15.9                   |  0                     | \n",
       "| Volvo 240 GL           | 17.0                   |  6                     | 163                    | 125                    | 3.140                  | 13.6                   |  0                     | \n",
       "| Saab 99 GLE            | 21.6                   | NA                     | 121                    | 115                    | 2.795                  | 15.7                   |  0                     | \n",
       "| Peugeot 694 SL         | 16.2                   |  6                     |  NA                    | 133                    | 3.410                  | 15.8                   |  0                     | \n",
       "| Buick Century Spec.    | 20.6                   | NA                     | 231                    | 105                    | 3.380                  | 15.8                   |  0                     | \n",
       "| Mercury Zephyr         | 20.8                   |  6                     | 200                    |  85                    |    NA                  | 16.7                   |  0                     | \n",
       "| Dodge Aspen            | 18.6                   |  6                     | 225                    | 110                    | 3.620                  | 18.7                   |  0                     | \n",
       "| AMC Concord D/L        | 18.1                   | NA                     | 258                    | 120                    | 3.410                  |   NA                   |  0                     | \n",
       "| Chevy Caprice Classic  | 17.0                   | NA                     | 305                    | 130                    |    NA                  | 15.4                   |  1                     | \n",
       "| Ford LTD               | 17.6                   |  8                     | 302                    | 129                    | 3.725                  |   NA                   | NA                     | \n",
       "| Mercury Grand Marquis  | 16.5                   |  8                     | 351                    | 138                    | 3.955                  | 13.2                   |  1                     | \n",
       "| Dodge St Regis         | 18.2                   |  8                     | 318                    | 135                    | 3.830                  |   NA                   |  1                     | \n",
       "| Ford Mustang 4         | 26.5                   |  4                     | 140                    |  NA                    | 2.585                  | 14.4                   |  0                     | \n",
       "| Ford Mustang Ghia      | 21.9                   |  6                     | 171                    |  NA                    | 2.910                  | 16.6                   |  1                     | \n",
       "| Mazda GLC              | 34.1                   |  4                     |  86                    |  65                    |    NA                  | 15.2                   |  0                     | \n",
       "| Dodge Colt             | 35.1                   |  4                     |  98                    |  80                    | 1.915                  | 14.4                   |  0                     | \n",
       "| AMC Spirit             | 27.4                   |  4                     | 121                    |  NA                    | 2.670                  | 15.0                   |  0                     | \n",
       "| VW Scirocco            | 31.5                   |  4                     |  89                    |  71                    | 1.990                  | 14.9                   |  0                     | \n",
       "| Honda Accord           | 29.5                   |  4                     |  98                    |  68                    |    NA                  | 16.6                   |  0                     | \n",
       "| Buick Skylark          | 28.4                   |  4                     | 151                    |  90                    | 2.670                  | 16.0                   |  0                     | \n",
       "| Chevy Citation         | 28.8                   |  6                     | 173                    | 115                    | 2.595                  | 11.3                   |  1                     | \n",
       "| Olds Omega             | 26.8                   |  6                     | 173                    | 115                    | 2.700                  | 12.9                   |  1                     | \n",
       "| Pontiac Phoenix        | 33.5                   |  4                     | 151                    |  90                    | 2.556                  | 13.2                   |  0                     | \n",
       "| Plymouth Horizon       | 34.2                   |  4                     | 105                    |  70                    | 2.200                  | 13.2                   |  0                     | \n",
       "| Datsun 210             | 31.8                   |  4                     |  85                    |  65                    | 2.020                  | 19.2                   | NA                     | \n",
       "| Fiat Strada            | 37.3                   |  4                     |  91                    |  69                    | 2.130                  | 14.7                   |  0                     | \n",
       "| VW Dasher              | 30.5                   |  4                     |  NA                    |  78                    |    NA                  | 14.1                   |  0                     | \n",
       "| Datsun 810             | 22.0                   |  6                     |  NA                    |  97                    | 2.815                  | 14.5                   |  0                     | \n",
       "| BMW 320i               | 21.5                   |  4                     | 121                    | 110                    |    NA                  |   NA                   |  0                     | \n",
       "| VW Rabbit              | 31.9                   |  4                     |  89                    |  71                    | 1.925                  | 14.0                   |  0                     | \n",
       "\n",
       "\n"
      ],
      "text/plain": [
       "   Auto                   MPG  CYLINDERS SIZE HP  WEIGHT ACCEL ENG_TYPE\n",
       "1  Buick Estate Wagon     16.9  8        350  155 4.360  14.9   1      \n",
       "2  Ford Country Sq. Wagon 15.5  8        351   NA 4.054  14.3   1      \n",
       "3  Chevy Malibu Wagon     19.2  8        267  125 3.605  15.0   1      \n",
       "4  Chrys Lebaron Wagon    18.5  8        360  150 3.940  13.0   1      \n",
       "5  Chevette               30.0  4         98   68 2.155  16.5   0      \n",
       "6  Toyota Corona          27.5  4        134   95 2.560  14.2   0      \n",
       "7  Datsun 510             27.2  4        119   97 2.300  14.7   0      \n",
       "8  Dodge Omni             30.9  4        105   75 2.230  14.5  NA      \n",
       "9  Audi 5000              20.3  5        131   NA 2.830  15.9   0      \n",
       "10 Volvo 240 GL           17.0  6        163  125 3.140  13.6   0      \n",
       "11 Saab 99 GLE            21.6 NA        121  115 2.795  15.7   0      \n",
       "12 Peugeot 694 SL         16.2  6         NA  133 3.410  15.8   0      \n",
       "13 Buick Century Spec.    20.6 NA        231  105 3.380  15.8   0      \n",
       "14 Mercury Zephyr         20.8  6        200   85    NA  16.7   0      \n",
       "15 Dodge Aspen            18.6  6        225  110 3.620  18.7   0      \n",
       "16 AMC Concord D/L        18.1 NA        258  120 3.410    NA   0      \n",
       "17 Chevy Caprice Classic  17.0 NA        305  130    NA  15.4   1      \n",
       "18 Ford LTD               17.6  8        302  129 3.725    NA  NA      \n",
       "19 Mercury Grand Marquis  16.5  8        351  138 3.955  13.2   1      \n",
       "20 Dodge St Regis         18.2  8        318  135 3.830    NA   1      \n",
       "21 Ford Mustang 4         26.5  4        140   NA 2.585  14.4   0      \n",
       "22 Ford Mustang Ghia      21.9  6        171   NA 2.910  16.6   1      \n",
       "23 Mazda GLC              34.1  4         86   65    NA  15.2   0      \n",
       "24 Dodge Colt             35.1  4         98   80 1.915  14.4   0      \n",
       "25 AMC Spirit             27.4  4        121   NA 2.670  15.0   0      \n",
       "26 VW Scirocco            31.5  4         89   71 1.990  14.9   0      \n",
       "27 Honda Accord           29.5  4         98   68    NA  16.6   0      \n",
       "28 Buick Skylark          28.4  4        151   90 2.670  16.0   0      \n",
       "29 Chevy Citation         28.8  6        173  115 2.595  11.3   1      \n",
       "30 Olds Omega             26.8  6        173  115 2.700  12.9   1      \n",
       "31 Pontiac Phoenix        33.5  4        151   90 2.556  13.2   0      \n",
       "32 Plymouth Horizon       34.2  4        105   70 2.200  13.2   0      \n",
       "33 Datsun 210             31.8  4         85   65 2.020  19.2  NA      \n",
       "34 Fiat Strada            37.3  4         91   69 2.130  14.7   0      \n",
       "35 VW Dasher              30.5  4         NA   78    NA  14.1   0      \n",
       "36 Datsun 810             22.0  6         NA   97 2.815  14.5   0      \n",
       "37 BMW 320i               21.5  4        121  110    NA    NA   0      \n",
       "38 VW Rabbit              31.9  4         89   71 1.925  14.0   0      "
      ]
     },
     "metadata": {},
     "output_type": "display_data"
    }
   ],
   "source": [
    "data"
   ]
  },
  {
   "cell_type": "code",
   "execution_count": 13,
   "metadata": {},
   "outputs": [
    {
     "data": {
      "text/html": [
       "<table>\n",
       "<thead><tr><th></th><th scope=col>Auto</th><th scope=col>MPG</th><th scope=col>CYLINDERS</th><th scope=col>SIZE</th><th scope=col>HP</th><th scope=col>WEIGHT</th><th scope=col>ACCEL</th><th scope=col>ENG_TYPE</th></tr></thead>\n",
       "<tbody>\n",
       "\t<tr><th scope=row>21</th><td>Ford Mustang 4   </td><td>26.5             </td><td>4                </td><td>140              </td><td>NA               </td><td>2.585            </td><td>14.4             </td><td>0                </td></tr>\n",
       "\t<tr><th scope=row>22</th><td>Ford Mustang Ghia</td><td>21.9             </td><td>6                </td><td>171              </td><td>NA               </td><td>2.910            </td><td>16.6             </td><td>1                </td></tr>\n",
       "</tbody>\n",
       "</table>\n"
      ],
      "text/latex": [
       "\\begin{tabular}{r|llllllll}\n",
       "  & Auto & MPG & CYLINDERS & SIZE & HP & WEIGHT & ACCEL & ENG\\_TYPE\\\\\n",
       "\\hline\n",
       "\t21 & Ford Mustang 4    & 26.5              & 4                 & 140               & NA                & 2.585             & 14.4              & 0                \\\\\n",
       "\t22 & Ford Mustang Ghia & 21.9              & 6                 & 171               & NA                & 2.910             & 16.6              & 1                \\\\\n",
       "\\end{tabular}\n"
      ],
      "text/markdown": [
       "\n",
       "| <!--/--> | Auto | MPG | CYLINDERS | SIZE | HP | WEIGHT | ACCEL | ENG_TYPE | \n",
       "|---|---|\n",
       "| 21 | Ford Mustang 4    | 26.5              | 4                 | 140               | NA                | 2.585             | 14.4              | 0                 | \n",
       "| 22 | Ford Mustang Ghia | 21.9              | 6                 | 171               | NA                | 2.910             | 16.6              | 1                 | \n",
       "\n",
       "\n"
      ],
      "text/plain": [
       "   Auto              MPG  CYLINDERS SIZE HP WEIGHT ACCEL ENG_TYPE\n",
       "21 Ford Mustang 4    26.5 4         140  NA 2.585  14.4  0       \n",
       "22 Ford Mustang Ghia 21.9 6         171  NA 2.910  16.6  1       "
      ]
     },
     "metadata": {},
     "output_type": "display_data"
    }
   ],
   "source": [
    "data[ grepl('Ford',data$Auto) & data$MPG < 20,]"
   ]
  },
  {
   "cell_type": "code",
   "execution_count": 37,
   "metadata": {},
   "outputs": [
    {
     "data": {
      "text/html": [
       "<dl class=dl-horizontal>\n",
       "\t<dt>MPG</dt>\n",
       "\t\t<dd>27.7625</dd>\n",
       "\t<dt>HP</dt>\n",
       "\t\t<dd>96.6666666666667</dd>\n",
       "</dl>\n"
      ],
      "text/latex": [
       "\\begin{description*}\n",
       "\\item[MPG] 27.7625\n",
       "\\item[HP] 96.6666666666667\n",
       "\\end{description*}\n"
      ],
      "text/markdown": [
       "MPG\n",
       ":   27.7625HP\n",
       ":   96.6666666666667\n",
       "\n"
      ],
      "text/plain": [
       "     MPG       HP \n",
       "27.76250 96.66667 "
      ]
     },
     "metadata": {},
     "output_type": "display_data"
    }
   ],
   "source": [
    "colMeans(data[data$MPG > 25 & data$MPG < 30,c('MPG','HP')],na.rm=TRUE)"
   ]
  },
  {
   "cell_type": "code",
   "execution_count": 35,
   "metadata": {},
   "outputs": [
    {
     "data": {
      "text/html": [
       "<dl class=dl-horizontal>\n",
       "\t<dt>MPG</dt>\n",
       "\t\t<dd>21.6666666666667</dd>\n",
       "\t<dt>CYLINDERS</dt>\n",
       "\t\t<dd>7</dd>\n",
       "\t<dt>SIZE</dt>\n",
       "\t\t<dd>248.333333333333</dd>\n",
       "\t<dt>HP</dt>\n",
       "\t\t<dd>123.333333333333</dd>\n",
       "\t<dt>WEIGHT</dt>\n",
       "\t\t<dd>3.1</dd>\n",
       "\t<dt>ACCEL</dt>\n",
       "\t\t<dd>13.9</dd>\n",
       "\t<dt>ENG_TYPE</dt>\n",
       "\t\t<dd>1</dd>\n",
       "</dl>\n"
      ],
      "text/latex": [
       "\\begin{description*}\n",
       "\\item[MPG] 21.6666666666667\n",
       "\\item[CYLINDERS] 7\n",
       "\\item[SIZE] 248.333333333333\n",
       "\\item[HP] 123.333333333333\n",
       "\\item[WEIGHT] 3.1\n",
       "\\item[ACCEL] 13.9\n",
       "\\item[ENG\\textbackslash{}\\_TYPE] 1\n",
       "\\end{description*}\n"
      ],
      "text/markdown": [
       "MPG\n",
       ":   21.6666666666667CYLINDERS\n",
       ":   7SIZE\n",
       ":   248.333333333333HP\n",
       ":   123.333333333333WEIGHT\n",
       ":   3.1ACCEL\n",
       ":   13.9ENG_TYPE\n",
       ":   1\n",
       "\n"
      ],
      "text/plain": [
       "      MPG CYLINDERS      SIZE        HP    WEIGHT     ACCEL  ENG_TYPE \n",
       " 21.66667   7.00000 248.33333 123.33333   3.10000  13.90000   1.00000 "
      ]
     },
     "metadata": {},
     "output_type": "display_data"
    }
   ],
   "source": [
    "colMeans(data[grepl('Chevy',data$Auto) & data$ENG_TYPE==1,-1],na.rm=TRUE)"
   ]
  },
  {
   "cell_type": "code",
   "execution_count": 34,
   "metadata": {},
   "outputs": [
    {
     "data": {
      "text/html": [
       "<dl class=dl-horizontal>\n",
       "\t<dt>MPG</dt>\n",
       "\t\t<dd>19.0857142857143</dd>\n",
       "\t<dt>CYLINDERS</dt>\n",
       "\t\t<dd>5.5</dd>\n",
       "\t<dt>SIZE</dt>\n",
       "\t\t<dd>186.5</dd>\n",
       "\t<dt>HP</dt>\n",
       "\t\t<dd>116.857142857143</dd>\n",
       "\t<dt>WEIGHT</dt>\n",
       "\t\t<dd>3.2925</dd>\n",
       "\t<dt>ACCEL</dt>\n",
       "\t\t<dd>15.92</dd>\n",
       "\t<dt>ENG_TYPE</dt>\n",
       "\t\t<dd>0</dd>\n",
       "</dl>\n"
      ],
      "text/latex": [
       "\\begin{description*}\n",
       "\\item[MPG] 19.0857142857143\n",
       "\\item[CYLINDERS] 5.5\n",
       "\\item[SIZE] 186.5\n",
       "\\item[HP] 116.857142857143\n",
       "\\item[WEIGHT] 3.2925\n",
       "\\item[ACCEL] 15.92\n",
       "\\item[ENG\\textbackslash{}\\_TYPE] 0\n",
       "\\end{description*}\n"
      ],
      "text/markdown": [
       "MPG\n",
       ":   19.0857142857143CYLINDERS\n",
       ":   5.5SIZE\n",
       ":   186.5HP\n",
       ":   116.857142857143WEIGHT\n",
       ":   3.2925ACCEL\n",
       ":   15.92ENG_TYPE\n",
       ":   0\n",
       "\n"
      ],
      "text/plain": [
       "      MPG CYLINDERS      SIZE        HP    WEIGHT     ACCEL  ENG_TYPE \n",
       " 19.08571   5.50000 186.50000 116.85714   3.29250  15.92000   0.00000 "
      ]
     },
     "metadata": {},
     "output_type": "display_data"
    }
   ],
   "source": [
    "colMeans(data[data$ENG_TYPE==0 & data$HP >100,-1],na.rm=TRUE)"
   ]
  },
  {
   "cell_type": "code",
   "execution_count": null,
   "metadata": {},
   "outputs": [],
   "source": []
  }
 ],
 "metadata": {
  "kernelspec": {
   "display_name": "R",
   "language": "R",
   "name": "ir"
  },
  "language_info": {
   "codemirror_mode": "r",
   "file_extension": ".r",
   "mimetype": "text/x-r-source",
   "name": "R",
   "pygments_lexer": "r",
   "version": "3.4.3"
  }
 },
 "nbformat": 4,
 "nbformat_minor": 2
}
