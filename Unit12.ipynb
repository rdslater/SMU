{
 "cells": [
  {
   "cell_type": "code",
   "execution_count": 1,
   "metadata": {
    "collapsed": false
   },
   "outputs": [
    {
     "data": {
      "text/html": [
       "2.97508765293115"
      ],
      "text/latex": [
       "2.97508765293115"
      ],
      "text/markdown": [
       "2.97508765293115"
      ],
      "text/plain": [
       "[1] 2.975088"
      ]
     },
     "metadata": {},
     "output_type": "display_data"
    },
    {
     "data": {
      "text/html": [
       "1.70847607719383"
      ],
      "text/latex": [
       "1.70847607719383"
      ],
      "text/markdown": [
       "1.70847607719383"
      ],
      "text/plain": [
       "[1] 1.708476"
      ]
     },
     "metadata": {},
     "output_type": "display_data"
    },
    {
     "data": {
      "text/html": [
       "0.875833333333333"
      ],
      "text/latex": [
       "0.875833333333333"
      ],
      "text/markdown": [
       "0.875833333333333"
      ],
      "text/plain": [
       "[1] 0.8758333"
      ]
     },
     "metadata": {},
     "output_type": "display_data"
    },
    {
     "data": {
      "text/html": [
       "<ol>\n",
       "\t<li>NULL</li>\n",
       "\t<li>NULL</li>\n",
       "\t<li>NULL</li>\n",
       "\t<li>NULL</li>\n",
       "\t<li>NULL</li>\n",
       "\t<li>NULL</li>\n",
       "\t<li>NULL</li>\n",
       "</ol>\n"
      ],
      "text/latex": [
       "\\begin{enumerate}\n",
       "\\item NULL\n",
       "\\item NULL\n",
       "\\item NULL\n",
       "\\item NULL\n",
       "\\item NULL\n",
       "\\item NULL\n",
       "\\item NULL\n",
       "\\end{enumerate}\n"
      ],
      "text/markdown": [
       "1. NULL\n",
       "2. NULL\n",
       "3. NULL\n",
       "4. NULL\n",
       "5. NULL\n",
       "6. NULL\n",
       "7. NULL\n",
       "\n",
       "\n"
      ],
      "text/plain": [
       "[[1]]\n",
       "NULL\n",
       "\n",
       "[[2]]\n",
       "NULL\n",
       "\n",
       "[[3]]\n",
       "NULL\n",
       "\n",
       "[[4]]\n",
       "NULL\n",
       "\n",
       "[[5]]\n",
       "NULL\n",
       "\n",
       "[[6]]\n",
       "NULL\n",
       "\n",
       "[[7]]\n",
       "NULL\n"
      ]
     },
     "metadata": {},
     "output_type": "display_data"
    },
    {
     "data": {
      "text/html": [
       "<strong>null device:</strong> 1"
      ],
      "text/latex": [
       "\\textbf{null device:} 1"
      ],
      "text/markdown": [
       "**null device:** 1"
      ],
      "text/plain": [
       "null device \n",
       "          1 "
      ]
     },
     "metadata": {},
     "output_type": "display_data"
    },
    {
     "data": {
      "text/html": [
       "8.38445019555799"
      ],
      "text/latex": [
       "8.38445019555799"
      ],
      "text/markdown": [
       "8.38445019555799"
      ],
      "text/plain": [
       "[1] 8.38445"
      ]
     },
     "metadata": {},
     "output_type": "display_data"
    },
    {
     "data": {
      "text/html": [
       "1.4701287652457"
      ],
      "text/latex": [
       "1.4701287652457"
      ],
      "text/markdown": [
       "1.4701287652457"
      ],
      "text/plain": [
       "[1] 1.470129"
      ]
     },
     "metadata": {},
     "output_type": "display_data"
    },
    {
     "data": {
      "text/html": [
       "<ol class=list-inline>\n",
       "\t<li>1.4701287652457</li>\n",
       "\t<li>4.08410448564177</li>\n",
       "</ol>\n"
      ],
      "text/latex": [
       "\\begin{enumerate*}\n",
       "\\item 1.4701287652457\n",
       "\\item 4.08410448564177\n",
       "\\end{enumerate*}\n"
      ],
      "text/markdown": [
       "1. 1.4701287652457\n",
       "2. 4.08410448564177\n",
       "\n",
       "\n"
      ],
      "text/plain": [
       "[1] 1.470129 4.084104"
      ]
     },
     "metadata": {},
     "output_type": "display_data"
    },
    {
     "data": {
      "text/html": [
       "<ol class=list-inline>\n",
       "\t<li>1.4701287652457</li>\n",
       "\t<li>4.08410448564177</li>\n",
       "\t<li>2.05214989176931</li>\n",
       "</ol>\n"
      ],
      "text/latex": [
       "\\begin{enumerate*}\n",
       "\\item 1.4701287652457\n",
       "\\item 4.08410448564177\n",
       "\\item 2.05214989176931\n",
       "\\end{enumerate*}\n"
      ],
      "text/markdown": [
       "1. 1.4701287652457\n",
       "2. 4.08410448564177\n",
       "3. 2.05214989176931\n",
       "\n",
       "\n"
      ],
      "text/plain": [
       "[1] 1.470129 4.084104 2.052150"
      ]
     },
     "metadata": {},
     "output_type": "display_data"
    },
    {
     "data": {
      "text/html": [
       "<ol class=list-inline>\n",
       "\t<li>1.4701287652457</li>\n",
       "\t<li>5.55423325088747</li>\n",
       "\t<li>7.60638314265678</li>\n",
       "</ol>\n"
      ],
      "text/latex": [
       "\\begin{enumerate*}\n",
       "\\item 1.4701287652457\n",
       "\\item 5.55423325088747\n",
       "\\item 7.60638314265678\n",
       "\\end{enumerate*}\n"
      ],
      "text/markdown": [
       "1. 1.4701287652457\n",
       "2. 5.55423325088747\n",
       "3. 7.60638314265678\n",
       "\n",
       "\n"
      ],
      "text/plain": [
       "[1] 1.470129 5.554233 7.606383"
      ]
     },
     "metadata": {},
     "output_type": "display_data"
    },
    {
     "data": {
      "text/html": [
       "<ol class=list-inline>\n",
       "\t<li>1.4701287652457</li>\n",
       "\t<li>5.55423325088747</li>\n",
       "\t<li>7.60638314265678</li>\n",
       "\t<li>10.8678616857703</li>\n",
       "</ol>\n"
      ],
      "text/latex": [
       "\\begin{enumerate*}\n",
       "\\item 1.4701287652457\n",
       "\\item 5.55423325088747\n",
       "\\item 7.60638314265678\n",
       "\\item 10.8678616857703\n",
       "\\end{enumerate*}\n"
      ],
      "text/markdown": [
       "1. 1.4701287652457\n",
       "2. 5.55423325088747\n",
       "3. 7.60638314265678\n",
       "4. 10.8678616857703\n",
       "\n",
       "\n"
      ],
      "text/plain": [
       "[1]  1.470129  5.554233  7.606383 10.867862"
      ]
     },
     "metadata": {},
     "output_type": "display_data"
    },
    {
     "data": {
      "text/html": [
       "<ol class=list-inline>\n",
       "\t<li>9.877186937148</li>\n",
       "\t<li>9.20489129723571</li>\n",
       "\t<li>24.5517850716724</li>\n",
       "</ol>\n"
      ],
      "text/latex": [
       "\\begin{enumerate*}\n",
       "\\item 9.877186937148\n",
       "\\item 9.20489129723571\n",
       "\\item 24.5517850716724\n",
       "\\end{enumerate*}\n"
      ],
      "text/markdown": [
       "1. 9.877186937148\n",
       "2. 9.20489129723571\n",
       "3. 24.5517850716724\n",
       "\n",
       "\n"
      ],
      "text/plain": [
       "[1]  9.877187  9.204891 24.551785"
      ]
     },
     "metadata": {},
     "output_type": "display_data"
    },
    {
     "data": {
      "text/html": [
       "6.2335433826215"
      ],
      "text/latex": [
       "6.2335433826215"
      ],
      "text/markdown": [
       "6.2335433826215"
      ],
      "text/plain": [
       "[1] 6.233543"
      ]
     },
     "metadata": {},
     "output_type": "display_data"
    },
    {
     "data": {
      "text/html": [
       "12.556849225485"
      ],
      "text/latex": [
       "12.556849225485"
      ],
      "text/markdown": [
       "12.556849225485"
      ],
      "text/plain": [
       "[1] 12.55685"
      ]
     },
     "metadata": {},
     "output_type": "display_data"
    },
    {
     "data": {
      "text/html": [
       "<table>\n",
       "<thead><tr><th scope=col>births</th><th scope=col>completes</th></tr></thead>\n",
       "<tbody>\n",
       "</tbody>\n",
       "</table>\n"
      ],
      "text/latex": [
       "\\begin{tabular}{r|ll}\n",
       " births & completes\\\\\n",
       "\\hline\n",
       "\\end{tabular}\n"
      ],
      "text/markdown": [
       "\n",
       "births | completes | \n",
       "||\n",
       "\n",
       "\n"
      ],
      "text/plain": [
       "     births completes"
      ]
     },
     "metadata": {},
     "output_type": "display_data"
    },
    {
     "data": {
      "text/html": [
       "<table>\n",
       "<thead><tr><th scope=col>births</th><th scope=col>completes</th></tr></thead>\n",
       "<tbody>\n",
       "\t<tr><td>2.470129</td><td>9.42025 </td></tr>\n",
       "</tbody>\n",
       "</table>\n"
      ],
      "text/latex": [
       "\\begin{tabular}{r|ll}\n",
       " births & completes\\\\\n",
       "\\hline\n",
       "\t 2.470129 & 9.42025 \\\\\n",
       "\\end{tabular}\n"
      ],
      "text/markdown": [
       "\n",
       "births | completes | \n",
       "|---|\n",
       "| 2.470129 | 9.42025  | \n",
       "\n",
       "\n"
      ],
      "text/plain": [
       "  births   completes\n",
       "1 2.470129 9.42025  "
      ]
     },
     "metadata": {},
     "output_type": "display_data"
    },
    {
     "data": {
      "text/html": [
       "<table>\n",
       "<thead><tr><th scope=col>births</th><th scope=col>completes</th></tr></thead>\n",
       "<tbody>\n",
       "\t<tr><td>4.261479 </td><td>13.939024</td></tr>\n",
       "\t<tr><td>5.157121 </td><td> 8.679662</td></tr>\n",
       "\t<tr><td>5.649385 </td><td> 8.624457</td></tr>\n",
       "</tbody>\n",
       "</table>\n"
      ],
      "text/latex": [
       "\\begin{tabular}{r|ll}\n",
       " births & completes\\\\\n",
       "\\hline\n",
       "\t 4.261479  & 13.939024\\\\\n",
       "\t 5.157121  &  8.679662\\\\\n",
       "\t 5.649385  &  8.624457\\\\\n",
       "\\end{tabular}\n"
      ],
      "text/markdown": [
       "\n",
       "births | completes | \n",
       "|---|---|---|\n",
       "| 4.261479  | 13.939024 | \n",
       "| 5.157121  |  8.679662 | \n",
       "| 5.649385  |  8.624457 | \n",
       "\n",
       "\n"
      ],
      "text/plain": [
       "  births   completes\n",
       "1 4.261479 13.939024\n",
       "2 5.157121  8.679662\n",
       "3 5.649385  8.624457"
      ]
     },
     "metadata": {},
     "output_type": "display_data"
    },
    {
     "data": {
      "image/png": "[encoded data removed]",
      "text/plain": [
       "plot without title"
      ]
     },
     "metadata": {},
     "output_type": "display_data"
    }
   ],
   "source": [
    "\n",
    "empirical = replicate(6000, sum(rexp(n = 3)))\n",
    "\n",
    "mean(empirical)\n",
    "\n",
    "sd(empirical)\n",
    "\n",
    "sum(empirical <= 5)/length(empirical)\n",
    "\n",
    "rates = c(seq(0.1, 1, by = 0.1), seq(2, 7, by = 1))\n",
    "\n",
    "samples = lapply(rates, function(r) {\n",
    "             replicate(6000, sum(rexp(n = 3, rate = r))) })\n",
    "\n",
    "#pdf(\"BA_MCexample.pdf\", width = 8, height = 5)\n",
    "par(mar = c(2,4,1,1))\n",
    "plot(0, 0, xlim = c(-0.1, 10), ylim = c(0, 1), pch = \".\",\n",
    "     xlab=\"\", ylab=\"Cumulative Distribution\")\n",
    "xx = seq(-0.1, 20, by = 0.05)\n",
    "\n",
    "invisible(lapply(samples[-(19:20)], function(s) {\n",
    "  Fn = ecdf(s)\n",
    "  ptile = Fn(xx)\n",
    "  points(x = xx, y = ptile, type = \"l\")\n",
    "}))\n",
    "\n",
    "labs = c(1, 2, 3, 6, 10, 11, 16)\n",
    "xs = c(8,8,8,6, 4, 2, 0.75)\n",
    "poss = c(3,3,3, 2, 2, 2,2)\n",
    "mapply(function(lab, s, x, r, p) \n",
    "  {\n",
    "  Fn = ecdf(s)\n",
    "  text(x = x, y = Fn(x), labels = r, pos = p, cex = 0.8)\n",
    "}, lab = labs, s = samples[labs], x = xs, r = rates[labs], p = poss)\n",
    "\n",
    "dev.off()\n",
    "\n",
    "seedx = 116201412\n",
    "set.seed(seedx)\n",
    "\n",
    "kappa = 0.3\n",
    "d0 = rexp(1, rate = kappa)\n",
    "d0\n",
    "\n",
    "lambda = 0.5\n",
    "birth1 = rexp(1, rate = lambda)\n",
    "birth1\n",
    "\n",
    "itime = c(birth1, rexp(1, rate = lambda))\n",
    "itime\n",
    "\n",
    "itime = c(itime, rexp(1, rate = lambda))\n",
    "itime\n",
    "\n",
    "cumsum(itime)\n",
    "\n",
    "itime = c(itime, rexp(1, rate = lambda))\n",
    "btime = cumsum(itime)\n",
    "btime\n",
    "\n",
    "btime = btime[ btime < d0 ]\n",
    "\n",
    "dtime = d0 + rexp(n = length(btime), rate = kappa) \n",
    "dtime\n",
    "\n",
    "btime[1] + rexp(1, rate = lambda)\n",
    "\n",
    "dtime[1] + rexp(1, rate = kappa)\n",
    "\n",
    "genKids = \n",
    "function(bTime, cTime, lambda = 0.5, kappa = 0.3) \n",
    "{\n",
    "         # Parent job born at bTime and completes at cTime\n",
    "    \n",
    "         # Birth time of first child\n",
    "    mostRecent = rexp(1, rate = lambda) + bTime\n",
    "    kidBirths = numeric()\n",
    "\n",
    "    while (mostRecent < cTime) {\n",
    "      kidBirths = c(kidBirths, mostRecent)\n",
    "      mostRecent = mostRecent  + rexp(1, rate = lambda) \n",
    "    }\n",
    "    \n",
    "         # generate lifetimes for all offspring\n",
    "    numKids = length(kidBirths)\n",
    "    runtime = rexp(numKids, rate = kappa)\n",
    "    kidCompletes = rep(cTime, numKids) + runtime\n",
    "    \n",
    "    data.frame(births = kidBirths, \n",
    "               completes = kidCompletes)\n",
    "}\n",
    "\n",
    "set.seed(seedx)\n",
    "\n",
    "genKids(1, 6)\n",
    "\n",
    "genKids(1, 6)\n",
    "\n",
    "genKids(1, 6)\n",
    "\n",
    "genBirth = function(currentTime, cTime, \n",
    "                    births = numeric(), lambda = 0.5) {\n",
    "          \n",
    "         # Generate birth time of next job after currentTime\n",
    "    mostRecent = rexp(1, rate = lambda) + currentTime\n",
    "    \n",
    "    if (mostRecent > cTime) \n",
    "      return(births)\n",
    "    else {\n",
    "      births = c(births, mostRecent)\n",
    "      genBirth(currentTime = mostRecent, cTime, births, lambda)\n",
    "    }\n",
    "  }\n",
    "\n",
    "\n",
    "\n",
    "\n",
    "\n",
    "\n",
    "\n",
    "\n"
   ]
  },
  {
   "cell_type": "code",
   "execution_count": 2,
   "metadata": {
    "collapsed": false
   },
   "outputs": [
    {
     "data": {
      "text/html": [
       "2.503"
      ],
      "text/latex": [
       "2.503"
      ],
      "text/markdown": [
       "2.503"
      ],
      "text/plain": [
       "[1] 2.503"
      ]
     },
     "metadata": {},
     "output_type": "display_data"
    },
    {
     "data": {
      "image/png": "[encoded data removed]",
      "text/plain": [
       "plot without title"
      ]
     },
     "metadata": {},
     "output_type": "display_data"
    }
   ],
   "source": [
    "genKidsR = \n",
    "function(bTime, cTime, lambda = 0.5, kappa = 0.3) {\n",
    "         # Parent job born at bTime and completes at cTime\n",
    "    \n",
    "    kidBirths = genBirth(bTime, cTime, lambda = lambda)\n",
    "    \n",
    "         # generate lifetimes for all offspring\n",
    "    numKids = length(kidBirths)\n",
    "    runtime = rexp(numKids, rate = kappa)\n",
    "    kidDeaths = rep(cTime, numKids) + runtime\n",
    "    \n",
    "    data.frame(births = kidBirths, \n",
    "               completes = kidDeaths)\n",
    "} \n",
    "\n",
    "set.seed(seedx)\n",
    "\n",
    "numKids = replicate(1000, nrow(genKids(1, 6)))\n",
    "mean(numKids)\n",
    "\n",
    "eprobs = table(numKids)/length(numKids)\n",
    "probs = dpois(x = 0:max(numKids), lambda = 2.5)\n",
    "\n",
    "plot(eprobs, type = \"h\",\n",
    "     ylab = \"Proportion\", xlab = \"Number of offspring\")\n",
    "segments(x0 = 0.1 + 0:max(numKids), y0 = rep(0, max(numKids)), \n",
    "         y1 = probs, col=\"grey\", lwd = 2)"
   ]
  },
  {
   "cell_type": "code",
   "execution_count": 3,
   "metadata": {
    "collapsed": false
   },
   "outputs": [
    {
     "data": {
      "text/html": [
       "<strong>null device:</strong> 1"
      ],
      "text/latex": [
       "\\textbf{null device:} 1"
      ],
      "text/markdown": [
       "**null device:** 1"
      ],
      "text/plain": [
       "null device \n",
       "          1 "
      ]
     },
     "metadata": {},
     "output_type": "display_data"
    },
    {
     "data": {
      "text/html": [
       "0.994380309542424"
      ],
      "text/latex": [
       "0.994380309542424"
      ],
      "text/markdown": [
       "0.994380309542424"
      ],
      "text/plain": [
       "[1] 0.9943803"
      ]
     },
     "metadata": {},
     "output_type": "display_data"
    },
    {
     "data": {
      "image/png": "[encoded data removed]",
      "text/plain": [
       "plot without title"
      ]
     },
     "metadata": {},
     "output_type": "display_data"
    }
   ],
   "source": [
    "#pdf(\"numSimOffspring.pdf\", width = 8, height = 5)\n",
    "oldPar = par(mar = c(4.1, 4.1, 1, 1))\n",
    "\n",
    "plot(eprobs, type = \"h\",\n",
    "     ylab = \"Proportion\", xlab = \"Number of offspring\")\n",
    "segments(x0 = 0.1 + 0:max(numKids), \n",
    "         y0 = rep(0, max(numKids)), y1 = probs,\n",
    "         col=\"grey\", lwd = 2)\n",
    "\n",
    "par(oldPar)\n",
    "dev.off()\n",
    "\n",
    "obsCt = table(numKids)\n",
    "expCt = 1000* c(dpois(0:8, lambda = 2.5), \n",
    "                ppois(8, lower.tail = FALSE, lambda = 2.5))\n",
    "stat = sum((obsCt - expCt)^2/expCt)\n",
    "pchisq(stat, df = 9, lower.tail = FALSE)\n",
    "\n",
    "genKidsU = \n",
    "  function(bTime, cTime, lambda = 0.5, kappa = 0.3) {\n",
    "         # Generate the birth times and assassination times\n",
    "         # for the children of a job who is born at bTime \n",
    "         # and completed at cTime.\n",
    "    lambda = (cTime - bTime) * lambda\n",
    "    numKids = rpois(1, lambda = lambda)\n",
    "    kidBirths = sort(runif(numKids, min = bTime, max = cTime))\n",
    "    \n",
    "         # generate lifetimes for each offspring\n",
    "    runtime = rexp(numKids, rate = kappa)\n",
    "    kidDeaths = rep(cTime, numKids) + runtime\n",
    "    \n",
    "    return(data.frame(births = kidBirths, completes = kidDeaths))\n",
    "  }"
   ]
  },
  {
   "cell_type": "code",
   "execution_count": 4,
   "metadata": {
    "collapsed": false
   },
   "outputs": [
    {
     "data": {
      "text/plain": [
       "     user    system   elapsed \n",
       "0.8173913       NaN 0.8189655 "
      ]
     },
     "metadata": {},
     "output_type": "display_data"
    },
    {
     "data": {
      "text/plain": [
       "    user   system  elapsed \n",
       "1.222222      NaN 1.230769 "
      ]
     },
     "metadata": {},
     "output_type": "display_data"
    },
    {
     "data": {
      "text/html": [
       "<table>\n",
       "<thead><tr><th></th><th scope=col>self.time</th><th scope=col>self.pct</th><th scope=col>total.time</th><th scope=col>total.pct</th></tr></thead>\n",
       "<tbody>\n",
       "\t<tr><th scope=row>\"genKids\"</th><td>0.06  </td><td>16.67 </td><td>0.36  </td><td>100.00</td></tr>\n",
       "\t<tr><th scope=row>\"data.frame\"</th><td>0.04  </td><td>11.11 </td><td>0.24  </td><td> 66.67</td></tr>\n",
       "\t<tr><th scope=row>\"rexp\"</th><td>0.04  </td><td>11.11 </td><td>0.04  </td><td> 11.11</td></tr>\n",
       "\t<tr><th scope=row>\"lapply\"</th><td>0.02  </td><td> 5.56 </td><td>0.36  </td><td>100.00</td></tr>\n",
       "\t<tr><th scope=row>\"as.data.frame\"</th><td>0.02  </td><td> 5.56 </td><td>0.14  </td><td> 38.89</td></tr>\n",
       "\t<tr><th scope=row>\"%in%\"</th><td>0.02  </td><td> 5.56 </td><td>0.08  </td><td> 22.22</td></tr>\n",
       "\t<tr><th scope=row>\".deparseOpts\"</th><td>0.02  </td><td> 5.56 </td><td>0.06  </td><td> 16.67</td></tr>\n",
       "\t<tr><th scope=row>\"make.names\"</th><td>0.02  </td><td> 5.56 </td><td>0.06  </td><td> 16.67</td></tr>\n",
       "\t<tr><th scope=row>\"mode\"</th><td>0.02  </td><td> 5.56 </td><td>0.06  </td><td> 16.67</td></tr>\n",
       "\t<tr><th scope=row>\"structure\"</th><td>0.02  </td><td> 5.56 </td><td>0.04  </td><td> 11.11</td></tr>\n",
       "\t<tr><th scope=row>\"unlist\"</th><td>0.02  </td><td> 5.56 </td><td>0.04  </td><td> 11.11</td></tr>\n",
       "\t<tr><th scope=row>\"any\"</th><td>0.02  </td><td> 5.56 </td><td>0.02  </td><td>  5.56</td></tr>\n",
       "\t<tr><th scope=row>\"c\"</th><td>0.02  </td><td> 5.56 </td><td>0.02  </td><td>  5.56</td></tr>\n",
       "\t<tr><th scope=row>\"sum\"</th><td>0.02  </td><td> 5.56 </td><td>0.02  </td><td>  5.56</td></tr>\n",
       "</tbody>\n",
       "</table>\n"
      ],
      "text/latex": [
       "\\begin{tabular}{r|llll}\n",
       "  & self.time & self.pct & total.time & total.pct\\\\\n",
       "\\hline\n",
       "\t\"genKids\" & 0.06   & 16.67  & 0.36   & 100.00\\\\\n",
       "\t\"data.frame\" & 0.04   & 11.11  & 0.24   &  66.67\\\\\n",
       "\t\"rexp\" & 0.04   & 11.11  & 0.04   &  11.11\\\\\n",
       "\t\"lapply\" & 0.02   &  5.56  & 0.36   & 100.00\\\\\n",
       "\t\"as.data.frame\" & 0.02   &  5.56  & 0.14   &  38.89\\\\\n",
       "\t\"\\%in\\%\" & 0.02   &  5.56  & 0.08   &  22.22\\\\\n",
       "\t\".deparseOpts\" & 0.02   &  5.56  & 0.06   &  16.67\\\\\n",
       "\t\"make.names\" & 0.02   &  5.56  & 0.06   &  16.67\\\\\n",
       "\t\"mode\" & 0.02   &  5.56  & 0.06   &  16.67\\\\\n",
       "\t\"structure\" & 0.02   &  5.56  & 0.04   &  11.11\\\\\n",
       "\t\"unlist\" & 0.02   &  5.56  & 0.04   &  11.11\\\\\n",
       "\t\"any\" & 0.02   &  5.56  & 0.02   &   5.56\\\\\n",
       "\t\"c\" & 0.02   &  5.56  & 0.02   &   5.56\\\\\n",
       "\t\"sum\" & 0.02   &  5.56  & 0.02   &   5.56\\\\\n",
       "\\end{tabular}\n"
      ],
      "text/markdown": [
       "\n",
       "| <!--/--> | self.time | self.pct | total.time | total.pct | \n",
       "|---|---|---|---|---|---|---|---|---|---|---|---|---|---|\n",
       "| \"genKids\" | 0.06   | 16.67  | 0.36   | 100.00 | \n",
       "| \"data.frame\" | 0.04   | 11.11  | 0.24   |  66.67 | \n",
       "| \"rexp\" | 0.04   | 11.11  | 0.04   |  11.11 | \n",
       "| \"lapply\" | 0.02   |  5.56  | 0.36   | 100.00 | \n",
       "| \"as.data.frame\" | 0.02   |  5.56  | 0.14   |  38.89 | \n",
       "| \"%in%\" | 0.02   |  5.56  | 0.08   |  22.22 | \n",
       "| \".deparseOpts\" | 0.02   |  5.56  | 0.06   |  16.67 | \n",
       "| \"make.names\" | 0.02   |  5.56  | 0.06   |  16.67 | \n",
       "| \"mode\" | 0.02   |  5.56  | 0.06   |  16.67 | \n",
       "| \"structure\" | 0.02   |  5.56  | 0.04   |  11.11 | \n",
       "| \"unlist\" | 0.02   |  5.56  | 0.04   |  11.11 | \n",
       "| \"any\" | 0.02   |  5.56  | 0.02   |   5.56 | \n",
       "| \"c\" | 0.02   |  5.56  | 0.02   |   5.56 | \n",
       "| \"sum\" | 0.02   |  5.56  | 0.02   |   5.56 | \n",
       "\n",
       "\n"
      ],
      "text/plain": [
       "                self.time self.pct total.time total.pct\n",
       "\"genKids\"       0.06      16.67    0.36       100.00   \n",
       "\"data.frame\"    0.04      11.11    0.24        66.67   \n",
       "\"rexp\"          0.04      11.11    0.04        11.11   \n",
       "\"lapply\"        0.02       5.56    0.36       100.00   \n",
       "\"as.data.frame\" 0.02       5.56    0.14        38.89   \n",
       "\"%in%\"          0.02       5.56    0.08        22.22   \n",
       "\".deparseOpts\"  0.02       5.56    0.06        16.67   \n",
       "\"make.names\"    0.02       5.56    0.06        16.67   \n",
       "\"mode\"          0.02       5.56    0.06        16.67   \n",
       "\"structure\"     0.02       5.56    0.04        11.11   \n",
       "\"unlist\"        0.02       5.56    0.04        11.11   \n",
       "\"any\"           0.02       5.56    0.02         5.56   \n",
       "\"c\"             0.02       5.56    0.02         5.56   \n",
       "\"sum\"           0.02       5.56    0.02         5.56   "
      ]
     },
     "metadata": {},
     "output_type": "display_data"
    },
    {
     "data": {
      "text/html": [
       "<table>\n",
       "<thead><tr><th></th><th scope=col>self.time</th><th scope=col>self.pct</th><th scope=col>total.time</th><th scope=col>total.pct</th></tr></thead>\n",
       "<tbody>\n",
       "\t<tr><th scope=row>\"data.frame\"</th><td>0.08  </td><td>26.67 </td><td>0.24  </td><td> 80.00</td></tr>\n",
       "\t<tr><th scope=row>\"eval\"</th><td>0.02  </td><td> 6.67 </td><td>0.30  </td><td>100.00</td></tr>\n",
       "\t<tr><th scope=row>\"as.data.frame\"</th><td>0.02  </td><td> 6.67 </td><td>0.10  </td><td> 33.33</td></tr>\n",
       "\t<tr><th scope=row>\"force\"</th><td>0.02  </td><td> 6.67 </td><td>0.06  </td><td> 20.00</td></tr>\n",
       "\t<tr><th scope=row>\"match.arg\"</th><td>0.02  </td><td> 6.67 </td><td>0.06  </td><td> 20.00</td></tr>\n",
       "\t<tr><th scope=row>\"%in%\"</th><td>0.02  </td><td> 6.67 </td><td>0.04  </td><td> 13.33</td></tr>\n",
       "\t<tr><th scope=row>\"as.list.default\"</th><td>0.02  </td><td> 6.67 </td><td>0.02  </td><td>  6.67</td></tr>\n",
       "\t<tr><th scope=row>\"length\"</th><td>0.02  </td><td> 6.67 </td><td>0.02  </td><td>  6.67</td></tr>\n",
       "\t<tr><th scope=row>\"pmatch\"</th><td>0.02  </td><td> 6.67 </td><td>0.02  </td><td>  6.67</td></tr>\n",
       "\t<tr><th scope=row>\"structure\"</th><td>0.02  </td><td> 6.67 </td><td>0.02  </td><td>  6.67</td></tr>\n",
       "\t<tr><th scope=row>\"sys.function\"</th><td>0.02  </td><td> 6.67 </td><td>0.02  </td><td>  6.67</td></tr>\n",
       "\t<tr><th scope=row>\"unlist\"</th><td>0.02  </td><td> 6.67 </td><td>0.02  </td><td>  6.67</td></tr>\n",
       "</tbody>\n",
       "</table>\n"
      ],
      "text/latex": [
       "\\begin{tabular}{r|llll}\n",
       "  & self.time & self.pct & total.time & total.pct\\\\\n",
       "\\hline\n",
       "\t\"data.frame\" & 0.08   & 26.67  & 0.24   &  80.00\\\\\n",
       "\t\"eval\" & 0.02   &  6.67  & 0.30   & 100.00\\\\\n",
       "\t\"as.data.frame\" & 0.02   &  6.67  & 0.10   &  33.33\\\\\n",
       "\t\"force\" & 0.02   &  6.67  & 0.06   &  20.00\\\\\n",
       "\t\"match.arg\" & 0.02   &  6.67  & 0.06   &  20.00\\\\\n",
       "\t\"\\%in\\%\" & 0.02   &  6.67  & 0.04   &  13.33\\\\\n",
       "\t\"as.list.default\" & 0.02   &  6.67  & 0.02   &   6.67\\\\\n",
       "\t\"length\" & 0.02   &  6.67  & 0.02   &   6.67\\\\\n",
       "\t\"pmatch\" & 0.02   &  6.67  & 0.02   &   6.67\\\\\n",
       "\t\"structure\" & 0.02   &  6.67  & 0.02   &   6.67\\\\\n",
       "\t\"sys.function\" & 0.02   &  6.67  & 0.02   &   6.67\\\\\n",
       "\t\"unlist\" & 0.02   &  6.67  & 0.02   &   6.67\\\\\n",
       "\\end{tabular}\n"
      ],
      "text/markdown": [
       "\n",
       "| <!--/--> | self.time | self.pct | total.time | total.pct | \n",
       "|---|---|---|---|---|---|---|---|---|---|---|---|\n",
       "| \"data.frame\" | 0.08   | 26.67  | 0.24   |  80.00 | \n",
       "| \"eval\" | 0.02   |  6.67  | 0.30   | 100.00 | \n",
       "| \"as.data.frame\" | 0.02   |  6.67  | 0.10   |  33.33 | \n",
       "| \"force\" | 0.02   |  6.67  | 0.06   |  20.00 | \n",
       "| \"match.arg\" | 0.02   |  6.67  | 0.06   |  20.00 | \n",
       "| \"%in%\" | 0.02   |  6.67  | 0.04   |  13.33 | \n",
       "| \"as.list.default\" | 0.02   |  6.67  | 0.02   |   6.67 | \n",
       "| \"length\" | 0.02   |  6.67  | 0.02   |   6.67 | \n",
       "| \"pmatch\" | 0.02   |  6.67  | 0.02   |   6.67 | \n",
       "| \"structure\" | 0.02   |  6.67  | 0.02   |   6.67 | \n",
       "| \"sys.function\" | 0.02   |  6.67  | 0.02   |   6.67 | \n",
       "| \"unlist\" | 0.02   |  6.67  | 0.02   |   6.67 | \n",
       "\n",
       "\n"
      ],
      "text/plain": [
       "                  self.time self.pct total.time total.pct\n",
       "\"data.frame\"      0.08      26.67    0.24        80.00   \n",
       "\"eval\"            0.02       6.67    0.30       100.00   \n",
       "\"as.data.frame\"   0.02       6.67    0.10        33.33   \n",
       "\"force\"           0.02       6.67    0.06        20.00   \n",
       "\"match.arg\"       0.02       6.67    0.06        20.00   \n",
       "\"%in%\"            0.02       6.67    0.04        13.33   \n",
       "\"as.list.default\" 0.02       6.67    0.02         6.67   \n",
       "\"length\"          0.02       6.67    0.02         6.67   \n",
       "\"pmatch\"          0.02       6.67    0.02         6.67   \n",
       "\"structure\"       0.02       6.67    0.02         6.67   \n",
       "\"sys.function\"    0.02       6.67    0.02         6.67   \n",
       "\"unlist\"          0.02       6.67    0.02         6.67   "
      ]
     },
     "metadata": {},
     "output_type": "display_data"
    }
   ],
   "source": [
    "seedx = 116201412\n",
    "set.seed(seedx)\n",
    "\n",
    "time1 = system.time( replicate(4000, genKids(1, cTime = 9)) )\n",
    "time2 = system.time( replicate(4000, genKidsU(1, cTime = 9)) )\n",
    "\n",
    "time1/time2\n",
    "\n",
    "time1 = system.time( replicate(4000, genKids(1, cTime = 100)) )\n",
    "time2 = system.time( replicate(4000, genKidsU(1, cTime = 100)) )\n",
    "time1/time2\n",
    "\n",
    "set.seed(seedx)\n",
    "Rprof(\"profGenKids1.out\")\n",
    "invisible( replicate(1000, genKids(1, cTime = 100)) )\n",
    "Rprof(NULL)\n",
    "\n",
    "summaryRprof(\"profGenKids1.out\")$by.self\n",
    "\n",
    "set.seed(seedx)\n",
    "Rprof(\"profGenKidsU.out\")\n",
    "invisible( replicate(1000, genKidsU(1, cTime = 100)) )\n",
    "Rprof(NULL)\n",
    "summaryRprof(\"profGenKidsU.out\")$by.self\n",
    "\n",
    "genKidsV = function(bTimes, cTimes, lambda = 0.5, kappa = 0.3) {\n",
    "       # bTimes & cTimes - vector of birth and completion times\n",
    "\n",
    "       # Determine how many children each job has\n",
    "  parentAge = cTimes - bTimes\n",
    "  numKids = rpois(n = length(parentAge), \n",
    "                  lambda = lambda*parentAge)\n",
    "  \n",
    "       # Determine the birth and completion times of the children\n",
    "  mapply(function(n, min, max) {\n",
    "            births = sort(runif(n, min, max))\n",
    "            runtimes = rexp(n, rate = kappa)\n",
    "            completes = rep(max, n) + runtimes\n",
    "            data.frame(births, completes)\n",
    "         },\n",
    "         n = numKids , min = bTimes, max = cTimes,\n",
    "         SIMPLIFY = FALSE)\n",
    "}"
   ]
  },
  {
   "cell_type": "code",
   "execution_count": 5,
   "metadata": {
    "collapsed": false
   },
   "outputs": [
    {
     "data": {
      "text/html": [
       "<ol>\n",
       "\t<li><table>\n",
       "<thead><tr><th scope=col>births</th><th scope=col>completes</th></tr></thead>\n",
       "<tbody>\n",
       "\t<tr><td>2.936936</td><td>8.919043</td></tr>\n",
       "</tbody>\n",
       "</table>\n",
       "</li>\n",
       "\t<li><table>\n",
       "<thead><tr><th scope=col>births</th><th scope=col>completes</th></tr></thead>\n",
       "<tbody>\n",
       "\t<tr><td>2.170295</td><td>10.31738</td></tr>\n",
       "\t<tr><td>3.195751</td><td>15.17299</td></tr>\n",
       "\t<tr><td>8.713876</td><td>16.03113</td></tr>\n",
       "</tbody>\n",
       "</table>\n",
       "</li>\n",
       "\t<li><table>\n",
       "<thead><tr><th scope=col>births</th><th scope=col>completes</th></tr></thead>\n",
       "<tbody>\n",
       "\t<tr><td> 3.172955</td><td>16.76033 </td></tr>\n",
       "\t<tr><td> 5.496738</td><td>15.50458 </td></tr>\n",
       "\t<tr><td> 9.779638</td><td>20.46424 </td></tr>\n",
       "\t<tr><td>10.325540</td><td>24.80465 </td></tr>\n",
       "</tbody>\n",
       "</table>\n",
       "</li>\n",
       "</ol>\n"
      ],
      "text/latex": [
       "\\begin{enumerate}\n",
       "\\item \\begin{tabular}{r|ll}\n",
       " births & completes\\\\\n",
       "\\hline\n",
       "\t 2.936936 & 8.919043\\\\\n",
       "\\end{tabular}\n",
       "\n",
       "\\item \\begin{tabular}{r|ll}\n",
       " births & completes\\\\\n",
       "\\hline\n",
       "\t 2.170295 & 10.31738\\\\\n",
       "\t 3.195751 & 15.17299\\\\\n",
       "\t 8.713876 & 16.03113\\\\\n",
       "\\end{tabular}\n",
       "\n",
       "\\item \\begin{tabular}{r|ll}\n",
       " births & completes\\\\\n",
       "\\hline\n",
       "\t  3.172955 & 16.76033 \\\\\n",
       "\t  5.496738 & 15.50458 \\\\\n",
       "\t  9.779638 & 20.46424 \\\\\n",
       "\t 10.325540 & 24.80465 \\\\\n",
       "\\end{tabular}\n",
       "\n",
       "\\end{enumerate}\n"
      ],
      "text/markdown": [
       "1. \n",
       "births | completes | \n",
       "|---|\n",
       "| 2.936936 | 8.919043 | \n",
       "\n",
       "\n",
       "\n",
       "2. \n",
       "births | completes | \n",
       "|---|---|---|\n",
       "| 2.170295 | 10.31738 | \n",
       "| 3.195751 | 15.17299 | \n",
       "| 8.713876 | 16.03113 | \n",
       "\n",
       "\n",
       "\n",
       "3. \n",
       "births | completes | \n",
       "|---|---|---|---|\n",
       "|  3.172955 | 16.76033  | \n",
       "|  5.496738 | 15.50458  | \n",
       "|  9.779638 | 20.46424  | \n",
       "| 10.325540 | 24.80465  | \n",
       "\n",
       "\n",
       "\n",
       "\n",
       "\n"
      ],
      "text/plain": [
       "[[1]]\n",
       "    births completes\n",
       "1 2.936936  8.919043\n",
       "\n",
       "[[2]]\n",
       "    births completes\n",
       "1 2.170295  10.31738\n",
       "2 3.195751  15.17299\n",
       "3 8.713876  16.03113\n",
       "\n",
       "[[3]]\n",
       "     births completes\n",
       "1  3.172955  16.76033\n",
       "2  5.496738  15.50458\n",
       "3  9.779638  20.46424\n",
       "4 10.325540  24.80465\n"
      ]
     },
     "metadata": {},
     "output_type": "display_data"
    },
    {
     "data": {
      "text/html": [
       "<ol class=list-inline>\n",
       "\t<li>2</li>\n",
       "\t<li>4</li>\n",
       "\t<li>6</li>\n",
       "</ol>\n"
      ],
      "text/latex": [
       "\\begin{enumerate*}\n",
       "\\item 2\n",
       "\\item 4\n",
       "\\item 6\n",
       "\\end{enumerate*}\n"
      ],
      "text/markdown": [
       "1. 2\n",
       "2. 4\n",
       "3. 6\n",
       "\n",
       "\n"
      ],
      "text/plain": [
       "[1] 2 4 6"
      ]
     },
     "metadata": {},
     "output_type": "display_data"
    },
    {
     "data": {
      "text/html": [
       "TRUE"
      ],
      "text/latex": [
       "TRUE"
      ],
      "text/markdown": [
       "TRUE"
      ],
      "text/plain": [
       "[1] TRUE"
      ]
     },
     "metadata": {},
     "output_type": "display_data"
    }
   ],
   "source": [
    "bTimes1 = 1:3\n",
    "cTimes1 = c(3, 10, 15)\n",
    "\n",
    "seed1 = 12062013\n",
    "set.seed(seed1)\n",
    "\n",
    "kids = genKidsV(bTimes1, cTimes1)\n",
    "kids\n",
    "\n",
    "\n",
    "kids2 = genKidsV(bTimes1, cTimes1)\n",
    "sapply(kids2, nrow)\n",
    "\n",
    "set.seed(seed1)\n",
    "kids3 = genKidsV(bTimes = bTimes1, cTimes = cTimes1)\n",
    "identical(kids, kids3)\n",
    "\n",
    "genKidsV = function(bTimes, cTimes, parentID, lambda = 0.5, kappa = 0.3) {\n",
    "       # Determine how many children each job has\n",
    "  parentAge = cTimes - bTimes\n",
    "  numKids = rpois(n = length(parentAge), lambda = lambda * parentAge)\n",
    "  \n",
    "  if (sum(numKids) == 0) return(NULL)\n",
    "  \n",
    "       # Determine the birth times of the children  \n",
    "  kidStats = \n",
    "    mapply(function(n, min, max) {\n",
    "      births = sort(runif(n, min, max))\n",
    "      runtimes = rexp(n, rate = kappa)\n",
    "      completes = rep(max, n) + runtimes\n",
    "      data.frame(births, completes)\n",
    "    },\n",
    "           n = numKids , min = bTimes, max = cTimes, \n",
    "           SIMPLIFY = FALSE)\n",
    "  \n",
    " \n",
    "  return(data.frame(parentID = rep(parentID, numKids),\n",
    "                    kidID = 1:sum(numKids), \n",
    "                    births = unlist(lapply(kidStats, \"[[\", \"births\")), \n",
    "                    completes = unlist(lapply(kidStats,\"[[\", \"completes\"))\n",
    "                    ))\n",
    "}"
   ]
  },
  {
   "cell_type": "code",
   "execution_count": 6,
   "metadata": {
    "collapsed": false
   },
   "outputs": [
    {
     "data": {
      "text/html": [
       "<table>\n",
       "<thead><tr><th scope=col>parentID</th><th scope=col>kidID</th><th scope=col>births</th><th scope=col>completes</th></tr></thead>\n",
       "<tbody>\n",
       "\t<tr><td>a        </td><td>1        </td><td> 2.936936</td><td> 8.919043</td></tr>\n",
       "\t<tr><td>b        </td><td>2        </td><td> 2.170295</td><td>10.317380</td></tr>\n",
       "\t<tr><td>b        </td><td>3        </td><td> 3.195751</td><td>15.172991</td></tr>\n",
       "\t<tr><td>b        </td><td>4        </td><td> 8.713876</td><td>16.031133</td></tr>\n",
       "\t<tr><td>c        </td><td>5        </td><td> 3.172955</td><td>16.760326</td></tr>\n",
       "\t<tr><td>c        </td><td>6        </td><td> 5.496738</td><td>15.504584</td></tr>\n",
       "\t<tr><td>c        </td><td>7        </td><td> 9.779638</td><td>20.464240</td></tr>\n",
       "\t<tr><td>c        </td><td>8        </td><td>10.325540</td><td>24.804648</td></tr>\n",
       "</tbody>\n",
       "</table>\n"
      ],
      "text/latex": [
       "\\begin{tabular}{r|llll}\n",
       " parentID & kidID & births & completes\\\\\n",
       "\\hline\n",
       "\t a         & 1         &  2.936936 &  8.919043\\\\\n",
       "\t b         & 2         &  2.170295 & 10.317380\\\\\n",
       "\t b         & 3         &  3.195751 & 15.172991\\\\\n",
       "\t b         & 4         &  8.713876 & 16.031133\\\\\n",
       "\t c         & 5         &  3.172955 & 16.760326\\\\\n",
       "\t c         & 6         &  5.496738 & 15.504584\\\\\n",
       "\t c         & 7         &  9.779638 & 20.464240\\\\\n",
       "\t c         & 8         & 10.325540 & 24.804648\\\\\n",
       "\\end{tabular}\n"
      ],
      "text/markdown": [
       "\n",
       "parentID | kidID | births | completes | \n",
       "|---|---|---|---|---|---|---|---|\n",
       "| a         | 1         |  2.936936 |  8.919043 | \n",
       "| b         | 2         |  2.170295 | 10.317380 | \n",
       "| b         | 3         |  3.195751 | 15.172991 | \n",
       "| b         | 4         |  8.713876 | 16.031133 | \n",
       "| c         | 5         |  3.172955 | 16.760326 | \n",
       "| c         | 6         |  5.496738 | 15.504584 | \n",
       "| c         | 7         |  9.779638 | 20.464240 | \n",
       "| c         | 8         | 10.325540 | 24.804648 | \n",
       "\n",
       "\n"
      ],
      "text/plain": [
       "  parentID kidID births    completes\n",
       "1 a        1      2.936936  8.919043\n",
       "2 b        2      2.170295 10.317380\n",
       "3 b        3      3.195751 15.172991\n",
       "4 b        4      8.713876 16.031133\n",
       "5 c        5      3.172955 16.760326\n",
       "6 c        6      5.496738 15.504584\n",
       "7 c        7      9.779638 20.464240\n",
       "8 c        8     10.325540 24.804648"
      ]
     },
     "metadata": {},
     "output_type": "display_data"
    }
   ],
   "source": [
    "set.seed(seed1)\n",
    "genKidsV(bTimes1, cTimes1, parentID = letters[1:3])\n",
    "\n",
    "familyTree = function(lambda = 0.5, kappa = 0.3, maxGen = 10) {\n",
    "       # maxGen - maximum number of generations to observe\n",
    "       # Return value - a list with 1 data frame per generation.\n",
    "  allGens = vector(mode = \"list\", length = maxGen)\n",
    "  \n",
    "       # Generate the root of the tree\n",
    "  allGens[[1]] = data.frame(parentID = NA, kidID = 1, births = 0,\n",
    "                            completes = rexp(1, rate = kappa))\n",
    "  \n",
    "       # Generate future generations, one at a time.\n",
    "  for (i in 2:maxGen) {\n",
    "    nextGen = genKidsV(bTimes = allGens[[ (i - 1) ]]$births,\n",
    "                       cTimes = allGens[[ (i - 1) ]]$completes,\n",
    "                       parentID = allGens[[ (i - 1) ]]$kidID,\n",
    "                       lambda = lambda, kappa = kappa)\n",
    "    if (is.null(nextGen)) return(allGens[ 1:(i - 1) ])\n",
    "    allGens[[ i ]] = nextGen\n",
    "  }\n",
    "  \n",
    "  return(allGens)\n",
    "}\n",
    "\n",
    "set.seed(seed1)\n",
    "tree = familyTree(lambda = 0.4, kappa = 1, maxGen = 10)"
   ]
  },
  {
   "cell_type": "code",
   "execution_count": 45,
   "metadata": {
    "collapsed": false
   },
   "outputs": [
    {
     "name": "stderr",
     "output_type": "stream",
     "text": [
      "Warning message in is.na(nextGen$births):\n",
      "\"is.na() applied to non-(list or vector) of type 'NULL'\""
     ]
    },
    {
     "data": {
      "text/html": [
       "<ol>\n",
       "\t<li>NULL</li>\n",
       "\t<li>NULL</li>\n",
       "\t<li>NULL</li>\n",
       "\t<li>NULL</li>\n",
       "</ol>\n"
      ],
      "text/latex": [
       "\\begin{enumerate}\n",
       "\\item NULL\n",
       "\\item NULL\n",
       "\\item NULL\n",
       "\\item NULL\n",
       "\\end{enumerate}\n"
      ],
      "text/markdown": [
       "1. NULL\n",
       "2. NULL\n",
       "3. NULL\n",
       "4. NULL\n",
       "\n",
       "\n"
      ],
      "text/plain": [
       "[[1]]\n",
       "NULL\n",
       "\n",
       "[[2]]\n",
       "NULL\n",
       "\n",
       "[[3]]\n",
       "NULL\n",
       "\n",
       "[[4]]\n",
       "NULL\n"
      ]
     },
     "metadata": {},
     "output_type": "display_data"
    },
    {
     "data": {
      "text/html": [
       "<strong>null device:</strong> 1"
      ],
      "text/latex": [
       "\\textbf{null device:} 1"
      ],
      "text/markdown": [
       "**null device:** 1"
      ],
      "text/plain": [
       "null device \n",
       "          1 "
      ]
     },
     "metadata": {},
     "output_type": "display_data"
    },
    {
     "data": {
      "image/png": "[encoded data removed]",
      "text/plain": [
       "plot without title"
      ]
     },
     "metadata": {},
     "output_type": "display_data"
    }
   ],
   "source": [
    "#pdf(\"BA_FamilyTree.pdf\", width = 8, height = 5)\n",
    "oldPar = par(mar = c(4.1, 4.1, 0.5, 0.5))\n",
    "\n",
    "set.seed(seed1)\n",
    "g = familyTree(lambda = 0.4, kappa = 1, maxGen = 10)\n",
    "\n",
    "maxLife = max(sapply(g, function(gen) max(gen$completes)))\n",
    "numFamily = sum(sapply(g, nrow))\n",
    "\n",
    "plot(0,0, ylim = c(0.5, numFamily + 0.5), xlim = c(0, maxLife),\n",
    "     xlab = \"Time\", ylab = \"\", type =\"n\",\n",
    "     axes = FALSE)\n",
    "\n",
    "box()\n",
    "axis(1)\n",
    "numGen = length(g)\n",
    "numKids = sapply(g, nrow)\n",
    "treeN = g[ 2:(numGen + 1) ]\n",
    "birthNum = c(0, cumsum(sapply(g, nrow))[ -length(g)])\n",
    "axis(2, at = birthNum + 1, \n",
    "     labels = paste(\"Gen\", 1:numGen), tick = FALSE, las = 1)\n",
    "\n",
    "mapply(function(gen, nextGen, birthNum) {\n",
    "  birthOrder = birthNum + (1:nrow(gen))\n",
    "  segments(x0 = gen$births, x1 = gen$completes, y0 = birthOrder,\n",
    "          lwd = 3, col = \"grey\")\n",
    "  abline(h = 0.5 + max(birthOrder), lty = 2, col=\"black\" )\n",
    "  if (all(!is.na(nextGen$births)))\n",
    "  points(x = nextGen$births, y = birthOrder[nextGen$parentID],\n",
    "         pch = 4)\n",
    "  },\n",
    "  gen = g, nextGen = treeN, birthNum = birthNum )\n",
    "par(oldPar)\n",
    "dev.off()"
   ]
  },
  {
   "cell_type": "code",
   "execution_count": 10,
   "metadata": {
    "collapsed": false
   },
   "outputs": [
    {
     "name": "stderr",
     "output_type": "stream",
     "text": [
      "Warning message:\n",
      "\"package 'igraph' was built under R version 3.4.4\"\n",
      "Attaching package: 'igraph'\n",
      "\n",
      "The following objects are masked from 'package:stats':\n",
      "\n",
      "    decompose, spectrum\n",
      "\n",
      "The following object is masked from 'package:base':\n",
      "\n",
      "    union\n",
      "\n"
     ]
    }
   ],
   "source": [
    "library(igraph)"
   ]
  },
  {
   "cell_type": "code",
   "execution_count": 74,
   "metadata": {
    "collapsed": false
   },
   "outputs": [
    {
     "data": {
      "image/png": "[encoded data removed]",
      "text/plain": [
       "Plot with title \"\""
      ]
     },
     "metadata": {},
     "output_type": "display_data"
    }
   ],
   "source": [
    "gen1<-c( \"g1 start\",\"g1 birth 1\",   \"g1 birth 1\", \"g1 birth 2\",   \"g1 birth 2\", \"g1 term\")\n",
    "gen21<-c(\"g2-1 start\",\"g2-1 birth 1\", \"g2-1 birth 1\", \"g2-1 birth 2\", \"g2-1 birth 2\", \"g2-1 term\")\n",
    "gen1_21<-c(\"g1 birth 1\", \"g2-1 start\")\n",
    "gen1_22<-c(\"g1 birth 2\", \"g2-2 start\")\n",
    "gen22<-c(\"g2-2 start\",\"g2-2 birth 1\", \"g2-2 birth 1\", \"g2-2 term\")\n",
    "x=c(gen1,gen21,gen1_21, gen1_22, gen22)\n",
    "g1 <- graph( edges=x, directed=F )\n",
    "v1<-c(0,0) #g1 start 1\n",
    "v2<-c(0,tree[[1]][[4]])\n",
    "v3<-c(0,2)\n",
    "v4<-c(0,3)\n",
    "v5<-c(-5,tree[[2]][[1,3]])\n",
    "v6<-c(-5,2)\n",
    "v7<-c(-5,3)\n",
    "v8<-c(-5,4)\n",
    "v9<-c(5,tree[[2]][[2,3]])\n",
    "v10<-c(5,3)\n",
    "v11<-c(5,4)\n",
    "v12<-c(11,11)\n",
    "coord<-rbind(v1,v2,v3,v4,v5,v6,v7,v8,v9,v10,v11)\n",
    "plot(g1,layout=coord)\n"
   ]
  },
  {
   "cell_type": "code",
   "execution_count": 75,
   "metadata": {
    "collapsed": false
   },
   "outputs": [
    {
     "data": {
      "text/html": [
       "<ol>\n",
       "\t<li><table>\n",
       "<thead><tr><th scope=col>parentID</th><th scope=col>kidID</th><th scope=col>births</th><th scope=col>completes</th></tr></thead>\n",
       "<tbody>\n",
       "\t<tr><td>NA       </td><td>1        </td><td>0        </td><td>0.8244658</td></tr>\n",
       "</tbody>\n",
       "</table>\n",
       "</li>\n",
       "\t<li><table>\n",
       "<thead><tr><th scope=col>parentID</th><th scope=col>kidID</th><th scope=col>births</th><th scope=col>completes</th></tr></thead>\n",
       "<tbody>\n",
       "\t<tr><td>1        </td><td>1        </td><td>0.1908525</td><td>0.9280697</td></tr>\n",
       "\t<tr><td>1        </td><td>2        </td><td>0.4631948</td><td>4.6525607</td></tr>\n",
       "</tbody>\n",
       "</table>\n",
       "</li>\n",
       "\t<li><table>\n",
       "<thead><tr><th scope=col>parentID</th><th scope=col>kidID</th><th scope=col>births</th><th scope=col>completes</th></tr></thead>\n",
       "<tbody>\n",
       "\t<tr><td>1        </td><td>1        </td><td>0.2921203</td><td>2.479967 </td></tr>\n",
       "\t<tr><td>1        </td><td>2        </td><td>0.7177455</td><td>2.737410 </td></tr>\n",
       "\t<tr><td>2        </td><td>3        </td><td>1.3348405</td><td>4.782500 </td></tr>\n",
       "</tbody>\n",
       "</table>\n",
       "</li>\n",
       "\t<li><table>\n",
       "<thead><tr><th scope=col>parentID</th><th scope=col>kidID</th><th scope=col>births</th><th scope=col>completes</th></tr></thead>\n",
       "<tbody>\n",
       "\t<tr><td>2       </td><td>1       </td><td>2.574217</td><td>4.291288</td></tr>\n",
       "\t<tr><td>3       </td><td>2       </td><td>2.593132</td><td>5.500965</td></tr>\n",
       "\t<tr><td>3       </td><td>3       </td><td>3.111784</td><td>4.834751</td></tr>\n",
       "</tbody>\n",
       "</table>\n",
       "</li>\n",
       "</ol>\n"
      ],
      "text/latex": [
       "\\begin{enumerate}\n",
       "\\item \\begin{tabular}{r|llll}\n",
       " parentID & kidID & births & completes\\\\\n",
       "\\hline\n",
       "\t NA        & 1         & 0         & 0.8244658\\\\\n",
       "\\end{tabular}\n",
       "\n",
       "\\item \\begin{tabular}{r|llll}\n",
       " parentID & kidID & births & completes\\\\\n",
       "\\hline\n",
       "\t 1         & 1         & 0.1908525 & 0.9280697\\\\\n",
       "\t 1         & 2         & 0.4631948 & 4.6525607\\\\\n",
       "\\end{tabular}\n",
       "\n",
       "\\item \\begin{tabular}{r|llll}\n",
       " parentID & kidID & births & completes\\\\\n",
       "\\hline\n",
       "\t 1         & 1         & 0.2921203 & 2.479967 \\\\\n",
       "\t 1         & 2         & 0.7177455 & 2.737410 \\\\\n",
       "\t 2         & 3         & 1.3348405 & 4.782500 \\\\\n",
       "\\end{tabular}\n",
       "\n",
       "\\item \\begin{tabular}{r|llll}\n",
       " parentID & kidID & births & completes\\\\\n",
       "\\hline\n",
       "\t 2        & 1        & 2.574217 & 4.291288\\\\\n",
       "\t 3        & 2        & 2.593132 & 5.500965\\\\\n",
       "\t 3        & 3        & 3.111784 & 4.834751\\\\\n",
       "\\end{tabular}\n",
       "\n",
       "\\end{enumerate}\n"
      ],
      "text/markdown": [
       "1. \n",
       "parentID | kidID | births | completes | \n",
       "|---|\n",
       "| NA        | 1         | 0         | 0.8244658 | \n",
       "\n",
       "\n",
       "\n",
       "2. \n",
       "parentID | kidID | births | completes | \n",
       "|---|---|\n",
       "| 1         | 1         | 0.1908525 | 0.9280697 | \n",
       "| 1         | 2         | 0.4631948 | 4.6525607 | \n",
       "\n",
       "\n",
       "\n",
       "3. \n",
       "parentID | kidID | births | completes | \n",
       "|---|---|---|\n",
       "| 1         | 1         | 0.2921203 | 2.479967  | \n",
       "| 1         | 2         | 0.7177455 | 2.737410  | \n",
       "| 2         | 3         | 1.3348405 | 4.782500  | \n",
       "\n",
       "\n",
       "\n",
       "4. \n",
       "parentID | kidID | births | completes | \n",
       "|---|---|---|\n",
       "| 2        | 1        | 2.574217 | 4.291288 | \n",
       "| 3        | 2        | 2.593132 | 5.500965 | \n",
       "| 3        | 3        | 3.111784 | 4.834751 | \n",
       "\n",
       "\n",
       "\n",
       "\n",
       "\n"
      ],
      "text/plain": [
       "[[1]]\n",
       "  parentID kidID births completes\n",
       "1       NA     1      0 0.8244658\n",
       "\n",
       "[[2]]\n",
       "  parentID kidID    births completes\n",
       "1        1     1 0.1908525 0.9280697\n",
       "2        1     2 0.4631948 4.6525607\n",
       "\n",
       "[[3]]\n",
       "  parentID kidID    births completes\n",
       "1        1     1 0.2921203  2.479967\n",
       "2        1     2 0.7177455  2.737410\n",
       "3        2     3 1.3348405  4.782500\n",
       "\n",
       "[[4]]\n",
       "  parentID kidID   births completes\n",
       "1        2     1 2.574217  4.291288\n",
       "2        3     2 2.593132  5.500965\n",
       "3        3     3 3.111784  4.834751\n"
      ]
     },
     "metadata": {},
     "output_type": "display_data"
    }
   ],
   "source": [
    "tree"
   ]
  },
  {
   "cell_type": "code",
   "execution_count": 31,
   "metadata": {
    "collapsed": false
   },
   "outputs": [
    {
     "data": {
      "text/html": [
       "<table>\n",
       "<tbody>\n",
       "\t<tr><th scope=row>v1</th><td> 0</td><td> 0</td></tr>\n",
       "\t<tr><th scope=row>v2</th><td> 1</td><td> 1</td></tr>\n",
       "\t<tr><th scope=row>v3</th><td> 2</td><td> 2</td></tr>\n",
       "\t<tr><th scope=row>v4</th><td> 4</td><td> 4</td></tr>\n",
       "\t<tr><th scope=row>v5</th><td> 5</td><td> 5</td></tr>\n",
       "\t<tr><th scope=row>v6</th><td> 6</td><td> 6</td></tr>\n",
       "\t<tr><th scope=row>v7</th><td> 7</td><td> 7</td></tr>\n",
       "\t<tr><th scope=row>v8</th><td> 8</td><td> 8</td></tr>\n",
       "\t<tr><th scope=row>v9</th><td> 9</td><td> 9</td></tr>\n",
       "\t<tr><th scope=row>v10</th><td>10</td><td>10</td></tr>\n",
       "\t<tr><th scope=row>v11</th><td>11</td><td>11</td></tr>\n",
       "</tbody>\n",
       "</table>\n"
      ],
      "text/latex": [
       "\\begin{tabular}{r|ll}\n",
       "\tv1 &  0 &  0\\\\\n",
       "\tv2 &  1 &  1\\\\\n",
       "\tv3 &  2 &  2\\\\\n",
       "\tv4 &  4 &  4\\\\\n",
       "\tv5 &  5 &  5\\\\\n",
       "\tv6 &  6 &  6\\\\\n",
       "\tv7 &  7 &  7\\\\\n",
       "\tv8 &  8 &  8\\\\\n",
       "\tv9 &  9 &  9\\\\\n",
       "\tv10 & 10 & 10\\\\\n",
       "\tv11 & 11 & 11\\\\\n",
       "\\end{tabular}\n"
      ],
      "text/markdown": [
       "\n",
       "| v1 |  0 |  0 | \n",
       "| v2 |  1 |  1 | \n",
       "| v3 |  2 |  2 | \n",
       "| v4 |  4 |  4 | \n",
       "| v5 |  5 |  5 | \n",
       "| v6 |  6 |  6 | \n",
       "| v7 |  7 |  7 | \n",
       "| v8 |  8 |  8 | \n",
       "| v9 |  9 |  9 | \n",
       "| v10 | 10 | 10 | \n",
       "| v11 | 11 | 11 | \n",
       "\n",
       "\n"
      ],
      "text/plain": [
       "    [,1] [,2]\n",
       "v1   0    0  \n",
       "v2   1    1  \n",
       "v3   2    2  \n",
       "v4   4    4  \n",
       "v5   5    5  \n",
       "v6   6    6  \n",
       "v7   7    7  \n",
       "v8   8    8  \n",
       "v9   9    9  \n",
       "v10 10   10  \n",
       "v11 11   11  "
      ]
     },
     "metadata": {},
     "output_type": "display_data"
    }
   ],
   "source": [
    "coord"
   ]
  },
  {
   "cell_type": "code",
   "execution_count": null,
   "metadata": {
    "collapsed": true
   },
   "outputs": [],
   "source": []
  },
  {
   "cell_type": "code",
   "execution_count": null,
   "metadata": {
    "collapsed": true
   },
   "outputs": [],
   "source": []
  },
  {
   "cell_type": "code",
   "execution_count": null,
   "metadata": {
    "collapsed": true
   },
   "outputs": [],
   "source": []
  },
  {
   "cell_type": "code",
   "execution_count": 8,
   "metadata": {
    "collapsed": false
   },
   "outputs": [
    {
     "data": {
      "text/html": [
       "10"
      ],
      "text/latex": [
       "10"
      ],
      "text/markdown": [
       "10"
      ],
      "text/plain": [
       "[1] 10"
      ]
     },
     "metadata": {},
     "output_type": "display_data"
    },
    {
     "data": {
      "text/html": [
       "<ol class=list-inline>\n",
       "\t<li>1</li>\n",
       "\t<li>1</li>\n",
       "\t<li>1</li>\n",
       "\t<li>5</li>\n",
       "\t<li>7</li>\n",
       "\t<li>5</li>\n",
       "\t<li>13</li>\n",
       "\t<li>39</li>\n",
       "\t<li>81</li>\n",
       "\t<li>147</li>\n",
       "</ol>\n"
      ],
      "text/latex": [
       "\\begin{enumerate*}\n",
       "\\item 1\n",
       "\\item 1\n",
       "\\item 1\n",
       "\\item 5\n",
       "\\item 7\n",
       "\\item 5\n",
       "\\item 13\n",
       "\\item 39\n",
       "\\item 81\n",
       "\\item 147\n",
       "\\end{enumerate*}\n"
      ],
      "text/markdown": [
       "1. 1\n",
       "2. 1\n",
       "3. 1\n",
       "4. 5\n",
       "5. 7\n",
       "6. 5\n",
       "7. 13\n",
       "8. 39\n",
       "9. 81\n",
       "10. 147\n",
       "\n",
       "\n"
      ],
      "text/plain": [
       " [1]   1   1   1   5   7   5  13  39  81 147"
      ]
     },
     "metadata": {},
     "output_type": "display_data"
    },
    {
     "data": {
      "text/html": [
       "300"
      ],
      "text/latex": [
       "300"
      ],
      "text/markdown": [
       "300"
      ],
      "text/plain": [
       "[1] 300"
      ]
     },
     "metadata": {},
     "output_type": "display_data"
    },
    {
     "data": {
      "text/html": [
       "<ol class=list-inline>\n",
       "\t<li>147</li>\n",
       "\t<li>286</li>\n",
       "\t<li>572</li>\n",
       "\t<li>1130</li>\n",
       "\t<li>2231</li>\n",
       "\t<li>4666</li>\n",
       "</ol>\n"
      ],
      "text/latex": [
       "\\begin{enumerate*}\n",
       "\\item 147\n",
       "\\item 286\n",
       "\\item 572\n",
       "\\item 1130\n",
       "\\item 2231\n",
       "\\item 4666\n",
       "\\end{enumerate*}\n"
      ],
      "text/markdown": [
       "1. 147\n",
       "2. 286\n",
       "3. 572\n",
       "4. 1130\n",
       "5. 2231\n",
       "6. 4666\n",
       "\n",
       "\n"
      ],
      "text/plain": [
       "[1]  147  286  572 1130 2231 4666"
      ]
     },
     "metadata": {},
     "output_type": "display_data"
    },
    {
     "data": {
      "text/html": [
       "10"
      ],
      "text/latex": [
       "10"
      ],
      "text/markdown": [
       "10"
      ],
      "text/plain": [
       "[1] 10"
      ]
     },
     "metadata": {},
     "output_type": "display_data"
    },
    {
     "data": {
      "text/html": [
       "<ol class=list-inline>\n",
       "\t<li>1</li>\n",
       "\t<li>3</li>\n",
       "\t<li>7</li>\n",
       "\t<li>19</li>\n",
       "\t<li>99</li>\n",
       "\t<li>464</li>\n",
       "\t<li>2616</li>\n",
       "\t<li>15155</li>\n",
       "\t<li>90848</li>\n",
       "\t<li>561791</li>\n",
       "</ol>\n"
      ],
      "text/latex": [
       "\\begin{enumerate*}\n",
       "\\item 1\n",
       "\\item 3\n",
       "\\item 7\n",
       "\\item 19\n",
       "\\item 99\n",
       "\\item 464\n",
       "\\item 2616\n",
       "\\item 15155\n",
       "\\item 90848\n",
       "\\item 561791\n",
       "\\end{enumerate*}\n"
      ],
      "text/markdown": [
       "1. 1\n",
       "2. 3\n",
       "3. 7\n",
       "4. 19\n",
       "5. 99\n",
       "6. 464\n",
       "7. 2616\n",
       "8. 15155\n",
       "9. 90848\n",
       "10. 561791\n",
       "\n",
       "\n"
      ],
      "text/plain": [
       " [1]      1      3      7     19     99    464   2616  15155  90848 561791"
      ]
     },
     "metadata": {},
     "output_type": "display_data"
    },
    {
     "data": {
      "text/html": [
       "671003"
      ],
      "text/latex": [
       "671003"
      ],
      "text/markdown": [
       "671003"
      ],
      "text/plain": [
       "[1] 671003"
      ]
     },
     "metadata": {},
     "output_type": "display_data"
    },
    {
     "data": {
      "text/html": [
       "989086"
      ],
      "text/latex": [
       "989086"
      ],
      "text/markdown": [
       "989086"
      ],
      "text/plain": [
       "[1] 989086"
      ]
     },
     "metadata": {},
     "output_type": "display_data"
    },
    {
     "data": {
      "text/html": [
       "<table>\n",
       "<tbody>\n",
       "\t<tr><td>0          </td><td>0.009460001</td><td>0.3108085  </td><td>0.5372426  </td><td> 1.033442  </td><td> 1.661756  </td><td> 2.055077  </td><td> 3.311186  </td><td> 3.967747  </td><td> 4.095898  </td></tr>\n",
       "\t<tr><td>0          </td><td>0.009460001</td><td>3.3884639  </td><td>6.6886600  </td><td>12.624078  </td><td>20.301736  </td><td>27.312525  </td><td>37.166142  </td><td>49.842720  </td><td>58.438001  </td></tr>\n",
       "</tbody>\n",
       "</table>\n"
      ],
      "text/latex": [
       "\\begin{tabular}{llllllllll}\n",
       "\t 0           & 0.009460001 & 0.3108085   & 0.5372426   &  1.033442   &  1.661756   &  2.055077   &  3.311186   &  3.967747   &  4.095898  \\\\\n",
       "\t 0           & 0.009460001 & 3.3884639   & 6.6886600   & 12.624078   & 20.301736   & 27.312525   & 37.166142   & 49.842720   & 58.438001  \\\\\n",
       "\\end{tabular}\n"
      ],
      "text/markdown": [
       "\n",
       "| 0           | 0.009460001 | 0.3108085   | 0.5372426   |  1.033442   |  1.661756   |  2.055077   |  3.311186   |  3.967747   |  4.095898   | \n",
       "| 0           | 0.009460001 | 3.3884639   | 6.6886600   | 12.624078   | 20.301736   | 27.312525   | 37.166142   | 49.842720   | 58.438001   | \n",
       "\n",
       "\n"
      ],
      "text/plain": [
       "     [,1] [,2]        [,3]      [,4]      [,5]      [,6]      [,7]     \n",
       "[1,] 0    0.009460001 0.3108085 0.5372426  1.033442  1.661756  2.055077\n",
       "[2,] 0    0.009460001 3.3884639 6.6886600 12.624078 20.301736 27.312525\n",
       "     [,8]      [,9]      [,10]    \n",
       "[1,]  3.311186  3.967747  4.095898\n",
       "[2,] 37.166142 49.842720 58.438001"
      ]
     },
     "metadata": {},
     "output_type": "display_data"
    },
    {
     "data": {
      "text/html": [
       "<table>\n",
       "<tbody>\n",
       "\t<tr><td>0.2136832</td><td>4.476301 </td><td>5.257532 </td><td> 5.934544</td><td> 6.46038 </td><td> 6.852209</td><td> 7.282368</td><td> 7.944772</td><td> 8.343729</td><td> 9.490732</td></tr>\n",
       "\t<tr><td>0.2136832</td><td>4.476301 </td><td>8.428051 </td><td>13.091012</td><td>21.98339 </td><td>27.514912</td><td>37.433661</td><td>50.030282</td><td>58.562122</td><td>70.258593</td></tr>\n",
       "</tbody>\n",
       "</table>\n"
      ],
      "text/latex": [
       "\\begin{tabular}{llllllllll}\n",
       "\t 0.2136832 & 4.476301  & 5.257532  &  5.934544 &  6.46038  &  6.852209 &  7.282368 &  7.944772 &  8.343729 &  9.490732\\\\\n",
       "\t 0.2136832 & 4.476301  & 8.428051  & 13.091012 & 21.98339  & 27.514912 & 37.433661 & 50.030282 & 58.562122 & 70.258593\\\\\n",
       "\\end{tabular}\n"
      ],
      "text/markdown": [
       "\n",
       "| 0.2136832 | 4.476301  | 5.257532  |  5.934544 |  6.46038  |  6.852209 |  7.282368 |  7.944772 |  8.343729 |  9.490732 | \n",
       "| 0.2136832 | 4.476301  | 8.428051  | 13.091012 | 21.98339  | 27.514912 | 37.433661 | 50.030282 | 58.562122 | 70.258593 | \n",
       "\n",
       "\n"
      ],
      "text/plain": [
       "     [,1]      [,2]     [,3]     [,4]      [,5]     [,6]      [,7]     \n",
       "[1,] 0.2136832 4.476301 5.257532  5.934544  6.46038  6.852209  7.282368\n",
       "[2,] 0.2136832 4.476301 8.428051 13.091012 21.98339 27.514912 37.433661\n",
       "     [,8]      [,9]      [,10]    \n",
       "[1,]  7.944772  8.343729  9.490732\n",
       "[2,] 50.030282 58.562122 70.258593"
      ]
     },
     "metadata": {},
     "output_type": "display_data"
    }
   ],
   "source": [
    "seed2 = 12212013\n",
    "set.seed(seed2)\n",
    "tree = familyTree(lambda = 0.3, kappa = 0.5, maxGen = 10)\n",
    "\n",
    "length(tree)\n",
    "\n",
    "sapply(tree, nrow)\n",
    "\n",
    "sum(sapply(tree, nrow))\n",
    "\n",
    "set.seed(seed2)\n",
    "tree = familyTree(lambda = 0.3, kappa = 0.5, maxGen = 15)\n",
    "sapply(tree[ - (1:9) ], nrow)\n",
    "\n",
    "set.seed(seed2)\n",
    "tree = familyTree(lambda = 1, kappa = 0.5, maxGen = 10)\n",
    "\n",
    "length(tree)\n",
    "\n",
    "sapply(tree, nrow)\n",
    "\n",
    "sum(sapply(tree, nrow))\n",
    "\n",
    "tree = familyTree(lambda = 1, kappa = 0.5, maxGen = 10)\n",
    "sum(sapply(tree, nrow))\n",
    "\n",
    "sapply(tree, function(gen) range(gen$births))\n",
    "\n",
    "sapply(tree, function(gen) range(gen$completes))"
   ]
  },
  {
   "cell_type": "code",
   "execution_count": 9,
   "metadata": {
    "collapsed": true
   },
   "outputs": [],
   "source": [
    "familyTreeT = function(lambda = 0.5, kappa = 0.3, maxTime = 8) {\n",
    "       # maxTime - maximum length of time to observe the process\n",
    "  allGens = list()\n",
    "  \n",
    "       # Generate the root of the \n",
    "  allGens[[1]] = data.frame(parentID = NA, kidID = 1, \n",
    "                            births = 0, \n",
    "                            completes = rexp(1, rate = kappa))\n",
    "  \n",
    "       # Generate the future generations, one at a time.\n",
    "  numGens = 1\n",
    "  while (TRUE) {\n",
    "    nextGen = genKidsV(bTimes = allGens[[ numGens ]]$births,\n",
    "                       cTimes = allGens[[ numGens ]]$completes,\n",
    "                       parentID = allGens[[ numGens ]]$kidID,\n",
    "                       lambda = lambda, kappa = kappa)\n",
    "    \n",
    "    if ( is.null(nextGen) | (min(nextGen$births) > maxTime) ) {\n",
    "           # If complete after maxTime set complete to NA\n",
    "      allGens = lapply(allGens, function(gen) {\n",
    "        gen$completes[ gen$completes > maxTime ] = NA\n",
    "        gen\n",
    "      })\n",
    "      return(allGens)\n",
    "    }\n",
    "    \n",
    "    # Drop those born after maxTime \n",
    "    nextGen = nextGen[ nextGen$births <= maxTime , ]\n",
    "    nextGen$kidID = 1:nrow(nextGen)\n",
    "    numGens = numGens + 1\n",
    "    allGens[[ numGens ]] = nextGen    \n",
    "  }  \n",
    "}\t\n"
   ]
  },
  {
   "cell_type": "code",
   "execution_count": 10,
   "metadata": {
    "collapsed": true
   },
   "outputs": [],
   "source": [
    "familyTree = function(lambda = 0.5, kappa = 0.3, \n",
    "                      maxGen = 10, maxOffspring = 1000) {\n",
    "\n",
    "       # Return value - a list with 1 data frame per generation.\n",
    "  allGens = vector(mode = \"list\", length = maxGen)\n",
    "  \n",
    "       # Generate root of the tree\n",
    "  allGens[[1]] = data.frame(parentID = NA, kidID = 1, \n",
    "                            births = 0, \n",
    "                            completes = rexp(1, rate = kappa))\n",
    "  \n",
    "  currentNumOffspring = 0\n",
    "\n",
    "       # Generate future generations, one at a time.\n",
    "  for (i in 2:maxGen) {\n",
    "    nextGen = genKidsV(bTimes = allGens[[ (i - 1) ]]$births,\n",
    "                       cTimes = allGens[[ (i - 1) ]]$completes,\n",
    "                       parentID = allGens[[ (i - 1) ]]$kidID,\n",
    "                       lambda = lambda, kappa = kappa)\n",
    "    if (is.null(nextGen)) return(allGens[ 1:(i - 1) ]) \n",
    "    allGens[[ i ]] = nextGen\n",
    "    currentNumOffspring = currentNumOffspring + nrow(nextGen)\n",
    "    if (currentNumOffspring > maxOffspring) \n",
    "      return(allGens[1:i])\n",
    "  }  \n",
    "  allGens\n",
    "}\n"
   ]
  },
  {
   "cell_type": "code",
   "execution_count": 11,
   "metadata": {
    "collapsed": false
   },
   "outputs": [
    {
     "data": {
      "text/html": [
       "7"
      ],
      "text/latex": [
       "7"
      ],
      "text/markdown": [
       "7"
      ],
      "text/plain": [
       "[1] 7"
      ]
     },
     "metadata": {},
     "output_type": "display_data"
    },
    {
     "data": {
      "text/html": [
       "<ol class=list-inline>\n",
       "\t<li>1</li>\n",
       "\t<li>3</li>\n",
       "\t<li>7</li>\n",
       "\t<li>19</li>\n",
       "\t<li>99</li>\n",
       "\t<li>464</li>\n",
       "\t<li>2616</li>\n",
       "</ol>\n"
      ],
      "text/latex": [
       "\\begin{enumerate*}\n",
       "\\item 1\n",
       "\\item 3\n",
       "\\item 7\n",
       "\\item 19\n",
       "\\item 99\n",
       "\\item 464\n",
       "\\item 2616\n",
       "\\end{enumerate*}\n"
      ],
      "text/markdown": [
       "1. 1\n",
       "2. 3\n",
       "3. 7\n",
       "4. 19\n",
       "5. 99\n",
       "6. 464\n",
       "7. 2616\n",
       "\n",
       "\n"
      ],
      "text/plain": [
       "[1]    1    3    7   19   99  464 2616"
      ]
     },
     "metadata": {},
     "output_type": "display_data"
    },
    {
     "data": {
      "text/html": [
       "3209"
      ],
      "text/latex": [
       "3209"
      ],
      "text/markdown": [
       "3209"
      ],
      "text/plain": [
       "[1] 3209"
      ]
     },
     "metadata": {},
     "output_type": "display_data"
    }
   ],
   "source": [
    "set.seed(seed2)\n",
    "tree = familyTree(lambda = 1, kappa = 0.5, \n",
    "                  maxGen = 100, maxOffspring = 1000)\n",
    "\n",
    "length(tree)\n",
    "\n",
    "sapply(tree, nrow)\n",
    "\n",
    "sum(sapply(tree, nrow))\n",
    "\n",
    "set.seed(seed2)\n",
    "treeVT = familyTreeT(lambda = 1, kappa = 0.5)\n",
    "\n",
    "numGen = 5\n",
    "treeSub = treeVT[1:numGen]\n",
    "numKids = sapply(treeSub, nrow)\n",
    "numFamily = sum(numKids)\n",
    "\n",
    "treeSub = lapply(treeSub, \n",
    "                 function(gen) {\n",
    "                   gen$completes[ is.na(gen$completes) ] = 8\n",
    "                   gen\n",
    "                   })\n",
    "\n",
    "treeSubN = treeVT[ 2:(numGen + 1) ]\n",
    "treeSubN = lapply(treeSubN, \n",
    "                  function(gen) {\n",
    "                    gen$completes[ is.na(gen$completes) ] = 8\n",
    "                    gen\n",
    "                 })\n",
    "  \n",
    "maxLife = max(sapply(treeSub, function(gen) max(gen$completes)))\n",
    "\n",
    "birthNum = c(0, cumsum(numKids)[ -numGen ])"
   ]
  },
  {
   "cell_type": "code",
   "execution_count": 12,
   "metadata": {
    "collapsed": false
   },
   "outputs": [
    {
     "data": {
      "text/html": [
       "<ol>\n",
       "\t<li>NULL</li>\n",
       "\t<li>NULL</li>\n",
       "\t<li>NULL</li>\n",
       "\t<li>NULL</li>\n",
       "\t<li>NULL</li>\n",
       "</ol>\n"
      ],
      "text/latex": [
       "\\begin{enumerate}\n",
       "\\item NULL\n",
       "\\item NULL\n",
       "\\item NULL\n",
       "\\item NULL\n",
       "\\item NULL\n",
       "\\end{enumerate}\n"
      ],
      "text/markdown": [
       "1. NULL\n",
       "2. NULL\n",
       "3. NULL\n",
       "4. NULL\n",
       "5. NULL\n",
       "\n",
       "\n"
      ],
      "text/plain": [
       "[[1]]\n",
       "NULL\n",
       "\n",
       "[[2]]\n",
       "NULL\n",
       "\n",
       "[[3]]\n",
       "NULL\n",
       "\n",
       "[[4]]\n",
       "NULL\n",
       "\n",
       "[[5]]\n",
       "NULL\n"
      ]
     },
     "metadata": {},
     "output_type": "display_data"
    },
    {
     "data": {
      "text/html": [
       "<strong>null device:</strong> 1"
      ],
      "text/latex": [
       "\\textbf{null device:} 1"
      ],
      "text/markdown": [
       "**null device:** 1"
      ],
      "text/plain": [
       "null device \n",
       "          1 "
      ]
     },
     "metadata": {},
     "output_type": "display_data"
    },
    {
     "data": {
      "image/png": "[encoded data removed]",
      "text/plain": [
       "plot without title"
      ]
     },
     "metadata": {},
     "output_type": "display_data"
    }
   ],
   "source": [
    "#pdf(\"BA_FamilyTreeVT.pdf\", width = 8, height = 15)\n",
    "oldPar = par(mar = c(4.1, 4.1, 0.5, 0.5))\n",
    "\n",
    "plot(0,0, ylim = c(0.5, numFamily), xlim = c(0, maxLife),\n",
    "     xlab = \"Time\", ylab = \"\", type =\"n\",\n",
    "     axes = FALSE)\n",
    "\n",
    "box()\n",
    "axis(1)\n",
    "axis(2, at = birthNum + c(0.5, rep(1, (numGen-1))), \n",
    "     labels = paste(\"Gen\", 1:numGen), tick = FALSE, las = 1)\n",
    "\n",
    "mapply(function(gen, nextGen, birthNum) {\n",
    "  birthOrder = birthNum + (1:nrow(gen))\n",
    "  segments(x0 = gen$births, x1 = gen$completes, y0 = birthOrder,\n",
    "           lwd = 3, col = \"grey\")\n",
    "  abline(h = 0.5 + max(birthOrder), lty = 2, col=\"black\" )\n",
    "  points(x = nextGen$births, y = birthOrder[nextGen$parentID],\n",
    "           pch = 4)\n",
    "}, gen = treeSub, nextGen = treeSubN, birthNum = birthNum )\n",
    "\n",
    "abline(v = maxLife)\n",
    "\n",
    "par(oldPar)\n",
    "dev.off()\n",
    "\n",
    "exptOne = function(l, k, mG, mO){\n",
    "       # Helper function to call familyTree\n",
    "       # Returns - summary statistics for analysis,\n",
    "  \n",
    "  aTree = familyTree(lambda = l, kappa = k, maxGen = mG,\n",
    "                      maxOffspring = mO)\n",
    "  numGen = length(aTree)\n",
    "  numJobs = sum(sapply(aTree, nrow))\n",
    "  c(numGen, numJobs)\n",
    "}"
   ]
  },
  {
   "cell_type": "code",
   "execution_count": 13,
   "metadata": {
    "collapsed": false
   },
   "outputs": [
    {
     "data": {
      "text/html": [
       "<ol class=list-inline>\n",
       "\t<li>7</li>\n",
       "\t<li>3209</li>\n",
       "</ol>\n"
      ],
      "text/latex": [
       "\\begin{enumerate*}\n",
       "\\item 7\n",
       "\\item 3209\n",
       "\\end{enumerate*}\n"
      ],
      "text/markdown": [
       "1. 7\n",
       "2. 3209\n",
       "\n",
       "\n"
      ],
      "text/plain": [
       "[1]    7 3209"
      ]
     },
     "metadata": {},
     "output_type": "display_data"
    }
   ],
   "source": [
    "set.seed(seed2)\n",
    "exptOne(1, 0.5, 100, 1000)\n",
    "\n",
    "familyTreeT = function(lambda = 0.5, kappa = 0.3, maxTime = 8) {\n",
    "  # maxTime - maximum length of time to observe the family\n",
    "  allGens = list()\n",
    "  \n",
    "  # Generate the root of the \n",
    "  allGens[[1]] = data.frame(parentID = NA, kidID = 1, \n",
    "                            births = 0, \n",
    "                            completes = rexp(1, rate = kappa))\n",
    "  \n",
    "  # Generate the future generations, one at a time.\n",
    "  numGens = 1\n",
    "  while (TRUE) {\n",
    "    nextGen = genKidsV(bTimes = allGens[[ numGens ]]$births,\n",
    "                       cTimes = allGens[[ numGens ]]$completes,\n",
    "                       parentID = allGens[[ numGens ]]$kidID,\n",
    "                       lambda = lambda, kappa = kappa)\n",
    "    \n",
    "    treeTerminated = is.null(nextGen)\n",
    "    if ( !treeTerminated ) {\n",
    "      birthsPastObsTime = min(nextGen$births) > maxTime\n",
    "    }\n",
    "    else birthsPastObsTime = TRUE\n",
    "    \n",
    "    if ( treeTerminated | birthsPastObsTime ) {\n",
    "      # If complete after maxTime set complete to NA\n",
    "      allGens = lapply(allGens, function(gen) {\n",
    "        gen$completes[ gen$completes > maxTime ] = NA\n",
    "        gen\n",
    "      })\n",
    "      return(allGens)\n",
    "    }\n",
    "    \n",
    "    # Drop those born after maxTime \n",
    "    nextGen = nextGen[ nextGen$births <= maxTime , ]\n",
    "    nextGen$kidID = 1:nrow(nextGen)\n",
    "    numGens = numGens + 1\n",
    "    allGens[[ numGens ]] = nextGen    \n",
    "  }  \n",
    "}"
   ]
  },
  {
   "cell_type": "code",
   "execution_count": 14,
   "metadata": {
    "collapsed": false
   },
   "outputs": [
    {
     "name": "stdout",
     "output_type": "stream",
     "text": [
      "param set is  1 \n",
      "param set is  2 \n",
      "param set is  3 \n",
      "param set is  4 \n"
     ]
    }
   ],
   "source": [
    "MCBA = function(params, repeats = 5, mG = 10, mO = 1000){\n",
    "       # params: matrix columns of lambda and kappa values\n",
    "       # For each lambda and kappa pair, run \"repeats\" times\n",
    "  \n",
    "  n = nrow(params)\n",
    "  mcResults = vector(\"list\", length = n)\n",
    "  \n",
    "  for (i in 1:n) {\n",
    "    cat(\"param set is \", i, \"\\n\")\n",
    "    mcResults[[i]] = replicate(repeats,\n",
    "                               exptOne(l = params[i, 1],\n",
    "                                       k = params[i, 2],\n",
    "                                       mG = mG, mO = mO))\n",
    "  }\n",
    "  mcResults\n",
    "}\n",
    "\n",
    "trialKappas = c(0.1, 10, 0.1, 10)\n",
    "trialLambdas = c(0.1, 0.1, 10, 10)\n",
    "trialParams = matrix(c(trialLambdas, trialKappas), ncol = 2)\n",
    "mcTrialOutput = MCBA(params = trialParams, repeats = 100, \n",
    "                     mG = 200, mO = 100000)\n",
    "\n",
    "save(mcTrialOutput, file = \"mcTrialOutput.rda\")\n"
   ]
  },
  {
   "cell_type": "code",
   "execution_count": 15,
   "metadata": {
    "collapsed": false
   },
   "outputs": [
    {
     "data": {
      "text/html": [
       "<ol>\n",
       "\t<li>NULL</li>\n",
       "\t<li>NULL</li>\n",
       "\t<li>NULL</li>\n",
       "\t<li>NULL</li>\n",
       "</ol>\n"
      ],
      "text/latex": [
       "\\begin{enumerate}\n",
       "\\item NULL\n",
       "\\item NULL\n",
       "\\item NULL\n",
       "\\item NULL\n",
       "\\end{enumerate}\n"
      ],
      "text/markdown": [
       "1. NULL\n",
       "2. NULL\n",
       "3. NULL\n",
       "4. NULL\n",
       "\n",
       "\n"
      ],
      "text/plain": [
       "[[1]]\n",
       "NULL\n",
       "\n",
       "[[2]]\n",
       "NULL\n",
       "\n",
       "[[3]]\n",
       "NULL\n",
       "\n",
       "[[4]]\n",
       "NULL\n"
      ]
     },
     "metadata": {},
     "output_type": "display_data"
    },
    {
     "data": {
      "text/html": [
       "<strong>null device:</strong> 1"
      ],
      "text/latex": [
       "\\textbf{null device:} 1"
      ],
      "text/markdown": [
       "**null device:** 1"
      ],
      "text/plain": [
       "null device \n",
       "          1 "
      ]
     },
     "metadata": {},
     "output_type": "display_data"
    },
    {
     "data": {
      "image/png": "[encoded data removed]",
      "text/plain": [
       "plot without title"
      ]
     },
     "metadata": {},
     "output_type": "display_data"
    }
   ],
   "source": [
    "#pdf(\"BA_ScatterPlotNumGenByNumKids.pdf\", width = 10, height = 8)\n",
    "\n",
    "oldPar = par(mfrow = c(2, 2), mar = c(3,3,1,1))\n",
    "\n",
    "mapply(function(oneSet, lambda, kappa) {\n",
    "  plot(x = oneSet[2,], y = jitter(oneSet[1, ], 1), log = \"x\",\n",
    "       ylim = c(1,20), xlim = c(1, 10^7), pch = 19, cex = 0.6)\n",
    "  text(x = 50, y = 15, bquote(paste(lambda == .(lambda))) )\n",
    "  text(x = 300, y = 15, bquote(paste(kappa == .(kappa))) )\n",
    "  }, \n",
    "  mcTrialOutput, lambda = trialLambdas, kappa = trialKappas)\n",
    "\n",
    "par(oldPar)\n",
    "\n",
    "dev.off()\n",
    "\n",
    "lambdas = c(seq(0.1, 0.6, by = 0.1), seq(0.8, 2, by = 0.2), \n",
    "            seq(2.25, 3, by = 0.25))\n",
    "kappas = c(lambdas, 3.25, 3.50, 3.75, 4.00, 4.50, 5.00)\n",
    "\n",
    "paramGrid = as.matrix(expand.grid(lambdas, kappas))"
   ]
  },
  {
   "cell_type": "code",
   "execution_count": 20,
   "metadata": {
    "collapsed": false
   },
   "outputs": [
    {
     "name": "stdout",
     "output_type": "stream",
     "text": [
      "param set is  1 \n",
      "param set is  2 \n",
      "param set is  3 \n",
      "param set is  4 \n",
      "param set is  5 \n",
      "param set is  6 \n",
      "param set is  7 \n",
      "param set is  8 \n",
      "param set is  9 \n",
      "param set is  10 \n",
      "param set is  11 \n",
      "param set is  12 \n",
      "param set is  13 \n",
      "param set is  14 \n",
      "param set is  15 \n",
      "param set is  16 \n",
      "param set is  17 \n",
      "param set is  18 \n",
      "param set is  19 \n",
      "param set is  20 \n",
      "param set is  21 \n",
      "param set is  22 \n",
      "param set is  23 \n",
      "param set is  24 \n",
      "param set is  25 \n",
      "param set is  26 \n",
      "param set is  27 \n",
      "param set is  28 \n",
      "param set is  29 \n",
      "param set is  30 \n",
      "param set is  31 \n",
      "param set is  32 \n",
      "param set is  33 \n",
      "param set is  34 \n",
      "param set is  35 \n",
      "param set is  36 \n",
      "param set is  37 \n",
      "param set is  38 \n",
      "param set is  39 \n",
      "param set is  40 \n",
      "param set is  41 \n",
      "param set is  42 \n",
      "param set is  43 \n",
      "param set is  44 \n",
      "param set is  45 \n",
      "param set is  46 \n",
      "param set is  47 \n",
      "param set is  48 \n",
      "param set is  49 \n",
      "param set is  50 \n",
      "param set is  51 \n",
      "param set is  52 \n",
      "param set is  53 \n",
      "param set is  54 \n",
      "param set is  55 \n",
      "param set is  56 \n",
      "param set is  57 \n",
      "param set is  58 \n",
      "param set is  59 \n",
      "param set is  60 \n",
      "param set is  61 \n",
      "param set is  62 \n",
      "param set is  63 \n",
      "param set is  64 \n",
      "param set is  65 \n",
      "param set is  66 \n",
      "param set is  67 \n",
      "param set is  68 \n",
      "param set is  69 \n",
      "param set is  70 \n",
      "param set is  71 \n",
      "param set is  72 \n",
      "param set is  73 \n",
      "param set is  74 \n",
      "param set is  75 \n",
      "param set is  76 \n",
      "param set is  77 \n",
      "param set is  78 \n",
      "param set is  79 \n",
      "param set is  80 \n",
      "param set is  81 \n",
      "param set is  82 \n",
      "param set is  83 \n",
      "param set is  84 \n",
      "param set is  85 \n",
      "param set is  86 \n",
      "param set is  87 \n",
      "param set is  88 \n",
      "param set is  89 \n",
      "param set is  90 \n",
      "param set is  91 \n",
      "param set is  92 \n",
      "param set is  93 \n",
      "param set is  94 \n",
      "param set is  95 \n",
      "param set is  96 \n",
      "param set is  97 \n",
      "param set is  98 \n",
      "param set is  99 \n",
      "param set is  100 \n",
      "param set is  101 \n",
      "param set is  102 \n",
      "param set is  103 \n",
      "param set is  104 \n",
      "param set is  105 \n",
      "param set is  106 \n",
      "param set is  107 \n",
      "param set is  108 \n",
      "param set is  109 \n",
      "param set is  110 \n",
      "param set is  111 \n",
      "param set is  112 \n",
      "param set is  113 \n",
      "param set is  114 \n",
      "param set is  115 \n",
      "param set is  116 \n",
      "param set is  117 \n",
      "param set is  118 \n",
      "param set is  119 \n",
      "param set is  120 \n",
      "param set is  121 \n",
      "param set is  122 \n",
      "param set is  123 \n",
      "param set is  124 \n",
      "param set is  125 \n",
      "param set is  126 \n",
      "param set is  127 \n",
      "param set is  128 \n",
      "param set is  129 \n",
      "param set is  130 \n",
      "param set is  131 \n",
      "param set is  132 \n",
      "param set is  133 \n",
      "param set is  134 \n",
      "param set is  135 \n",
      "param set is  136 \n",
      "param set is  137 \n",
      "param set is  138 \n",
      "param set is  139 \n",
      "param set is  140 \n",
      "param set is  141 \n",
      "param set is  142 \n",
      "param set is  143 \n",
      "param set is  144 \n",
      "param set is  145 \n",
      "param set is  146 \n",
      "param set is  147 \n",
      "param set is  148 \n",
      "param set is  149 \n",
      "param set is  150 \n",
      "param set is  151 \n",
      "param set is  152 \n",
      "param set is  153 \n",
      "param set is  154 \n",
      "param set is  155 \n",
      "param set is  156 \n",
      "param set is  157 \n",
      "param set is  158 \n",
      "param set is  159 \n",
      "param set is  160 \n",
      "param set is  161 \n",
      "param set is  162 \n",
      "param set is  163 \n",
      "param set is  164 \n",
      "param set is  165 \n",
      "param set is  166 \n",
      "param set is  167 \n",
      "param set is  168 \n",
      "param set is  169 \n",
      "param set is  170 \n",
      "param set is  171 \n",
      "param set is  172 \n",
      "param set is  173 \n",
      "param set is  174 \n",
      "param set is  175 \n",
      "param set is  176 \n",
      "param set is  177 \n",
      "param set is  178 \n",
      "param set is  179 \n",
      "param set is  180 \n",
      "param set is  181 \n",
      "param set is  182 \n",
      "param set is  183 \n",
      "param set is  184 \n",
      "param set is  185 \n",
      "param set is  186 \n",
      "param set is  187 \n",
      "param set is  188 \n",
      "param set is  189 \n",
      "param set is  190 \n",
      "param set is  191 \n",
      "param set is  192 \n",
      "param set is  193 \n",
      "param set is  194 \n",
      "param set is  195 \n",
      "param set is  196 \n",
      "param set is  197 \n",
      "param set is  198 \n",
      "param set is  199 \n",
      "param set is  200 \n",
      "param set is  201 \n",
      "param set is  202 \n",
      "param set is  203 \n",
      "param set is  204 \n",
      "param set is  205 \n",
      "param set is  206 \n",
      "param set is  207 \n",
      "param set is  208 \n",
      "param set is  209 \n",
      "param set is  210 \n",
      "param set is  211 \n",
      "param set is  212 \n",
      "param set is  213 \n",
      "param set is  214 \n",
      "param set is  215 \n",
      "param set is  216 \n",
      "param set is  217 \n",
      "param set is  218 \n",
      "param set is  219 \n",
      "param set is  220 \n",
      "param set is  221 \n",
      "param set is  222 \n",
      "param set is  223 \n",
      "param set is  224 \n",
      "param set is  225 \n",
      "param set is  226 \n",
      "param set is  227 \n",
      "param set is  228 \n",
      "param set is  229 \n",
      "param set is  230 \n",
      "param set is  231 \n",
      "param set is  232 \n",
      "param set is  233 \n",
      "param set is  234 \n",
      "param set is  235 \n",
      "param set is  236 \n",
      "param set is  237 \n",
      "param set is  238 \n",
      "param set is  239 \n",
      "param set is  240 \n",
      "param set is  241 \n",
      "param set is  242 \n",
      "param set is  243 \n",
      "param set is  244 \n",
      "param set is  245 \n",
      "param set is  246 \n",
      "param set is  247 \n",
      "param set is  248 \n",
      "param set is  249 \n",
      "param set is  250 \n",
      "param set is  251 \n",
      "param set is  252 \n",
      "param set is  253 \n",
      "param set is  254 \n",
      "param set is  255 \n",
      "param set is  256 \n",
      "param set is  257 \n",
      "param set is  258 \n",
      "param set is  259 \n",
      "param set is  260 \n",
      "param set is  261 \n",
      "param set is  262 \n",
      "param set is  263 \n",
      "param set is  264 \n",
      "param set is  265 \n",
      "param set is  266 \n",
      "param set is  267 \n",
      "param set is  268 \n",
      "param set is  269 \n",
      "param set is  270 \n",
      "param set is  271 \n",
      "param set is  272 \n",
      "param set is  273 \n",
      "param set is  274 \n",
      "param set is  275 \n",
      "param set is  276 \n",
      "param set is  277 \n",
      "param set is  278 \n",
      "param set is  279 \n",
      "param set is  280 \n",
      "param set is  281 \n",
      "param set is  282 \n",
      "param set is  283 \n",
      "param set is  284 \n",
      "param set is  285 \n",
      "param set is  286 \n",
      "param set is  287 \n",
      "param set is  288 \n",
      "param set is  289 \n",
      "param set is  290 \n",
      "param set is  291 \n",
      "param set is  292 \n",
      "param set is  293 \n",
      "param set is  294 \n",
      "param set is  295 \n",
      "param set is  296 \n",
      "param set is  297 \n",
      "param set is  298 \n",
      "param set is  299 \n",
      "param set is  300 \n",
      "param set is  301 \n",
      "param set is  302 \n",
      "param set is  303 \n",
      "param set is  304 \n",
      "param set is  305 \n",
      "param set is  306 \n",
      "param set is  307 \n",
      "param set is  308 \n",
      "param set is  309 \n",
      "param set is  310 \n",
      "param set is  311 \n",
      "param set is  312 \n",
      "param set is  313 \n",
      "param set is  314 \n",
      "param set is  315 \n",
      "param set is  316 \n",
      "param set is  317 \n",
      "param set is  318 \n",
      "param set is  319 \n",
      "param set is  320 \n",
      "param set is  321 \n",
      "param set is  322 \n",
      "param set is  323 \n",
      "param set is  324 \n",
      "param set is  325 \n",
      "param set is  326 \n",
      "param set is  327 \n",
      "param set is  328 \n",
      "param set is  329 \n",
      "param set is  330 \n",
      "param set is  331 \n",
      "param set is  332 \n",
      "param set is  333 \n",
      "param set is  334 \n",
      "param set is  335 \n",
      "param set is  336 \n",
      "param set is  337 \n",
      "param set is  338 \n",
      "param set is  339 \n",
      "param set is  340 \n",
      "param set is  341 \n",
      "param set is  342 \n",
      "param set is  343 \n",
      "param set is  344 \n",
      "param set is  345 \n",
      "param set is  346 \n",
      "param set is  347 \n",
      "param set is  348 \n",
      "param set is  349 \n",
      "param set is  350 \n",
      "param set is  351 \n",
      "param set is  352 \n",
      "param set is  353 \n",
      "param set is  354 \n",
      "param set is  355 \n",
      "param set is  356 \n",
      "param set is  357 \n",
      "param set is  358 \n",
      "param set is  359 \n",
      "param set is  360 \n",
      "param set is  361 \n",
      "param set is  362 \n",
      "param set is  363 \n",
      "param set is  364 \n",
      "param set is  365 \n",
      "param set is  366 \n",
      "param set is  367 \n",
      "param set is  368 \n",
      "param set is  369 \n",
      "param set is  370 \n",
      "param set is  371 \n",
      "param set is  372 \n",
      "param set is  373 \n",
      "param set is  374 \n",
      "param set is  375 \n",
      "param set is  376 \n",
      "param set is  377 \n",
      "param set is  378 \n",
      "param set is  379 \n",
      "param set is  380 \n",
      "param set is  381 \n",
      "param set is  382 \n",
      "param set is  383 \n",
      "param set is  384 \n",
      "param set is  385 \n",
      "param set is  386 \n",
      "param set is  387 \n",
      "param set is  388 \n",
      "param set is  389 \n",
      "param set is  390 \n",
      "param set is  391 \n"
     ]
    },
    {
     "name": "stderr",
     "output_type": "stream",
     "text": [
      "Warning message:\n",
      "\"package 'scatterplot3d' was built under R version 3.4.4\""
     ]
    },
    {
     "data": {
      "text/html": [
       "<strong>null device:</strong> 1"
      ],
      "text/latex": [
       "\\textbf{null device:} 1"
      ],
      "text/markdown": [
       "**null device:** 1"
      ],
      "text/plain": [
       "null device \n",
       "          1 "
      ]
     },
     "metadata": {},
     "output_type": "display_data"
    },
    {
     "data": {
      "image/png": "[encoded data removed]",
      "text/plain": [
       "plot without title"
      ]
     },
     "metadata": {},
     "output_type": "display_data"
    }
   ],
   "source": [
    "#pdf(\"BA_Scatterplot3Dkids.pdf\", width = 7, height = 6)\n",
    "\n",
    "mcGrid = MCBA(params = paramGrid, repeats = 40, mG = 20,\n",
    "                mO = 1000)\n",
    "\n",
    "save(mcGrid, file = \"mcGridOutput.rda\")\n",
    "\n",
    "logUQkids = sapply(mcGrid, function(x) \n",
    "               log(quantile(x[2, ], probs = 0.75), base = 10))\n",
    "\n",
    "UQCut = cut(logUQkids, breaks = c(-0.1, 0.5, 2, max(logUQkids)) )\n",
    "color3 = c(\"#b3cde3aa\", \"#8856a7aa\", \"#810f7caa\")\n",
    "colors = color3[UQCut]\n",
    "\n",
    "library(scatterplot3d)\n",
    "sdp = scatterplot3d(x = paramGrid[ , 1], y = paramGrid[ , 2], \n",
    "                    z = logUQkids, pch = 15, color = colors,\n",
    "                    xlab = \"Lambda\", ylab = \"Kappa\",\n",
    "                    zlab = \"Upper Quartile Offspring\",\n",
    "                    angle = 120, type=\"h\")\n",
    "\n",
    "legend(\"left\", inset = .08, bty = \"n\", cex = 0.8,\n",
    "       legend = c(\"[0, 0.5)\", \"[0.5, 2)\", \"[2, 5)\"), \n",
    "       fill = color3)\n",
    "\n",
    "dev.off()"
   ]
  },
  {
   "cell_type": "code",
   "execution_count": 17,
   "metadata": {
    "collapsed": false
   },
   "outputs": [
    {
     "data": {
      "text/html": [
       "<strong>null device:</strong> 1"
      ],
      "text/latex": [
       "\\textbf{null device:} 1"
      ],
      "text/markdown": [
       "**null device:** 1"
      ],
      "text/plain": [
       "null device \n",
       "          1 "
      ]
     },
     "metadata": {},
     "output_type": "display_data"
    },
    {
     "data": {
      "image/png": "[encoded data removed]",
      "text/plain": [
       "Plot with title \"\""
      ]
     },
     "metadata": {},
     "output_type": "display_data"
    }
   ],
   "source": [
    "#pdf(\"BA_ImageMapAlive.pdf\", width = 7, height = 7)\n",
    "oldPar  = par(mar = c(4.1, 4.1, 0.5, 0.5))\n",
    "\n",
    "mcGridAlive = sapply(mcGrid, function(oneParamSet) {\n",
    "  sum((oneParamSet[1,] == 20) | (oneParamSet[2,] > 1000)) / \n",
    "    length(oneParamSet[2,]) })\n",
    "\n",
    "filled.contour(lambdas, kappas, \n",
    "               matrix(mcGridAlive, nrow = length(lambdas), \n",
    "                      ncol = length(kappas)), \n",
    "               xlab = \"Lambda\", ylab = \"Kappa\", \n",
    "               xlim = c(0.1, 3), ylim = c(0.1, 3.1)) \n",
    "\n",
    "par(oldPar)\n",
    "dev.off()"
   ]
  },
  {
   "cell_type": "code",
   "execution_count": 18,
   "metadata": {
    "collapsed": false
   },
   "outputs": [
    {
     "ename": "ERROR",
     "evalue": "Error in legend(x = 0.1, y = 3.25, legend = midBreaks, fill = cols, bty = \"n\", : object 'cols' not found\n",
     "output_type": "error",
     "traceback": [
      "Error in legend(x = 0.1, y = 3.25, legend = midBreaks, fill = cols, bty = \"n\", : object 'cols' not found\nTraceback:\n",
      "1. legend(x = 0.1, y = 3.25, legend = midBreaks, fill = cols, bty = \"n\", \n .     ncol = 7, xpd = TRUE)"
     ]
    },
    {
     "data": {
      "image/png": "[encoded data removed]",
      "text/plain": [
       "plot without title"
      ]
     },
     "metadata": {},
     "output_type": "display_data"
    }
   ],
   "source": [
    "#pdf(\"BA_ImageMapAtleast20Kids.pdf\", width = 7, height = 7)\n",
    "oldPar  = par(mar = c(4.1, 4.1, 2, 1))\n",
    "\n",
    "mcGridProp20kids = sapply(mcGrid, function(oneParamSet) {\n",
    "  sum(oneParamSet[2,] > 19) / length(oneParamSet[2,]) })\n",
    "\n",
    "mcGridProp20kidsMat = matrix(mcGridProp20kids, \n",
    "                             nrow = length(lambdas), \n",
    "                             ncol = length(kappas))\n",
    "\n",
    "breaks = c(0, 0.10, 0.2, 0.3, 0.5, 0.7, 0.9, 1)\n",
    "colors = rev(rainbow(10))[-(1:3)]\n",
    "\n",
    "image(lambdas, kappas, mcGridProp20kidsMat, col = colors,\n",
    "      breaks = breaks, xlab = \"Lambda\", ylab = \"Kappa\", \n",
    "      xlim = c(0.05, 3.05), ylim = c(0.05, 3.05))\n",
    "\n",
    "midBreaks = (breaks[ -8 ] + breaks[ -1 ]) / 2\n",
    "legend(x = 0.1, y = 3.25, legend = midBreaks, fill = cols, \n",
    "       bty = \"n\", ncol = 7,  xpd = TRUE)\n",
    "\n",
    "par(oldPar)\n",
    "dev.off()"
   ]
  },
  {
   "cell_type": "code",
   "execution_count": 19,
   "metadata": {
    "collapsed": false
   },
   "outputs": [
    {
     "name": "stderr",
     "output_type": "stream",
     "text": [
      "Installing package into 'C:/Users/Robert/Documents/R/win-library/3.4'\n",
      "(as 'lib' is unspecified)\n"
     ]
    },
    {
     "ename": "ERROR",
     "evalue": "Error in contrib.url(repos, \"source\"): trying to use CRAN without setting a mirror\n",
     "output_type": "error",
     "traceback": [
      "Error in contrib.url(repos, \"source\"): trying to use CRAN without setting a mirror\nTraceback:\n",
      "1. install.packages(\"scatterplot3d\")",
      "2. contrib.url(repos, \"source\")",
      "3. stop(\"trying to use CRAN without setting a mirror\")"
     ]
    }
   ],
   "source": [
    "install.packages(\"scatterplot3d\")"
   ]
  },
  {
   "cell_type": "code",
   "execution_count": null,
   "metadata": {
    "collapsed": true
   },
   "outputs": [],
   "source": []
  }
 ],
 "metadata": {
  "kernelspec": {
   "display_name": "R",
   "language": "R",
   "name": "ir"
  },
  "language_info": {
   "codemirror_mode": "r",
   "file_extension": ".r",
   "mimetype": "text/x-r-source",
   "name": "R",
   "pygments_lexer": "r",
   "version": "3.4.3"
  }
 },
 "nbformat": 4,
 "nbformat_minor": 0
}
