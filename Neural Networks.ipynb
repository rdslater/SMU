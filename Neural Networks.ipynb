{
 "cells": [
  {
   "cell_type": "code",
   "execution_count": 1,
   "id": "canadian-walter",
   "metadata": {},
   "outputs": [],
   "source": [
    "import tensorflow as tf\n",
    "import pandas as pd\n",
    "import numpy as np"
   ]
  },
  {
   "cell_type": "code",
   "execution_count": 2,
   "id": "necessary-selection",
   "metadata": {},
   "outputs": [],
   "source": [
    "from sklearn.datasets import fetch_california_housing\n",
    "data = fetch_california_housing()"
   ]
  },
  {
   "cell_type": "code",
   "execution_count": 3,
   "id": "entire-anderson",
   "metadata": {},
   "outputs": [
    {
     "data": {
      "text/plain": [
       "{'data': array([[   8.3252    ,   41.        ,    6.98412698, ...,    2.55555556,\n",
       "           37.88      , -122.23      ],\n",
       "        [   8.3014    ,   21.        ,    6.23813708, ...,    2.10984183,\n",
       "           37.86      , -122.22      ],\n",
       "        [   7.2574    ,   52.        ,    8.28813559, ...,    2.80225989,\n",
       "           37.85      , -122.24      ],\n",
       "        ...,\n",
       "        [   1.7       ,   17.        ,    5.20554273, ...,    2.3256351 ,\n",
       "           39.43      , -121.22      ],\n",
       "        [   1.8672    ,   18.        ,    5.32951289, ...,    2.12320917,\n",
       "           39.43      , -121.32      ],\n",
       "        [   2.3886    ,   16.        ,    5.25471698, ...,    2.61698113,\n",
       "           39.37      , -121.24      ]]),\n",
       " 'target': array([4.526, 3.585, 3.521, ..., 0.923, 0.847, 0.894]),\n",
       " 'frame': None,\n",
       " 'target_names': ['MedHouseVal'],\n",
       " 'feature_names': ['MedInc',\n",
       "  'HouseAge',\n",
       "  'AveRooms',\n",
       "  'AveBedrms',\n",
       "  'Population',\n",
       "  'AveOccup',\n",
       "  'Latitude',\n",
       "  'Longitude'],\n",
       " 'DESCR': '.. _california_housing_dataset:\\n\\nCalifornia Housing dataset\\n--------------------------\\n\\n**Data Set Characteristics:**\\n\\n    :Number of Instances: 20640\\n\\n    :Number of Attributes: 8 numeric, predictive attributes and the target\\n\\n    :Attribute Information:\\n        - MedInc        median income in block\\n        - HouseAge      median house age in block\\n        - AveRooms      average number of rooms\\n        - AveBedrms     average number of bedrooms\\n        - Population    block population\\n        - AveOccup      average house occupancy\\n        - Latitude      house block latitude\\n        - Longitude     house block longitude\\n\\n    :Missing Attribute Values: None\\n\\nThis dataset was obtained from the StatLib repository.\\nhttp://lib.stat.cmu.edu/datasets/\\n\\nThe target variable is the median house value for California districts.\\n\\nThis dataset was derived from the 1990 U.S. census, using one row per census\\nblock group. A block group is the smallest geographical unit for which the U.S.\\nCensus Bureau publishes sample data (a block group typically has a population\\nof 600 to 3,000 people).\\n\\nIt can be downloaded/loaded using the\\n:func:`sklearn.datasets.fetch_california_housing` function.\\n\\n.. topic:: References\\n\\n    - Pace, R. Kelley and Ronald Barry, Sparse Spatial Autoregressions,\\n      Statistics and Probability Letters, 33 (1997) 291-297\\n'}"
      ]
     },
     "execution_count": 3,
     "metadata": {},
     "output_type": "execute_result"
    }
   ],
   "source": [
    "data"
   ]
  },
  {
   "cell_type": "code",
   "execution_count": 4,
   "id": "distributed-bookmark",
   "metadata": {},
   "outputs": [],
   "source": [
    "X = data['data']\n",
    "y = data['target']"
   ]
  },
  {
   "cell_type": "code",
   "execution_count": 5,
   "id": "young-colorado",
   "metadata": {},
   "outputs": [],
   "source": [
    "from sklearn.preprocessing import StandardScaler\n",
    "scaler = StandardScaler()\n",
    "scaled_data = scaler.fit_transform(X)"
   ]
  },
  {
   "cell_type": "code",
   "execution_count": 6,
   "id": "simple-uganda",
   "metadata": {},
   "outputs": [],
   "source": [
    "my_model = tf.keras.Sequential()"
   ]
  },
  {
   "cell_type": "code",
   "execution_count": 7,
   "id": "relevant-shell",
   "metadata": {},
   "outputs": [
    {
     "data": {
      "text/plain": [
       "(20640, 8)"
      ]
     },
     "execution_count": 7,
     "metadata": {},
     "output_type": "execute_result"
    }
   ],
   "source": [
    "scaled_data.shape"
   ]
  },
  {
   "cell_type": "code",
   "execution_count": 9,
   "id": "superb-brown",
   "metadata": {},
   "outputs": [],
   "source": [
    "my_model.add(tf.keras.Input(shape=(8,)))\n",
    "my_model.add(tf.keras.layers.Dense(100, activation='sigmoid'))\n",
    "my_model.add(tf.keras.layers.Dense(50, activation='sigmoid'))\n",
    "my_model.add(tf.keras.layers.Dense(1, activation='linear'))"
   ]
  },
  {
   "cell_type": "code",
   "execution_count": 13,
   "id": "handy-charter",
   "metadata": {},
   "outputs": [],
   "source": [
    "my_model.compile(optimizer='sgd', loss= 'mean_squared_error', metrics=['mean_squared_error','mean_absolute_error'])"
   ]
  },
  {
   "cell_type": "code",
   "execution_count": 14,
   "id": "interstate-catalog",
   "metadata": {},
   "outputs": [
    {
     "name": "stdout",
     "output_type": "stream",
     "text": [
      "Epoch 1/10\n",
      "1215/1215 [==============================] - 1s 654us/step - loss: 1.0929 - mean_squared_error: 1.0929 - mean_absolute_error: 0.8107\n",
      "Epoch 2/10\n",
      "1215/1215 [==============================] - 1s 638us/step - loss: 0.5771 - mean_squared_error: 0.5771 - mean_absolute_error: 0.5641\n",
      "Epoch 3/10\n",
      "1215/1215 [==============================] - 1s 650us/step - loss: 0.5201 - mean_squared_error: 0.5201 - mean_absolute_error: 0.5318\n",
      "Epoch 4/10\n",
      "1215/1215 [==============================] - 1s 639us/step - loss: 0.5202 - mean_squared_error: 0.5202 - mean_absolute_error: 0.5294\n",
      "Epoch 5/10\n",
      "1215/1215 [==============================] - 1s 638us/step - loss: 0.5017 - mean_squared_error: 0.5017 - mean_absolute_error: 0.5188\n",
      "Epoch 6/10\n",
      "1215/1215 [==============================] - 1s 699us/step - loss: 0.4798 - mean_squared_error: 0.4798 - mean_absolute_error: 0.5048\n",
      "Epoch 7/10\n",
      "1215/1215 [==============================] - 1s 675us/step - loss: 0.4997 - mean_squared_error: 0.4997 - mean_absolute_error: 0.5106\n",
      "Epoch 8/10\n",
      "1215/1215 [==============================] - 1s 678us/step - loss: 0.4844 - mean_squared_error: 0.4844 - mean_absolute_error: 0.5063\n",
      "Epoch 9/10\n",
      "1215/1215 [==============================] - 1s 657us/step - loss: 0.4866 - mean_squared_error: 0.4866 - mean_absolute_error: 0.5104\n",
      "Epoch 10/10\n",
      "1215/1215 [==============================] - 1s 651us/step - loss: 0.4700 - mean_squared_error: 0.4700 - mean_absolute_error: 0.4993\n"
     ]
    },
    {
     "data": {
      "text/plain": [
       "<tensorflow.python.keras.callbacks.History at 0x21e3235ecd0>"
      ]
     },
     "execution_count": 14,
     "metadata": {},
     "output_type": "execute_result"
    }
   ],
   "source": [
    "my_model.fit(scaled_data, y, epochs=10, batch_size=17)"
   ]
  },
  {
   "cell_type": "code",
   "execution_count": 15,
   "id": "disabled-transparency",
   "metadata": {},
   "outputs": [
    {
     "data": {
      "text/plain": [
       "array([[4.276727  ],\n",
       "       [4.183265  ],\n",
       "       [3.770059  ],\n",
       "       ...,\n",
       "       [0.3061877 ],\n",
       "       [0.42780542],\n",
       "       [0.55672777]], dtype=float32)"
      ]
     },
     "execution_count": 15,
     "metadata": {},
     "output_type": "execute_result"
    }
   ],
   "source": [
    "my_model.predict(scaled_data)"
   ]
  },
  {
   "cell_type": "code",
   "execution_count": 16,
   "id": "persistent-driving",
   "metadata": {},
   "outputs": [],
   "source": [
    "from sklearn.datasets import load_iris\n",
    "data = load_iris()\n",
    "X = data['data']\n",
    "y= data['target']"
   ]
  },
  {
   "cell_type": "code",
   "execution_count": 17,
   "id": "surprising-turner",
   "metadata": {},
   "outputs": [
    {
     "data": {
      "text/plain": [
       "(150, 4)"
      ]
     },
     "execution_count": 17,
     "metadata": {},
     "output_type": "execute_result"
    }
   ],
   "source": [
    "X.shape"
   ]
  },
  {
   "cell_type": "code",
   "execution_count": 21,
   "id": "chief-objective",
   "metadata": {},
   "outputs": [],
   "source": [
    "my_new_model = tf.keras.Model()\n",
    "zero_layer = tf.keras.Input(shape=(4,))\n",
    "layer1 = tf.keras.layers.Dense(10, activation='relu')(zero_layer)\n",
    "layer2 = tf.keras.layers.Dense(5, activation='relu')(layer1)\n",
    "layer3 = tf.keras.layers.Dense(3, activation='softmax')(layer2)\n",
    "my_new_model = tf.keras.Model(inputs=zero_layer, outputs=layer3)\n",
    "my_new_model.compile(optimizer='adam', loss=tf.keras.losses.SparseCategoricalCrossentropy(), metrics=['accuracy'])\n",
    "                         \n"
   ]
  },
  {
   "cell_type": "code",
   "execution_count": 22,
   "id": "hourly-editing",
   "metadata": {},
   "outputs": [
    {
     "name": "stdout",
     "output_type": "stream",
     "text": [
      "Epoch 1/100\n",
      "30/30 [==============================] - 0s 862us/step - loss: 1.1311 - accuracy: 0.4811\n",
      "Epoch 2/100\n",
      "30/30 [==============================] - 0s 862us/step - loss: 1.1016 - accuracy: 0.3751\n",
      "Epoch 3/100\n",
      "30/30 [==============================] - 0s 621us/step - loss: 1.0871 - accuracy: 0.4820\n",
      "Epoch 4/100\n",
      "30/30 [==============================] - 0s 621us/step - loss: 1.0696 - accuracy: 0.4650\n",
      "Epoch 5/100\n",
      "30/30 [==============================] - 0s 586us/step - loss: 1.0658 - accuracy: 0.3241\n",
      "Epoch 6/100\n",
      "30/30 [==============================] - 0s 861us/step - loss: 1.0504 - accuracy: 0.3297\n",
      "Epoch 7/100\n",
      "30/30 [==============================] - 0s 655us/step - loss: 1.0111 - accuracy: 0.5075\n",
      "Epoch 8/100\n",
      "30/30 [==============================] - 0s 758us/step - loss: 0.9662 - accuracy: 0.6546\n",
      "Epoch 9/100\n",
      "30/30 [==============================] - 0s 724us/step - loss: 0.9097 - accuracy: 0.8105\n",
      "Epoch 10/100\n",
      "30/30 [==============================] - 0s 759us/step - loss: 0.8528 - accuracy: 0.8625\n",
      "Epoch 11/100\n",
      "30/30 [==============================] - 0s 724us/step - loss: 0.7775 - accuracy: 0.8647\n",
      "Epoch 12/100\n",
      "30/30 [==============================] - 0s 655us/step - loss: 0.7752 - accuracy: 0.9214\n",
      "Epoch 13/100\n",
      "30/30 [==============================] - 0s 896us/step - loss: 0.7365 - accuracy: 0.9265\n",
      "Epoch 14/100\n",
      "30/30 [==============================] - 0s 931us/step - loss: 0.7054 - accuracy: 0.8912\n",
      "Epoch 15/100\n",
      "30/30 [==============================] - 0s 862us/step - loss: 0.6833 - accuracy: 0.9247\n",
      "Epoch 16/100\n",
      "30/30 [==============================] - 0s 724us/step - loss: 0.6396 - accuracy: 0.9300\n",
      "Epoch 17/100\n",
      "30/30 [==============================] - 0s 758us/step - loss: 0.6274 - accuracy: 0.9529\n",
      "Epoch 18/100\n",
      "30/30 [==============================] - 0s 896us/step - loss: 0.5914 - accuracy: 0.9650\n",
      "Epoch 19/100\n",
      "30/30 [==============================] - 0s 690us/step - loss: 0.5453 - accuracy: 0.9563\n",
      "Epoch 20/100\n",
      "30/30 [==============================] - 0s 793us/step - loss: 0.5770 - accuracy: 0.9472\n",
      "Epoch 21/100\n",
      "30/30 [==============================] - 0s 586us/step - loss: 0.5506 - accuracy: 0.9735\n",
      "Epoch 22/100\n",
      "30/30 [==============================] - 0s 828us/step - loss: 0.5672 - accuracy: 0.9203\n",
      "Epoch 23/100\n",
      "30/30 [==============================] - 0s 793us/step - loss: 0.5177 - accuracy: 0.9098\n",
      "Epoch 24/100\n",
      "30/30 [==============================] - 0s 655us/step - loss: 0.5085 - accuracy: 0.9627\n",
      "Epoch 25/100\n",
      "30/30 [==============================] - 0s 760us/step - loss: 0.5138 - accuracy: 0.9521\n",
      "Epoch 26/100\n",
      "30/30 [==============================] - 0s 656us/step - loss: 0.4996 - accuracy: 0.9284\n",
      "Epoch 27/100\n",
      "30/30 [==============================] - 0s 724us/step - loss: 0.4834 - accuracy: 0.9782\n",
      "Epoch 28/100\n",
      "30/30 [==============================] - 0s 655us/step - loss: 0.4588 - accuracy: 0.9491\n",
      "Epoch 29/100\n",
      "30/30 [==============================] - ETA: 0s - loss: 0.3995 - accuracy: 1.00 - 0s 517us/step - loss: 0.4419 - accuracy: 0.9616\n",
      "Epoch 30/100\n",
      "30/30 [==============================] - 0s 586us/step - loss: 0.4457 - accuracy: 0.9752\n",
      "Epoch 31/100\n",
      "30/30 [==============================] - 0s 724us/step - loss: 0.4260 - accuracy: 0.9612\n",
      "Epoch 32/100\n",
      "30/30 [==============================] - 0s 724us/step - loss: 0.3972 - accuracy: 0.9815\n",
      "Epoch 33/100\n",
      "30/30 [==============================] - 0s 793us/step - loss: 0.3901 - accuracy: 0.9723\n",
      "Epoch 34/100\n",
      "30/30 [==============================] - 0s 621us/step - loss: 0.3734 - accuracy: 0.9623\n",
      "Epoch 35/100\n",
      "30/30 [==============================] - 0s 759us/step - loss: 0.4045 - accuracy: 0.9571\n",
      "Epoch 36/100\n",
      "30/30 [==============================] - 0s 655us/step - loss: 0.3675 - accuracy: 0.9796\n",
      "Epoch 37/100\n",
      "30/30 [==============================] - 0s 758us/step - loss: 0.3679 - accuracy: 0.9442\n",
      "Epoch 38/100\n",
      "30/30 [==============================] - 0s 655us/step - loss: 0.3732 - accuracy: 0.9709\n",
      "Epoch 39/100\n",
      "30/30 [==============================] - 0s 862us/step - loss: 0.3736 - accuracy: 0.9516\n",
      "Epoch 40/100\n",
      "30/30 [==============================] - 0s 759us/step - loss: 0.3213 - accuracy: 0.9833\n",
      "Epoch 41/100\n",
      "30/30 [==============================] - 0s 655us/step - loss: 0.3238 - accuracy: 0.9575\n",
      "Epoch 42/100\n",
      "30/30 [==============================] - 0s 793us/step - loss: 0.3210 - accuracy: 0.9791\n",
      "Epoch 43/100\n",
      "30/30 [==============================] - 0s 759us/step - loss: 0.3037 - accuracy: 0.9672\n",
      "Epoch 44/100\n",
      "30/30 [==============================] - 0s 586us/step - loss: 0.3215 - accuracy: 0.9657\n",
      "Epoch 45/100\n",
      "30/30 [==============================] - 0s 793us/step - loss: 0.3198 - accuracy: 0.9553\n",
      "Epoch 46/100\n",
      "30/30 [==============================] - 0s 620us/step - loss: 0.2953 - accuracy: 0.9695\n",
      "Epoch 47/100\n",
      "30/30 [==============================] - 0s 827us/step - loss: 0.2726 - accuracy: 0.9816\n",
      "Epoch 48/100\n",
      "30/30 [==============================] - 0s 724us/step - loss: 0.2869 - accuracy: 0.9861\n",
      "Epoch 49/100\n",
      "30/30 [==============================] - 0s 724us/step - loss: 0.2534 - accuracy: 0.9787\n",
      "Epoch 50/100\n",
      "30/30 [==============================] - 0s 827us/step - loss: 0.2821 - accuracy: 0.9768\n",
      "Epoch 51/100\n",
      "30/30 [==============================] - 0s 552us/step - loss: 0.2499 - accuracy: 0.9916\n",
      "Epoch 52/100\n",
      "30/30 [==============================] - 0s 621us/step - loss: 0.2794 - accuracy: 0.9532\n",
      "Epoch 53/100\n",
      "30/30 [==============================] - 0s 655us/step - loss: 0.2497 - accuracy: 0.9869\n",
      "Epoch 54/100\n",
      "30/30 [==============================] - 0s 724us/step - loss: 0.2391 - accuracy: 0.9557\n",
      "Epoch 55/100\n",
      "30/30 [==============================] - 0s 724us/step - loss: 0.2589 - accuracy: 0.9402\n",
      "Epoch 56/100\n",
      "30/30 [==============================] - 0s 551us/step - loss: 0.2491 - accuracy: 0.9809\n",
      "Epoch 57/100\n",
      "30/30 [==============================] - 0s 862us/step - loss: 0.2405 - accuracy: 0.9844\n",
      "Epoch 58/100\n",
      "30/30 [==============================] - 0s 586us/step - loss: 0.2470 - accuracy: 0.9722\n",
      "Epoch 59/100\n",
      "30/30 [==============================] - 0s 621us/step - loss: 0.2325 - accuracy: 0.9840\n",
      "Epoch 60/100\n",
      "30/30 [==============================] - 0s 552us/step - loss: 0.2068 - accuracy: 0.9750\n",
      "Epoch 61/100\n",
      "30/30 [==============================] - 0s 690us/step - loss: 0.2143 - accuracy: 0.9792\n",
      "Epoch 62/100\n",
      "30/30 [==============================] - 0s 552us/step - loss: 0.2253 - accuracy: 0.9699\n",
      "Epoch 63/100\n",
      "30/30 [==============================] - 0s 655us/step - loss: 0.2269 - accuracy: 0.9798\n",
      "Epoch 64/100\n",
      "30/30 [==============================] - 0s 587us/step - loss: 0.2258 - accuracy: 0.9604\n",
      "Epoch 65/100\n",
      "30/30 [==============================] - 0s 690us/step - loss: 0.2183 - accuracy: 0.9553\n",
      "Epoch 66/100\n",
      "30/30 [==============================] - 0s 759us/step - loss: 0.2249 - accuracy: 0.9686\n",
      "Epoch 67/100\n",
      "30/30 [==============================] - 0s 655us/step - loss: 0.2048 - accuracy: 0.9724\n",
      "Epoch 68/100\n",
      "30/30 [==============================] - 0s 759us/step - loss: 0.2057 - accuracy: 0.9677\n",
      "Epoch 69/100\n",
      "30/30 [==============================] - 0s 655us/step - loss: 0.2006 - accuracy: 0.9783\n",
      "Epoch 70/100\n",
      "30/30 [==============================] - 0s 690us/step - loss: 0.2082 - accuracy: 0.9731\n",
      "Epoch 71/100\n",
      "30/30 [==============================] - 0s 586us/step - loss: 0.2028 - accuracy: 0.9830\n",
      "Epoch 72/100\n",
      "30/30 [==============================] - 0s 655us/step - loss: 0.1832 - accuracy: 0.9842\n",
      "Epoch 73/100\n",
      "30/30 [==============================] - 0s 655us/step - loss: 0.1753 - accuracy: 0.9839\n",
      "Epoch 74/100\n",
      "30/30 [==============================] - 0s 655us/step - loss: 0.1988 - accuracy: 0.9560\n",
      "Epoch 75/100\n",
      "30/30 [==============================] - 0s 655us/step - loss: 0.1574 - accuracy: 0.9852\n",
      "Epoch 76/100\n",
      "30/30 [==============================] - 0s 655us/step - loss: 0.1714 - accuracy: 0.9782\n",
      "Epoch 77/100\n",
      "30/30 [==============================] - 0s 793us/step - loss: 0.2051 - accuracy: 0.9675\n",
      "Epoch 78/100\n",
      "30/30 [==============================] - 0s 517us/step - loss: 0.1639 - accuracy: 0.9882\n",
      "Epoch 79/100\n",
      "30/30 [==============================] - 0s 655us/step - loss: 0.1803 - accuracy: 0.9797\n",
      "Epoch 80/100\n",
      "30/30 [==============================] - 0s 724us/step - loss: 0.1487 - accuracy: 0.9828\n"
     ]
    },
    {
     "name": "stdout",
     "output_type": "stream",
     "text": [
      "Epoch 81/100\n",
      "30/30 [==============================] - 0s 655us/step - loss: 0.1799 - accuracy: 0.9533\n",
      "Epoch 82/100\n",
      "30/30 [==============================] - 0s 621us/step - loss: 0.1453 - accuracy: 0.9874\n",
      "Epoch 83/100\n",
      "30/30 [==============================] - 0s 689us/step - loss: 0.1680 - accuracy: 0.9773\n",
      "Epoch 84/100\n",
      "30/30 [==============================] - 0s 724us/step - loss: 0.1431 - accuracy: 0.9820\n",
      "Epoch 85/100\n",
      "30/30 [==============================] - 0s 552us/step - loss: 0.1558 - accuracy: 0.9777\n",
      "Epoch 86/100\n",
      "30/30 [==============================] - 0s 724us/step - loss: 0.1575 - accuracy: 0.9740\n",
      "Epoch 87/100\n",
      "30/30 [==============================] - 0s 620us/step - loss: 0.1248 - accuracy: 0.9905\n",
      "Epoch 88/100\n",
      "30/30 [==============================] - 0s 690us/step - loss: 0.1529 - accuracy: 0.9775\n",
      "Epoch 89/100\n",
      "30/30 [==============================] - 0s 586us/step - loss: 0.1220 - accuracy: 0.9801\n",
      "Epoch 90/100\n",
      "30/30 [==============================] - 0s 620us/step - loss: 0.1584 - accuracy: 0.9544\n",
      "Epoch 91/100\n",
      "30/30 [==============================] - 0s 655us/step - loss: 0.1324 - accuracy: 0.9820\n",
      "Epoch 92/100\n",
      "30/30 [==============================] - 0s 723us/step - loss: 0.1631 - accuracy: 0.9693\n",
      "Epoch 93/100\n",
      "30/30 [==============================] - 0s 690us/step - loss: 0.1403 - accuracy: 0.9777\n",
      "Epoch 94/100\n",
      "30/30 [==============================] - 0s 621us/step - loss: 0.1207 - accuracy: 0.9881\n",
      "Epoch 95/100\n",
      "30/30 [==============================] - 0s 552us/step - loss: 0.1300 - accuracy: 0.9746\n",
      "Epoch 96/100\n",
      "30/30 [==============================] - 0s 620us/step - loss: 0.1276 - accuracy: 0.9894\n",
      "Epoch 97/100\n",
      "30/30 [==============================] - 0s 896us/step - loss: 0.1333 - accuracy: 0.9775\n",
      "Epoch 98/100\n",
      "30/30 [==============================] - 0s 655us/step - loss: 0.1420 - accuracy: 0.9745\n",
      "Epoch 99/100\n",
      "30/30 [==============================] - 0s 828us/step - loss: 0.1457 - accuracy: 0.9572\n",
      "Epoch 100/100\n",
      "30/30 [==============================] - 0s 690us/step - loss: 0.1136 - accuracy: 0.9899\n"
     ]
    },
    {
     "data": {
      "text/plain": [
       "<tensorflow.python.keras.callbacks.History at 0x21e3c254b80>"
      ]
     },
     "execution_count": 22,
     "metadata": {},
     "output_type": "execute_result"
    }
   ],
   "source": [
    "my_new_model.fit(X,y,batch_size=5, epochs=100)"
   ]
  },
  {
   "cell_type": "code",
   "execution_count": 24,
   "id": "electrical-cookbook",
   "metadata": {},
   "outputs": [
    {
     "data": {
      "text/plain": [
       "array([[ 2.34476576,  0.98214266,  0.62855945, ..., -0.04959654,\n",
       "         1.05254828, -1.32783522],\n",
       "       [ 2.33223796, -0.60701891,  0.32704136, ..., -0.09251223,\n",
       "         1.04318455, -1.32284391],\n",
       "       [ 1.7826994 ,  1.85618152,  1.15562047, ..., -0.02584253,\n",
       "         1.03850269, -1.33282653],\n",
       "       ...,\n",
       "       [-1.14259331, -0.92485123, -0.09031802, ..., -0.0717345 ,\n",
       "         1.77823747, -0.8237132 ],\n",
       "       [-1.05458292, -0.84539315, -0.04021111, ..., -0.09122515,\n",
       "         1.77823747, -0.87362627],\n",
       "       [-0.78012947, -1.00430931, -0.07044252, ..., -0.04368215,\n",
       "         1.75014627, -0.83369581]])"
      ]
     },
     "execution_count": 24,
     "metadata": {},
     "output_type": "execute_result"
    }
   ],
   "source": [
    "scaled_data"
   ]
  },
  {
   "cell_type": "code",
   "execution_count": 25,
   "id": "higher-garden",
   "metadata": {},
   "outputs": [],
   "source": [
    "data = fetch_california_housing()\n",
    "y = data['target']"
   ]
  },
  {
   "cell_type": "code",
   "execution_count": 26,
   "id": "nominated-fashion",
   "metadata": {},
   "outputs": [],
   "source": [
    "from sklearn.model_selection import train_test_split\n",
    "x_train, x_test, y_train, y_test = train_test_split(scaled_data, y)"
   ]
  },
  {
   "cell_type": "code",
   "execution_count": 27,
   "id": "controlled-lightweight",
   "metadata": {},
   "outputs": [
    {
     "data": {
      "text/plain": [
       "(15480, 8)"
      ]
     },
     "execution_count": 27,
     "metadata": {},
     "output_type": "execute_result"
    }
   ],
   "source": [
    "x_train.shape"
   ]
  },
  {
   "cell_type": "code",
   "execution_count": 28,
   "id": "confident-renewal",
   "metadata": {},
   "outputs": [
    {
     "data": {
      "text/plain": [
       "(5160, 8)"
      ]
     },
     "execution_count": 28,
     "metadata": {},
     "output_type": "execute_result"
    }
   ],
   "source": [
    "x_test.shape"
   ]
  },
  {
   "cell_type": "code",
   "execution_count": 31,
   "id": "executed-yeast",
   "metadata": {},
   "outputs": [],
   "source": [
    "tb_model=tf.keras.Sequential()\n",
    "tb_model.add(tf.keras.layers.Dense(100, activation='sigmoid'))\n",
    "tb_model.add(tf.keras.layers.Dense(1, activation='linear'))\n",
    "tb_model.compile(optimizer='sgd', loss= 'mean_squared_error', metrics=['mean_squared_error','mean_absolute_error'])"
   ]
  },
  {
   "cell_type": "code",
   "execution_count": 30,
   "id": "potential-hamilton",
   "metadata": {},
   "outputs": [
    {
     "name": "stdout",
     "output_type": "stream",
     "text": [
      "The tensorboard extension is already loaded. To reload it, use:\n",
      "  %reload_ext tensorboard\n"
     ]
    },
    {
     "data": {
      "text/plain": [
       "Reusing TensorBoard on port 6006 (pid 12884), started 0:00:42 ago. (Use '!kill 12884' to kill it.)"
      ]
     },
     "metadata": {},
     "output_type": "display_data"
    },
    {
     "data": {
      "text/html": [
       "\n",
       "      <iframe id=\"tensorboard-frame-317304a698273c06\" width=\"100%\" height=\"800\" frameborder=\"0\">\n",
       "      </iframe>\n",
       "      <script>\n",
       "        (function() {\n",
       "          const frame = document.getElementById(\"tensorboard-frame-317304a698273c06\");\n",
       "          const url = new URL(\"/\", window.location);\n",
       "          const port = 6006;\n",
       "          if (port) {\n",
       "            url.port = port;\n",
       "          }\n",
       "          frame.src = url;\n",
       "        })();\n",
       "      </script>\n",
       "    "
      ],
      "text/plain": [
       "<IPython.core.display.HTML object>"
      ]
     },
     "metadata": {},
     "output_type": "display_data"
    }
   ],
   "source": [
    "from tensorflow.keras.callbacks import TensorBoard\n",
    "from time import time\n",
    "tb = TensorBoard(log_dir=f\"logs\\\\{time()}\")\n",
    "%load_ext tensorboard\n",
    "%tensorboard --logdir logs"
   ]
  },
  {
   "cell_type": "code",
   "execution_count": 32,
   "id": "premier-kenya",
   "metadata": {},
   "outputs": [
    {
     "name": "stdout",
     "output_type": "stream",
     "text": [
      "Epoch 1/10\n",
      "774/774 [==============================] - 1s 1ms/step - loss: 1.0043 - mean_squared_error: 1.0043 - mean_absolute_error: 0.7532 - val_loss: 0.5662 - val_mean_squared_error: 0.5662 - val_mean_absolute_error: 0.5537\n",
      "Epoch 2/10\n",
      "774/774 [==============================] - 1s 917us/step - loss: 0.5814 - mean_squared_error: 0.5814 - mean_absolute_error: 0.5612 - val_loss: 0.5256 - val_mean_squared_error: 0.5256 - val_mean_absolute_error: 0.5301\n",
      "Epoch 3/10\n",
      "774/774 [==============================] - 1s 820us/step - loss: 0.5461 - mean_squared_error: 0.5461 - mean_absolute_error: 0.5402 - val_loss: 0.5148 - val_mean_squared_error: 0.5148 - val_mean_absolute_error: 0.5156\n",
      "Epoch 4/10\n",
      "774/774 [==============================] - 1s 799us/step - loss: 0.5182 - mean_squared_error: 0.5182 - mean_absolute_error: 0.5217 - val_loss: 0.5110 - val_mean_squared_error: 0.5110 - val_mean_absolute_error: 0.5494\n",
      "Epoch 5/10\n",
      "774/774 [==============================] - 1s 806us/step - loss: 0.5174 - mean_squared_error: 0.5174 - mean_absolute_error: 0.5236 - val_loss: 0.5047 - val_mean_squared_error: 0.5047 - val_mean_absolute_error: 0.5455\n",
      "Epoch 6/10\n",
      "774/774 [==============================] - 1s 815us/step - loss: 0.5130 - mean_squared_error: 0.5130 - mean_absolute_error: 0.5209 - val_loss: 0.4959 - val_mean_squared_error: 0.4959 - val_mean_absolute_error: 0.5107\n",
      "Epoch 7/10\n",
      "774/774 [==============================] - 1s 829us/step - loss: 0.4978 - mean_squared_error: 0.4978 - mean_absolute_error: 0.5166 - val_loss: 0.4869 - val_mean_squared_error: 0.4869 - val_mean_absolute_error: 0.5118\n",
      "Epoch 8/10\n",
      "774/774 [==============================] - 1s 860us/step - loss: 0.4950 - mean_squared_error: 0.4950 - mean_absolute_error: 0.5148 - val_loss: 0.4850 - val_mean_squared_error: 0.4850 - val_mean_absolute_error: 0.5165\n",
      "Epoch 9/10\n",
      "774/774 [==============================] - 1s 761us/step - loss: 0.4856 - mean_squared_error: 0.4856 - mean_absolute_error: 0.5084 - val_loss: 0.4896 - val_mean_squared_error: 0.4896 - val_mean_absolute_error: 0.5028\n",
      "Epoch 10/10\n",
      "774/774 [==============================] - 1s 854us/step - loss: 0.4868 - mean_squared_error: 0.4868 - mean_absolute_error: 0.5057 - val_loss: 0.5068 - val_mean_squared_error: 0.5068 - val_mean_absolute_error: 0.5033\n"
     ]
    },
    {
     "data": {
      "text/plain": [
       "<tensorflow.python.keras.callbacks.History at 0x21e3c647fd0>"
      ]
     },
     "execution_count": 32,
     "metadata": {},
     "output_type": "execute_result"
    }
   ],
   "source": [
    "tb_model.fit(x_train,y_train, epochs=10, validation_data=(x_test,y_test), batch_size=20, callbacks=[tb])"
   ]
  },
  {
   "cell_type": "code",
   "execution_count": 35,
   "id": "official-resort",
   "metadata": {},
   "outputs": [
    {
     "data": {
      "text/plain": [
       "4"
      ]
     },
     "execution_count": 35,
     "metadata": {},
     "output_type": "execute_result"
    }
   ],
   "source": [
    "len(tb_model.get_weights())"
   ]
  },
  {
   "cell_type": "code",
   "execution_count": 36,
   "id": "front-consolidation",
   "metadata": {},
   "outputs": [],
   "source": [
    "weights= tb_model.get_weights()"
   ]
  },
  {
   "cell_type": "code",
   "execution_count": 37,
   "id": "muslim-heating",
   "metadata": {},
   "outputs": [
    {
     "data": {
      "text/plain": [
       "(8, 100)"
      ]
     },
     "execution_count": 37,
     "metadata": {},
     "output_type": "execute_result"
    }
   ],
   "source": [
    "weights[0].shape"
   ]
  },
  {
   "cell_type": "code",
   "execution_count": 38,
   "id": "fifth-airfare",
   "metadata": {},
   "outputs": [
    {
     "data": {
      "text/plain": [
       "(100,)"
      ]
     },
     "execution_count": 38,
     "metadata": {},
     "output_type": "execute_result"
    }
   ],
   "source": [
    "weights[1].shape"
   ]
  },
  {
   "cell_type": "code",
   "execution_count": 39,
   "id": "pressing-helping",
   "metadata": {},
   "outputs": [
    {
     "data": {
      "text/plain": [
       "(100, 1)"
      ]
     },
     "execution_count": 39,
     "metadata": {},
     "output_type": "execute_result"
    }
   ],
   "source": [
    "weights[2].shape"
   ]
  },
  {
   "cell_type": "code",
   "execution_count": 41,
   "id": "registered-springer",
   "metadata": {},
   "outputs": [
    {
     "data": {
      "text/plain": [
       "(1,)"
      ]
     },
     "execution_count": 41,
     "metadata": {},
     "output_type": "execute_result"
    }
   ],
   "source": [
    "weights[3].shape"
   ]
  },
  {
   "cell_type": "code",
   "execution_count": 42,
   "id": "swedish-bumper",
   "metadata": {},
   "outputs": [],
   "source": [
    "from tensorflow.keras.callbacks import EarlyStopping\n",
    "safety = EarlyStopping(monitor='val_loss', patience=1)"
   ]
  },
  {
   "cell_type": "code",
   "execution_count": 43,
   "id": "thrown-savage",
   "metadata": {},
   "outputs": [
    {
     "name": "stdout",
     "output_type": "stream",
     "text": [
      "Epoch 1/1000\n",
      "774/774 [==============================] - 1s 1ms/step - loss: 0.4901 - mean_squared_error: 0.4901 - mean_absolute_error: 0.5114 - val_loss: 0.4986 - val_mean_squared_error: 0.4986 - val_mean_absolute_error: 0.4992\n",
      "Epoch 2/1000\n",
      "774/774 [==============================] - 1s 799us/step - loss: 0.4873 - mean_squared_error: 0.4873 - mean_absolute_error: 0.5089 - val_loss: 0.4782 - val_mean_squared_error: 0.4782 - val_mean_absolute_error: 0.5187\n",
      "Epoch 3/1000\n",
      "774/774 [==============================] - 1s 823us/step - loss: 0.4861 - mean_squared_error: 0.4861 - mean_absolute_error: 0.5085 - val_loss: 0.4734 - val_mean_squared_error: 0.4734 - val_mean_absolute_error: 0.5097\n",
      "Epoch 4/1000\n",
      "774/774 [==============================] - 1s 843us/step - loss: 0.4845 - mean_squared_error: 0.4845 - mean_absolute_error: 0.5069 - val_loss: 0.4714 - val_mean_squared_error: 0.4714 - val_mean_absolute_error: 0.5082\n",
      "Epoch 5/1000\n",
      "774/774 [==============================] - 1s 825us/step - loss: 0.4810 - mean_squared_error: 0.4810 - mean_absolute_error: 0.5050 - val_loss: 0.4749 - val_mean_squared_error: 0.4749 - val_mean_absolute_error: 0.4968\n"
     ]
    },
    {
     "data": {
      "text/plain": [
       "<tensorflow.python.keras.callbacks.History at 0x21e3c254550>"
      ]
     },
     "execution_count": 43,
     "metadata": {},
     "output_type": "execute_result"
    }
   ],
   "source": [
    "tb_model.fit(x_train,y_train, epochs=1000, validation_data=(x_test,y_test), batch_size=20, callbacks=[tb, safety])"
   ]
  },
  {
   "cell_type": "code",
   "execution_count": 44,
   "id": "worth-minutes",
   "metadata": {},
   "outputs": [],
   "source": [
    "tb_model=tf.keras.Sequential()\n",
    "tb_model.add(tf.keras.layers.Dense(100, activation='sigmoid'))\n",
    "tb_model.add(tf.keras.layers.Dense(100, activation='sigmoid'))\n",
    "tb_model.add(tf.keras.layers.Dense(1, activation='linear'))\n",
    "tb_model.compile(optimizer='adam', loss= 'mean_squared_error', metrics=['mean_squared_error','mean_absolute_error'])"
   ]
  },
  {
   "cell_type": "code",
   "execution_count": 45,
   "id": "orange-closing",
   "metadata": {},
   "outputs": [
    {
     "name": "stdout",
     "output_type": "stream",
     "text": [
      "Epoch 1/1000\n",
      "774/774 [==============================] - 2s 2ms/step - loss: 1.0244 - mean_squared_error: 1.0244 - mean_absolute_error: 0.7629 - val_loss: 0.5039 - val_mean_squared_error: 0.5039 - val_mean_absolute_error: 0.5020\n",
      "Epoch 2/1000\n",
      "774/774 [==============================] - 1s 1ms/step - loss: 0.4847 - mean_squared_error: 0.4847 - mean_absolute_error: 0.5088 - val_loss: 0.4703 - val_mean_squared_error: 0.4703 - val_mean_absolute_error: 0.4874\n",
      "Epoch 3/1000\n",
      "774/774 [==============================] - 1s 977us/step - loss: 0.4603 - mean_squared_error: 0.4603 - mean_absolute_error: 0.4944 - val_loss: 0.4581 - val_mean_squared_error: 0.4581 - val_mean_absolute_error: 0.4786\n",
      "Epoch 4/1000\n",
      "774/774 [==============================] - 1s 1ms/step - loss: 0.4515 - mean_squared_error: 0.4515 - mean_absolute_error: 0.4852 - val_loss: 0.4320 - val_mean_squared_error: 0.4320 - val_mean_absolute_error: 0.4875\n",
      "Epoch 5/1000\n",
      "774/774 [==============================] - 1s 1ms/step - loss: 0.4279 - mean_squared_error: 0.4279 - mean_absolute_error: 0.4684 - val_loss: 0.4290 - val_mean_squared_error: 0.4290 - val_mean_absolute_error: 0.4587\n",
      "Epoch 6/1000\n",
      "774/774 [==============================] - 1s 1ms/step - loss: 0.4158 - mean_squared_error: 0.4158 - mean_absolute_error: 0.4597 - val_loss: 0.4315 - val_mean_squared_error: 0.4315 - val_mean_absolute_error: 0.4587\n"
     ]
    },
    {
     "data": {
      "text/plain": [
       "<tensorflow.python.keras.callbacks.History at 0x21e30989400>"
      ]
     },
     "execution_count": 45,
     "metadata": {},
     "output_type": "execute_result"
    }
   ],
   "source": [
    "tb_model.fit(x_train,y_train, epochs=1000, validation_data=(x_test,y_test), batch_size=20, callbacks=[tb, safety])"
   ]
  },
  {
   "cell_type": "code",
   "execution_count": null,
   "id": "boring-craft",
   "metadata": {},
   "outputs": [],
   "source": []
  }
 ],
 "metadata": {
  "kernelspec": {
   "display_name": "MSDS7333",
   "language": "python",
   "name": "msds7333"
  },
  "language_info": {
   "codemirror_mode": {
    "name": "ipython",
    "version": 3
   },
   "file_extension": ".py",
   "mimetype": "text/x-python",
   "name": "python",
   "nbconvert_exporter": "python",
   "pygments_lexer": "ipython3",
   "version": "3.8.7"
  }
 },
 "nbformat": 4,
 "nbformat_minor": 5
}
