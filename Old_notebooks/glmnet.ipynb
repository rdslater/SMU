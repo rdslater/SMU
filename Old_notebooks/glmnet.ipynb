{
 "cells": [
  {
   "cell_type": "code",
   "execution_count": 82,
   "metadata": {},
   "outputs": [
    {
     "name": "stderr",
     "output_type": "stream",
     "text": [
      "Warning message in require_bit64():\n",
      "\"Some columns are type 'integer64' but package bit64 is not installed. Those columns will print as strange looking floating point data. There is no need to reload the data. Simply install.packages('bit64') to obtain the integer64 print method and print the data again.\""
     ]
    },
    {
     "data": {},
     "metadata": {},
     "output_type": "display_data"
    }
   ],
   "source": [
    "require(data.table)\n",
    "require(glmnet)\n",
    "require(ggplot2)\n",
    "set.seed(123)\n",
    "###reading data\n",
    "housingData=fread('./kc_house_data.csv/kc_house_data.csv')\n",
    "\n",
    "##Removing non numeric var\n",
    "housingData[,floors:=as.numeric(floors)][,c('zipcode','lat','long','id','date','sqft_basement'):=NULL]\n",
    " \n",
    "###Splitting data\n",
    "indexTrain=sample.int(nrow(housingData),nrow(housingData)*0.75)\n",
    " \n",
    " \n"
   ]
  },
  {
   "cell_type": "code",
   "execution_count": 83,
   "metadata": {},
   "outputs": [
    {
     "data": {
      "text/plain": [
       "\n",
       "Call:\n",
       "lm(formula = price ~ ., data = housingData[indexTrain])\n",
       "\n",
       "Residuals:\n",
       "     Min       1Q   Median       3Q      Max \n",
       "-1279695  -110392    -9815    90351  4208139 \n",
       "\n",
       "Coefficients:\n",
       "                Estimate Std. Error t value Pr(>|t|)    \n",
       "(Intercept)    6.112e+06  1.634e+05  37.398  < 2e-16 ***\n",
       "bedrooms      -4.150e+04  2.362e+03 -17.566  < 2e-16 ***\n",
       "bathrooms      4.668e+04  4.104e+03  11.373  < 2e-16 ***\n",
       "sqft_living    1.741e+02  5.503e+00  31.640  < 2e-16 ***\n",
       "sqft_lot      -3.080e-02  6.138e-02  -0.502   0.6158    \n",
       "floors         2.230e+04  4.448e+03   5.013 5.43e-07 ***\n",
       "waterfront     5.529e+05  2.149e+04  25.735  < 2e-16 ***\n",
       "view           4.454e+04  2.656e+03  16.774  < 2e-16 ***\n",
       "condition      1.857e+04  2.944e+03   6.310 2.87e-10 ***\n",
       "grade          1.165e+05  2.648e+03  43.986  < 2e-16 ***\n",
       "sqft_above    -6.183e-01  5.364e+00  -0.115   0.9082    \n",
       "yr_built      -3.516e+03  8.384e+01 -41.936  < 2e-16 ***\n",
       "yr_renovated   1.109e+01  4.566e+00   2.429   0.0151 *  \n",
       "sqft_living15  2.140e+01  4.225e+00   5.065 4.12e-07 ***\n",
       "sqft_lot15    -5.614e-01  9.367e-02  -5.993 2.11e-09 ***\n",
       "---\n",
       "Signif. codes:  0 '***' 0.001 '**' 0.01 '*' 0.05 '.' 0.1 ' ' 1\n",
       "\n",
       "Residual standard error: 219900 on 16194 degrees of freedom\n",
       "Multiple R-squared:  0.6491,\tAdjusted R-squared:  0.6488 \n",
       "F-statistic:  2139 on 14 and 16194 DF,  p-value: < 2.2e-16\n"
      ]
     },
     "metadata": {},
     "output_type": "display_data"
    },
    {
     "data": {
      "text/html": [
       "204758.671072921"
      ],
      "text/latex": [
       "204758.671072921"
      ],
      "text/markdown": [
       "204758.671072921"
      ],
      "text/plain": [
       "[1] 204758.7"
      ]
     },
     "metadata": {},
     "output_type": "display_data"
    }
   ],
   "source": [
    "##no Reg\n",
    "lmNoReg=lm(price~.,housingData[indexTrain])\n",
    "summary(lmNoReg)\n",
    "pred_no_reg=predict(lmNoReg,housingData[-indexTrain])\n",
    " \n",
    "sqrt(mean((pred_no_reg-housingData[-indexTrain]$price)^2))\n",
    " \n",
    " \n",
    "plotCoeffEvolution=function(penalizedGlm,type='L1')\n",
    "{\n",
    " require(ggplot2)\n",
    " lambda=penalizedGlm$lambda\n",
    " coeff=as.matrix(penalizedGlm$beta)\n",
    " rowName=rownames(coeff)\n",
    " coeff=data.table(coeff)\n",
    " coeff[,name:=rowName]\n",
    " coeff=melt(coeff,id.vars = 'name')\n",
    " coeff[,variable:=rep(lambda,each=length(unique(name)))]\n",
    " ggplot(coeff,aes(x=variable,y=value,color=name))+geom_line()+xlab(paste0(type,' regularisation'))+ylab('Value of coefficient')+scale_x_log10()+theme(legend.position=\"top\")\n",
    "}\n",
    " \n",
    "\n"
   ]
  },
  {
   "cell_type": "code",
   "execution_count": 84,
   "metadata": {},
   "outputs": [
    {
     "data": {},
     "metadata": {},
     "output_type": "display_data"
    },
    {
     "name": "stderr",
     "output_type": "stream",
     "text": [
      "Loading required package: plotly\n",
      "Warning message in library(package, lib.loc = lib.loc, character.only = TRUE, logical.return = TRUE, :\n",
      "\"there is no package called 'plotly'\""
     ]
    },
    {
     "data": {
      "image/png": "[encoded data removed]",
      "text/plain": [
       "plot without title"
      ]
     },
     "metadata": {},
     "output_type": "display_data"
    }
   ],
   "source": [
    "##Different L1 regularisation\n",
    "fit = glmnet(as.matrix(housingData[indexTrain,-c('price'),with=F]),as.matrix(housingData[indexTrain]$price) , family=\"gaussian\",alpha=1)\n",
    " \n",
    "pred_L1_reg=data.table(predict(fit,as.matrix(housingData[-indexTrain,-c('price'),with=F])))\n",
    "RMSE_L1=sqrt(apply(pred_L1_reg[,(.SD-housingData[-indexTrain]$price)^2,.SD=1:ncol(pred_L1_reg)],2,mean))\n",
    "DF_plot=data.frame(lambda=fit$lambda,rmse=RMSE_L1)\n",
    "ggplot(DF_plot,aes(x=lambda,y=rmse))+geom_line()+ggtitle(\"Evolution of test error vs lambda value\")+scale_x_log10()\n",
    "require(plotly)\n",
    " "
   ]
  },
  {
   "cell_type": "code",
   "execution_count": 85,
   "metadata": {},
   "outputs": [
    {
     "data": {},
     "metadata": {},
     "output_type": "display_data"
    },
    {
     "data": {},
     "metadata": {},
     "output_type": "display_data"
    },
    {
     "data": {
      "image/png": "[encoded data removed]",
      "text/plain": [
       "plot without title"
      ]
     },
     "metadata": {},
     "output_type": "display_data"
    },
    {
     "data": {
      "image/png": "[encoded data removed]",
      "text/plain": [
       "plot without title"
      ]
     },
     "metadata": {},
     "output_type": "display_data"
    }
   ],
   "source": [
    "## L2 regularisation\n",
    "fit = glmnet(as.matrix(housingData[indexTrain,-c('price'),with=F]),as.matrix(housingData[indexTrain]$price) , family=\"gaussian\",alpha=0.0)\n",
    " \n",
    "pred_L2_reg=data.table(predict(fit,as.matrix(housingData[-indexTrain,-c('price'),with=F])))\n",
    "RMSE_L2=sqrt(apply(pred_L2_reg[,(.SD-housingData[-indexTrain]$price)^2,.SD=1:ncol(pred_L2_reg)],2,mean))\n",
    "DF_plot=data.frame(lambda=fit$lambda,rmse=RMSE_L2)\n",
    "plotCoeffEvolution(fit,'L2')\n",
    "require(ggplot2)\n",
    "ggplot(DF_plot,aes(x=lambda,y=rmse))+geom_line()+ggtitle(\"Evolution of test error vs lambda value\")+scale_x_log10()\n",
    "\n",
    " \n"
   ]
  },
  {
   "cell_type": "code",
   "execution_count": 91,
   "metadata": {},
   "outputs": [
    {
     "data": {},
     "metadata": {},
     "output_type": "display_data"
    },
    {
     "data": {},
     "metadata": {},
     "output_type": "display_data"
    },
    {
     "data": {
      "image/png": "[encoded data removed]",
      "text/plain": [
       "plot without title"
      ]
     },
     "metadata": {},
     "output_type": "display_data"
    },
    {
     "data": {
      "image/png": "[encoded data removed]",
      "text/plain": [
       "plot without title"
      ]
     },
     "metadata": {},
     "output_type": "display_data"
    }
   ],
   "source": [
    "## L1 regularisation\n",
    "fit = glmnet(as.matrix(housingData[indexTrain,-c('price'),with=F]),as.matrix(housingData[indexTrain]$price) , family=\"gaussian\",alpha=1, lambda=ll)\n",
    " \n",
    "pred_L1L2_reg=data.table(predict(fit,as.matrix(housingData[-indexTrain,-c('price'),with=F])))\n",
    "RMSE_L1L2=sqrt(apply(pred_L1L2_reg[,(.SD-housingData[-indexTrain]$price)^2,.SD=1:ncol(pred_L1L2_reg)],2,mean))\n",
    "DF_plot=data.frame(lambda=fit$lambda,rmse=RMSE_L1L2)\n",
    "plotCoeffEvolution(fit,'Elastic')\n",
    "require(ggplot2)\n",
    "ggplot(DF_plot,aes(x=lambda,y=rmse))+geom_line()+ggtitle(\"Evolution of test error vs lambda value\")+scale_x_log10()"
   ]
  },
  {
   "cell_type": "code",
   "execution_count": null,
   "metadata": {},
   "outputs": [],
   "source": []
  },
  {
   "cell_type": "code",
   "execution_count": null,
   "metadata": {},
   "outputs": [],
   "source": []
  },
  {
   "cell_type": "code",
   "execution_count": 73,
   "metadata": {},
   "outputs": [],
   "source": [
    "pred<-predict(fit,newx=as.matrix(housingData[,-1]),type='response',s=1E-5)\n",
    "truth<-as.matrix(housingData[,1])"
   ]
  },
  {
   "cell_type": "code",
   "execution_count": 74,
   "metadata": {},
   "outputs": [],
   "source": [
    "data<-data.frame(pred,truth)"
   ]
  },
  {
   "cell_type": "code",
   "execution_count": 75,
   "metadata": {},
   "outputs": [
    {
     "name": "stderr",
     "output_type": "stream",
     "text": [
      "Don't know how to automatically pick scale for object of type data.frame. Defaulting to continuous.\n",
      "Don't know how to automatically pick scale for object of type data.frame. Defaulting to continuous.\n"
     ]
    },
    {
     "data": {},
     "metadata": {},
     "output_type": "display_data"
    },
    {
     "data": {
      "image/png": "[encoded data removed]",
      "text/plain": [
       "plot without title"
      ]
     },
     "metadata": {},
     "output_type": "display_data"
    }
   ],
   "source": [
    "ggplot(data,aes(x=data['X1'],y=data['price']))+geom_point()"
   ]
  },
  {
   "cell_type": "code",
   "execution_count": 76,
   "metadata": {},
   "outputs": [
    {
     "data": {},
     "metadata": {},
     "output_type": "display_data"
    },
    {
     "data": {
      "image/png": "[encoded data removed]",
      "text/plain": [
       "plot without title"
      ]
     },
     "metadata": {},
     "output_type": "display_data"
    }
   ],
   "source": [
    "ggplot(data, aes(data[,1]-data[,2])) + geom_histogram(bins=100)\n"
   ]
  },
  {
   "cell_type": "code",
   "execution_count": 77,
   "metadata": {},
   "outputs": [
    {
     "data": {
      "text/html": [
       "229746.961918013"
      ],
      "text/latex": [
       "229746.961918013"
      ],
      "text/markdown": [
       "229746.961918013"
      ],
      "text/plain": [
       "[1] 229747"
      ]
     },
     "metadata": {},
     "output_type": "display_data"
    }
   ],
   "source": [
    "min(RMSE_L1L2)"
   ]
  },
  {
   "cell_type": "code",
   "execution_count": 78,
   "metadata": {},
   "outputs": [],
   "source": [
    "value=1E12\n",
    "alpha=0\n",
    "for (i in 0:100){\n",
    "var=i/100\n",
    "fit = glmnet(as.matrix(housingData[indexTrain,-c('price'),with=F]),as.matrix(housingData[indexTrain]$price) , family=\"gaussian\",alpha=var)\n",
    "pred_L1L2_reg=data.table(predict(fit,as.matrix(housingData[-indexTrain,-c('price'),with=F])))\n",
    "RMSE_L1L2=sqrt(apply(pred_L1L2_reg[,(.SD-housingData[-indexTrain]$price)^2,.SD=1:ncol(pred_L1L2_reg)],2,mean))\n",
    "temp<-min(RMSE_L1L2)\n",
    "if (temp < value){\n",
    "    value<-temp\n",
    "    alpha=var}\n",
    "}"
   ]
  },
  {
   "cell_type": "code",
   "execution_count": 79,
   "metadata": {},
   "outputs": [
    {
     "data": {
      "text/html": [
       "227254.319757803"
      ],
      "text/latex": [
       "227254.319757803"
      ],
      "text/markdown": [
       "227254.319757803"
      ],
      "text/plain": [
       "[1] 227254.3"
      ]
     },
     "metadata": {},
     "output_type": "display_data"
    }
   ],
   "source": [
    "value"
   ]
  },
  {
   "cell_type": "code",
   "execution_count": 80,
   "metadata": {},
   "outputs": [
    {
     "data": {
      "text/html": [
       "0.05"
      ],
      "text/latex": [
       "0.05"
      ],
      "text/markdown": [
       "0.05"
      ],
      "text/plain": [
       "[1] 0.05"
      ]
     },
     "metadata": {},
     "output_type": "display_data"
    }
   ],
   "source": [
    "alpha"
   ]
  },
  {
   "cell_type": "code",
   "execution_count": 97,
   "metadata": {},
   "outputs": [],
   "source": [
    "vals<-0:100\n",
    "vals=vals/100\n"
   ]
  },
  {
   "cell_type": "code",
   "execution_count": 98,
   "metadata": {},
   "outputs": [],
   "source": [
    "min_loss<-function (var){\n",
    "fit = glmnet(as.matrix(housingData[indexTrain,-c('price'),with=F]),as.matrix(housingData[indexTrain]$price) , family=\"gaussian\",alpha=var)\n",
    "pred_L1L2_reg=data.table(predict(fit,as.matrix(housingData[-indexTrain,-c('price'),with=F])))\n",
    "RMSE_L1L2=sqrt(apply(pred_L1L2_reg[,(.SD-housingData[-indexTrain]$price)^2,.SD=1:ncol(pred_L1L2_reg)],2,mean))\n",
    "temp<-min(RMSE_L1L2)\n",
    "    return(temp)\n",
    "}"
   ]
  },
  {
   "cell_type": "code",
   "execution_count": 99,
   "metadata": {},
   "outputs": [],
   "source": [
    "loss<-sapply(vals, min_loss)"
   ]
  },
  {
   "cell_type": "code",
   "execution_count": 100,
   "metadata": {},
   "outputs": [
    {
     "data": {
      "text/html": [
       "<ol class=list-inline>\n",
       "\t<li>205702.46540442</li>\n",
       "\t<li>204739.878345476</li>\n",
       "\t<li>204737.911048457</li>\n",
       "\t<li>204736.900483631</li>\n",
       "\t<li>204735.580686801</li>\n",
       "\t<li>204734.542602297</li>\n",
       "\t<li>204733.240794502</li>\n",
       "\t<li>204732.129039137</li>\n",
       "\t<li>204731.001549648</li>\n",
       "\t<li>204729.935531384</li>\n",
       "\t<li>204728.862908998</li>\n",
       "\t<li>204727.82925883</li>\n",
       "\t<li>204726.849580676</li>\n",
       "\t<li>204725.909896427</li>\n",
       "\t<li>204725.021856507</li>\n",
       "\t<li>204724.207462759</li>\n",
       "\t<li>204723.358207341</li>\n",
       "\t<li>204722.569227942</li>\n",
       "\t<li>204721.710214025</li>\n",
       "\t<li>204721.15930164</li>\n",
       "\t<li>204720.407453514</li>\n",
       "\t<li>204719.716685748</li>\n",
       "\t<li>204719.22281784</li>\n",
       "\t<li>204718.631894851</li>\n",
       "\t<li>204718.279635516</li>\n",
       "\t<li>204717.693444968</li>\n",
       "\t<li>204717.153879342</li>\n",
       "\t<li>204716.907877023</li>\n",
       "\t<li>204716.593823375</li>\n",
       "\t<li>204716.26078986</li>\n",
       "\t<li>204715.920282503</li>\n",
       "\t<li>204715.755049296</li>\n",
       "\t<li>204715.519914154</li>\n",
       "\t<li>204715.741178278</li>\n",
       "\t<li>204715.555645572</li>\n",
       "\t<li>204715.414330872</li>\n",
       "\t<li>204715.335006686</li>\n",
       "\t<li>204715.272773492</li>\n",
       "\t<li>204715.198859313</li>\n",
       "\t<li>204715.126443856</li>\n",
       "\t<li>204715.078165216</li>\n",
       "\t<li>204714.884825484</li>\n",
       "\t<li>204714.878317749</li>\n",
       "\t<li>204714.89576038</li>\n",
       "\t<li>204714.998230734</li>\n",
       "\t<li>204714.87761224</li>\n",
       "\t<li>204715.008447911</li>\n",
       "\t<li>204715.097467504</li>\n",
       "\t<li>204717.164903712</li>\n",
       "\t<li>204715.175479791</li>\n",
       "\t<li>204717.023734798</li>\n",
       "\t<li>204719.416634077</li>\n",
       "\t<li>204719.384603825</li>\n",
       "\t<li>204717.227568477</li>\n",
       "\t<li>204717.13679395</li>\n",
       "\t<li>204717.097345316</li>\n",
       "\t<li>204717.03064974</li>\n",
       "\t<li>204716.679081272</li>\n",
       "\t<li>204720.219248477</li>\n",
       "\t<li>204720.25973215</li>\n",
       "\t<li>204720.201360617</li>\n",
       "\t<li>204720.150676197</li>\n",
       "\t<li>204720.474230925</li>\n",
       "\t<li>204720.433102523</li>\n",
       "\t<li>204720.601399716</li>\n",
       "\t<li>204723.233961207</li>\n",
       "\t<li>204724.059380852</li>\n",
       "\t<li>204722.862333519</li>\n",
       "\t<li>204723.652424904</li>\n",
       "\t<li>204724.409714418</li>\n",
       "\t<li>204725.118768642</li>\n",
       "\t<li>204725.810430996</li>\n",
       "\t<li>204726.485323594</li>\n",
       "\t<li>204727.14403982</li>\n",
       "\t<li>204727.785916172</li>\n",
       "\t<li>204728.413948153</li>\n",
       "\t<li>204729.028118427</li>\n",
       "\t<li>204729.627586725</li>\n",
       "\t<li>204730.213466457</li>\n",
       "\t<li>204730.786208834</li>\n",
       "\t<li>204731.346245623</li>\n",
       "\t<li>204731.893990155</li>\n",
       "\t<li>204732.429838271</li>\n",
       "\t<li>204732.954169231</li>\n",
       "\t<li>204733.46734655</li>\n",
       "\t<li>204733.969714086</li>\n",
       "\t<li>204734.434553289</li>\n",
       "\t<li>204734.88636707</li>\n",
       "\t<li>204735.327031235</li>\n",
       "\t<li>204735.758675053</li>\n",
       "\t<li>204738.745125118</li>\n",
       "\t<li>204736.595980122</li>\n",
       "\t<li>204737.002154217</li>\n",
       "\t<li>204737.400334667</li>\n",
       "\t<li>204740.407737516</li>\n",
       "\t<li>204740.775415393</li>\n",
       "\t<li>204741.135995649</li>\n",
       "\t<li>204741.490734522</li>\n",
       "\t<li>204741.837699507</li>\n",
       "\t<li>204742.178152715</li>\n",
       "\t<li>204742.512275031</li>\n",
       "</ol>\n"
      ],
      "text/latex": [
       "\\begin{enumerate*}\n",
       "\\item 205702.46540442\n",
       "\\item 204739.878345476\n",
       "\\item 204737.911048457\n",
       "\\item 204736.900483631\n",
       "\\item 204735.580686801\n",
       "\\item 204734.542602297\n",
       "\\item 204733.240794502\n",
       "\\item 204732.129039137\n",
       "\\item 204731.001549648\n",
       "\\item 204729.935531384\n",
       "\\item 204728.862908998\n",
       "\\item 204727.82925883\n",
       "\\item 204726.849580676\n",
       "\\item 204725.909896427\n",
       "\\item 204725.021856507\n",
       "\\item 204724.207462759\n",
       "\\item 204723.358207341\n",
       "\\item 204722.569227942\n",
       "\\item 204721.710214025\n",
       "\\item 204721.15930164\n",
       "\\item 204720.407453514\n",
       "\\item 204719.716685748\n",
       "\\item 204719.22281784\n",
       "\\item 204718.631894851\n",
       "\\item 204718.279635516\n",
       "\\item 204717.693444968\n",
       "\\item 204717.153879342\n",
       "\\item 204716.907877023\n",
       "\\item 204716.593823375\n",
       "\\item 204716.26078986\n",
       "\\item 204715.920282503\n",
       "\\item 204715.755049296\n",
       "\\item 204715.519914154\n",
       "\\item 204715.741178278\n",
       "\\item 204715.555645572\n",
       "\\item 204715.414330872\n",
       "\\item 204715.335006686\n",
       "\\item 204715.272773492\n",
       "\\item 204715.198859313\n",
       "\\item 204715.126443856\n",
       "\\item 204715.078165216\n",
       "\\item 204714.884825484\n",
       "\\item 204714.878317749\n",
       "\\item 204714.89576038\n",
       "\\item 204714.998230734\n",
       "\\item 204714.87761224\n",
       "\\item 204715.008447911\n",
       "\\item 204715.097467504\n",
       "\\item 204717.164903712\n",
       "\\item 204715.175479791\n",
       "\\item 204717.023734798\n",
       "\\item 204719.416634077\n",
       "\\item 204719.384603825\n",
       "\\item 204717.227568477\n",
       "\\item 204717.13679395\n",
       "\\item 204717.097345316\n",
       "\\item 204717.03064974\n",
       "\\item 204716.679081272\n",
       "\\item 204720.219248477\n",
       "\\item 204720.25973215\n",
       "\\item 204720.201360617\n",
       "\\item 204720.150676197\n",
       "\\item 204720.474230925\n",
       "\\item 204720.433102523\n",
       "\\item 204720.601399716\n",
       "\\item 204723.233961207\n",
       "\\item 204724.059380852\n",
       "\\item 204722.862333519\n",
       "\\item 204723.652424904\n",
       "\\item 204724.409714418\n",
       "\\item 204725.118768642\n",
       "\\item 204725.810430996\n",
       "\\item 204726.485323594\n",
       "\\item 204727.14403982\n",
       "\\item 204727.785916172\n",
       "\\item 204728.413948153\n",
       "\\item 204729.028118427\n",
       "\\item 204729.627586725\n",
       "\\item 204730.213466457\n",
       "\\item 204730.786208834\n",
       "\\item 204731.346245623\n",
       "\\item 204731.893990155\n",
       "\\item 204732.429838271\n",
       "\\item 204732.954169231\n",
       "\\item 204733.46734655\n",
       "\\item 204733.969714086\n",
       "\\item 204734.434553289\n",
       "\\item 204734.88636707\n",
       "\\item 204735.327031235\n",
       "\\item 204735.758675053\n",
       "\\item 204738.745125118\n",
       "\\item 204736.595980122\n",
       "\\item 204737.002154217\n",
       "\\item 204737.400334667\n",
       "\\item 204740.407737516\n",
       "\\item 204740.775415393\n",
       "\\item 204741.135995649\n",
       "\\item 204741.490734522\n",
       "\\item 204741.837699507\n",
       "\\item 204742.178152715\n",
       "\\item 204742.512275031\n",
       "\\end{enumerate*}\n"
      ],
      "text/markdown": [
       "1. 205702.46540442\n",
       "2. 204739.878345476\n",
       "3. 204737.911048457\n",
       "4. 204736.900483631\n",
       "5. 204735.580686801\n",
       "6. 204734.542602297\n",
       "7. 204733.240794502\n",
       "8. 204732.129039137\n",
       "9. 204731.001549648\n",
       "10. 204729.935531384\n",
       "11. 204728.862908998\n",
       "12. 204727.82925883\n",
       "13. 204726.849580676\n",
       "14. 204725.909896427\n",
       "15. 204725.021856507\n",
       "16. 204724.207462759\n",
       "17. 204723.358207341\n",
       "18. 204722.569227942\n",
       "19. 204721.710214025\n",
       "20. 204721.15930164\n",
       "21. 204720.407453514\n",
       "22. 204719.716685748\n",
       "23. 204719.22281784\n",
       "24. 204718.631894851\n",
       "25. 204718.279635516\n",
       "26. 204717.693444968\n",
       "27. 204717.153879342\n",
       "28. 204716.907877023\n",
       "29. 204716.593823375\n",
       "30. 204716.26078986\n",
       "31. 204715.920282503\n",
       "32. 204715.755049296\n",
       "33. 204715.519914154\n",
       "34. 204715.741178278\n",
       "35. 204715.555645572\n",
       "36. 204715.414330872\n",
       "37. 204715.335006686\n",
       "38. 204715.272773492\n",
       "39. 204715.198859313\n",
       "40. 204715.126443856\n",
       "41. 204715.078165216\n",
       "42. 204714.884825484\n",
       "43. 204714.878317749\n",
       "44. 204714.89576038\n",
       "45. 204714.998230734\n",
       "46. 204714.87761224\n",
       "47. 204715.008447911\n",
       "48. 204715.097467504\n",
       "49. 204717.164903712\n",
       "50. 204715.175479791\n",
       "51. 204717.023734798\n",
       "52. 204719.416634077\n",
       "53. 204719.384603825\n",
       "54. 204717.227568477\n",
       "55. 204717.13679395\n",
       "56. 204717.097345316\n",
       "57. 204717.03064974\n",
       "58. 204716.679081272\n",
       "59. 204720.219248477\n",
       "60. 204720.25973215\n",
       "61. 204720.201360617\n",
       "62. 204720.150676197\n",
       "63. 204720.474230925\n",
       "64. 204720.433102523\n",
       "65. 204720.601399716\n",
       "66. 204723.233961207\n",
       "67. 204724.059380852\n",
       "68. 204722.862333519\n",
       "69. 204723.652424904\n",
       "70. 204724.409714418\n",
       "71. 204725.118768642\n",
       "72. 204725.810430996\n",
       "73. 204726.485323594\n",
       "74. 204727.14403982\n",
       "75. 204727.785916172\n",
       "76. 204728.413948153\n",
       "77. 204729.028118427\n",
       "78. 204729.627586725\n",
       "79. 204730.213466457\n",
       "80. 204730.786208834\n",
       "81. 204731.346245623\n",
       "82. 204731.893990155\n",
       "83. 204732.429838271\n",
       "84. 204732.954169231\n",
       "85. 204733.46734655\n",
       "86. 204733.969714086\n",
       "87. 204734.434553289\n",
       "88. 204734.88636707\n",
       "89. 204735.327031235\n",
       "90. 204735.758675053\n",
       "91. 204738.745125118\n",
       "92. 204736.595980122\n",
       "93. 204737.002154217\n",
       "94. 204737.400334667\n",
       "95. 204740.407737516\n",
       "96. 204740.775415393\n",
       "97. 204741.135995649\n",
       "98. 204741.490734522\n",
       "99. 204741.837699507\n",
       "100. 204742.178152715\n",
       "101. 204742.512275031\n",
       "\n",
       "\n"
      ],
      "text/plain": [
       "  [1] 205702.5 204739.9 204737.9 204736.9 204735.6 204734.5 204733.2 204732.1\n",
       "  [9] 204731.0 204729.9 204728.9 204727.8 204726.8 204725.9 204725.0 204724.2\n",
       " [17] 204723.4 204722.6 204721.7 204721.2 204720.4 204719.7 204719.2 204718.6\n",
       " [25] 204718.3 204717.7 204717.2 204716.9 204716.6 204716.3 204715.9 204715.8\n",
       " [33] 204715.5 204715.7 204715.6 204715.4 204715.3 204715.3 204715.2 204715.1\n",
       " [41] 204715.1 204714.9 204714.9 204714.9 204715.0 204714.9 204715.0 204715.1\n",
       " [49] 204717.2 204715.2 204717.0 204719.4 204719.4 204717.2 204717.1 204717.1\n",
       " [57] 204717.0 204716.7 204720.2 204720.3 204720.2 204720.2 204720.5 204720.4\n",
       " [65] 204720.6 204723.2 204724.1 204722.9 204723.7 204724.4 204725.1 204725.8\n",
       " [73] 204726.5 204727.1 204727.8 204728.4 204729.0 204729.6 204730.2 204730.8\n",
       " [81] 204731.3 204731.9 204732.4 204733.0 204733.5 204734.0 204734.4 204734.9\n",
       " [89] 204735.3 204735.8 204738.7 204736.6 204737.0 204737.4 204740.4 204740.8\n",
       " [97] 204741.1 204741.5 204741.8 204742.2 204742.5"
      ]
     },
     "metadata": {},
     "output_type": "display_data"
    }
   ],
   "source": [
    "loss"
   ]
  },
  {
   "cell_type": "code",
   "execution_count": 101,
   "metadata": {},
   "outputs": [
    {
     "data": {
      "text/html": [
       "204714.87761224"
      ],
      "text/latex": [
       "204714.87761224"
      ],
      "text/markdown": [
       "204714.87761224"
      ],
      "text/plain": [
       "[1] 204714.9"
      ]
     },
     "metadata": {},
     "output_type": "display_data"
    }
   ],
   "source": [
    "min(loss)"
   ]
  },
  {
   "cell_type": "code",
   "execution_count": null,
   "metadata": {},
   "outputs": [],
   "source": [
    "##Different L1L2 regularisation\n",
    "fit = glmnet(as.matrix(housingData[indexTrain,-c('price'),with=F]),as.matrix(housingData[indexTrain]$price) , family=\"gaussian\",alpha=0.45,lambda=ll)\n",
    " \n",
    "pred_L1L2_reg=data.table(predict(fit,as.matrix(housingData[-indexTrain,-c('price'),with=F])))\n",
    "RMSE_L1L2=sqrt(apply(pred_L1L2_reg[,(.SD-housingData[-indexTrain]$price)^2,.SD=1:ncol(pred_L1L2_reg)],2,mean))\n",
    "DF_plot=data.frame(lambda=fit$lambda,rmse=RMSE_L1L2)\n",
    "plotCoeffEvolution(fit,'Elastic')\n",
    "require(ggplot2)\n",
    "ggplot(DF_plot,aes(x=lambda,y=rmse))+geom_line()+ggtitle(\"Evolution of test error vs lambda value\")+scale_x_log10()+ geom_vline(xintercept=14000)"
   ]
  },
  {
   "cell_type": "code",
   "execution_count": 81,
   "metadata": {},
   "outputs": [
    {
     "data": {
      "text/html": [
       "<table>\n",
       "<thead><tr><th></th><th scope=col>lambda</th><th scope=col>rmse</th></tr></thead>\n",
       "<tbody>\n",
       "\t<tr><th scope=row>s30</th><td>22394.87</td><td>229747  </td></tr>\n",
       "</tbody>\n",
       "</table>\n"
      ],
      "text/latex": [
       "\\begin{tabular}{r|ll}\n",
       "  & lambda & rmse\\\\\n",
       "\\hline\n",
       "\ts30 & 22394.87 & 229747  \\\\\n",
       "\\end{tabular}\n"
      ],
      "text/markdown": [
       "\n",
       "| <!--/--> | lambda | rmse | \n",
       "|---|\n",
       "| s30 | 22394.87 | 229747   | \n",
       "\n",
       "\n"
      ],
      "text/plain": [
       "    lambda   rmse  \n",
       "s30 22394.87 229747"
      ]
     },
     "metadata": {},
     "output_type": "display_data"
    }
   ],
   "source": [
    "fit = glmnet(as.matrix(housingData[indexTrain,-c('price'),with=F]),as.matrix(housingData[indexTrain]$price) , family=\"gaussian\",alpha=0.05)\n",
    "pred_L1L2_reg=data.table(predict(fit,as.matrix(housingData[-indexTrain,-c('price'),with=F])))\n",
    "RMSE_L1L2=sqrt(apply(pred_L1L2_reg[,(.SD-housingData[-indexTrain]$price)^2,.SD=1:ncol(pred_L1L2_reg)],2,mean))\n",
    "DF_plot[DF_plot$rmse==min(DF_plot$rmse),]"
   ]
  },
  {
   "cell_type": "code",
   "execution_count": 87,
   "metadata": {},
   "outputs": [],
   "source": [
    "l1=1:9"
   ]
  },
  {
   "cell_type": "code",
   "execution_count": 88,
   "metadata": {},
   "outputs": [],
   "source": [
    "l2=l1*10\n",
    "l3=l1*100\n",
    "l4=l1*1000\n",
    "l5=l1*10000\n",
    "l6=l1*100000\n",
    "l7=l1*1000000\n",
    "l8=l1*10000000\n",
    "l9=l1*100000000"
   ]
  },
  {
   "cell_type": "code",
   "execution_count": 89,
   "metadata": {},
   "outputs": [],
   "source": [
    "ll=c(l1,l2,l3,l4,l5,l6,l7,l8,l9)"
   ]
  },
  {
   "cell_type": "code",
   "execution_count": 90,
   "metadata": {},
   "outputs": [
    {
     "data": {
      "text/html": [
       "<ol class=list-inline>\n",
       "\t<li>1</li>\n",
       "\t<li>2</li>\n",
       "\t<li>3</li>\n",
       "\t<li>4</li>\n",
       "\t<li>5</li>\n",
       "\t<li>6</li>\n",
       "\t<li>7</li>\n",
       "\t<li>8</li>\n",
       "\t<li>9</li>\n",
       "\t<li>10</li>\n",
       "\t<li>20</li>\n",
       "\t<li>30</li>\n",
       "\t<li>40</li>\n",
       "\t<li>50</li>\n",
       "\t<li>60</li>\n",
       "\t<li>70</li>\n",
       "\t<li>80</li>\n",
       "\t<li>90</li>\n",
       "\t<li>100</li>\n",
       "\t<li>200</li>\n",
       "\t<li>300</li>\n",
       "\t<li>400</li>\n",
       "\t<li>500</li>\n",
       "\t<li>600</li>\n",
       "\t<li>700</li>\n",
       "\t<li>800</li>\n",
       "\t<li>900</li>\n",
       "\t<li>1000</li>\n",
       "\t<li>2000</li>\n",
       "\t<li>3000</li>\n",
       "\t<li>4000</li>\n",
       "\t<li>5000</li>\n",
       "\t<li>6000</li>\n",
       "\t<li>7000</li>\n",
       "\t<li>8000</li>\n",
       "\t<li>9000</li>\n",
       "\t<li>10000</li>\n",
       "\t<li>20000</li>\n",
       "\t<li>30000</li>\n",
       "\t<li>40000</li>\n",
       "\t<li>50000</li>\n",
       "\t<li>60000</li>\n",
       "\t<li>70000</li>\n",
       "\t<li>80000</li>\n",
       "\t<li>90000</li>\n",
       "\t<li>1e+05</li>\n",
       "\t<li>2e+05</li>\n",
       "\t<li>3e+05</li>\n",
       "\t<li>4e+05</li>\n",
       "\t<li>5e+05</li>\n",
       "\t<li>6e+05</li>\n",
       "\t<li>7e+05</li>\n",
       "\t<li>8e+05</li>\n",
       "\t<li>9e+05</li>\n",
       "\t<li>1e+06</li>\n",
       "\t<li>2e+06</li>\n",
       "\t<li>3e+06</li>\n",
       "\t<li>4e+06</li>\n",
       "\t<li>5e+06</li>\n",
       "\t<li>6e+06</li>\n",
       "\t<li>7e+06</li>\n",
       "\t<li>8e+06</li>\n",
       "\t<li>9e+06</li>\n",
       "\t<li>1e+07</li>\n",
       "\t<li>2e+07</li>\n",
       "\t<li>3e+07</li>\n",
       "\t<li>4e+07</li>\n",
       "\t<li>5e+07</li>\n",
       "\t<li>6e+07</li>\n",
       "\t<li>7e+07</li>\n",
       "\t<li>8e+07</li>\n",
       "\t<li>9e+07</li>\n",
       "\t<li>1e+08</li>\n",
       "\t<li>2e+08</li>\n",
       "\t<li>3e+08</li>\n",
       "\t<li>4e+08</li>\n",
       "\t<li>5e+08</li>\n",
       "\t<li>6e+08</li>\n",
       "\t<li>7e+08</li>\n",
       "\t<li>8e+08</li>\n",
       "\t<li>9e+08</li>\n",
       "</ol>\n"
      ],
      "text/latex": [
       "\\begin{enumerate*}\n",
       "\\item 1\n",
       "\\item 2\n",
       "\\item 3\n",
       "\\item 4\n",
       "\\item 5\n",
       "\\item 6\n",
       "\\item 7\n",
       "\\item 8\n",
       "\\item 9\n",
       "\\item 10\n",
       "\\item 20\n",
       "\\item 30\n",
       "\\item 40\n",
       "\\item 50\n",
       "\\item 60\n",
       "\\item 70\n",
       "\\item 80\n",
       "\\item 90\n",
       "\\item 100\n",
       "\\item 200\n",
       "\\item 300\n",
       "\\item 400\n",
       "\\item 500\n",
       "\\item 600\n",
       "\\item 700\n",
       "\\item 800\n",
       "\\item 900\n",
       "\\item 1000\n",
       "\\item 2000\n",
       "\\item 3000\n",
       "\\item 4000\n",
       "\\item 5000\n",
       "\\item 6000\n",
       "\\item 7000\n",
       "\\item 8000\n",
       "\\item 9000\n",
       "\\item 10000\n",
       "\\item 20000\n",
       "\\item 30000\n",
       "\\item 40000\n",
       "\\item 50000\n",
       "\\item 60000\n",
       "\\item 70000\n",
       "\\item 80000\n",
       "\\item 90000\n",
       "\\item 1e+05\n",
       "\\item 2e+05\n",
       "\\item 3e+05\n",
       "\\item 4e+05\n",
       "\\item 5e+05\n",
       "\\item 6e+05\n",
       "\\item 7e+05\n",
       "\\item 8e+05\n",
       "\\item 9e+05\n",
       "\\item 1e+06\n",
       "\\item 2e+06\n",
       "\\item 3e+06\n",
       "\\item 4e+06\n",
       "\\item 5e+06\n",
       "\\item 6e+06\n",
       "\\item 7e+06\n",
       "\\item 8e+06\n",
       "\\item 9e+06\n",
       "\\item 1e+07\n",
       "\\item 2e+07\n",
       "\\item 3e+07\n",
       "\\item 4e+07\n",
       "\\item 5e+07\n",
       "\\item 6e+07\n",
       "\\item 7e+07\n",
       "\\item 8e+07\n",
       "\\item 9e+07\n",
       "\\item 1e+08\n",
       "\\item 2e+08\n",
       "\\item 3e+08\n",
       "\\item 4e+08\n",
       "\\item 5e+08\n",
       "\\item 6e+08\n",
       "\\item 7e+08\n",
       "\\item 8e+08\n",
       "\\item 9e+08\n",
       "\\end{enumerate*}\n"
      ],
      "text/markdown": [
       "1. 1\n",
       "2. 2\n",
       "3. 3\n",
       "4. 4\n",
       "5. 5\n",
       "6. 6\n",
       "7. 7\n",
       "8. 8\n",
       "9. 9\n",
       "10. 10\n",
       "11. 20\n",
       "12. 30\n",
       "13. 40\n",
       "14. 50\n",
       "15. 60\n",
       "16. 70\n",
       "17. 80\n",
       "18. 90\n",
       "19. 100\n",
       "20. 200\n",
       "21. 300\n",
       "22. 400\n",
       "23. 500\n",
       "24. 600\n",
       "25. 700\n",
       "26. 800\n",
       "27. 900\n",
       "28. 1000\n",
       "29. 2000\n",
       "30. 3000\n",
       "31. 4000\n",
       "32. 5000\n",
       "33. 6000\n",
       "34. 7000\n",
       "35. 8000\n",
       "36. 9000\n",
       "37. 10000\n",
       "38. 20000\n",
       "39. 30000\n",
       "40. 40000\n",
       "41. 50000\n",
       "42. 60000\n",
       "43. 70000\n",
       "44. 80000\n",
       "45. 90000\n",
       "46. 1e+05\n",
       "47. 2e+05\n",
       "48. 3e+05\n",
       "49. 4e+05\n",
       "50. 5e+05\n",
       "51. 6e+05\n",
       "52. 7e+05\n",
       "53. 8e+05\n",
       "54. 9e+05\n",
       "55. 1e+06\n",
       "56. 2e+06\n",
       "57. 3e+06\n",
       "58. 4e+06\n",
       "59. 5e+06\n",
       "60. 6e+06\n",
       "61. 7e+06\n",
       "62. 8e+06\n",
       "63. 9e+06\n",
       "64. 1e+07\n",
       "65. 2e+07\n",
       "66. 3e+07\n",
       "67. 4e+07\n",
       "68. 5e+07\n",
       "69. 6e+07\n",
       "70. 7e+07\n",
       "71. 8e+07\n",
       "72. 9e+07\n",
       "73. 1e+08\n",
       "74. 2e+08\n",
       "75. 3e+08\n",
       "76. 4e+08\n",
       "77. 5e+08\n",
       "78. 6e+08\n",
       "79. 7e+08\n",
       "80. 8e+08\n",
       "81. 9e+08\n",
       "\n",
       "\n"
      ],
      "text/plain": [
       " [1] 1e+00 2e+00 3e+00 4e+00 5e+00 6e+00 7e+00 8e+00 9e+00 1e+01 2e+01 3e+01\n",
       "[13] 4e+01 5e+01 6e+01 7e+01 8e+01 9e+01 1e+02 2e+02 3e+02 4e+02 5e+02 6e+02\n",
       "[25] 7e+02 8e+02 9e+02 1e+03 2e+03 3e+03 4e+03 5e+03 6e+03 7e+03 8e+03 9e+03\n",
       "[37] 1e+04 2e+04 3e+04 4e+04 5e+04 6e+04 7e+04 8e+04 9e+04 1e+05 2e+05 3e+05\n",
       "[49] 4e+05 5e+05 6e+05 7e+05 8e+05 9e+05 1e+06 2e+06 3e+06 4e+06 5e+06 6e+06\n",
       "[61] 7e+06 8e+06 9e+06 1e+07 2e+07 3e+07 4e+07 5e+07 6e+07 7e+07 8e+07 9e+07\n",
       "[73] 1e+08 2e+08 3e+08 4e+08 5e+08 6e+08 7e+08 8e+08 9e+08"
      ]
     },
     "metadata": {},
     "output_type": "display_data"
    }
   ],
   "source": [
    "ll"
   ]
  },
  {
   "cell_type": "code",
   "execution_count": null,
   "metadata": {},
   "outputs": [],
   "source": []
  }
 ],
 "metadata": {
  "kernelspec": {
   "display_name": "R",
   "language": "R",
   "name": "ir"
  },
  "language_info": {
   "codemirror_mode": "r",
   "file_extension": ".r",
   "mimetype": "text/x-r-source",
   "name": "R",
   "pygments_lexer": "r",
   "version": "3.4.3"
  }
 },
 "nbformat": 4,
 "nbformat_minor": 2
}
