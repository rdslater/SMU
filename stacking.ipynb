{
 "cells": [
  {
   "cell_type": "code",
   "execution_count": 2,
   "metadata": {},
   "outputs": [],
   "source": [
    "import pandas as pd\n",
    "import numpy as np\n",
    "from sklearn.ensemble import RandomForestClassifier\n",
    "from sklearn.metrics import roc_auc_score\n",
    "from sklearn.model_selection import KFold\n",
    "from sklearn.linear_model import LogisticRegression"
   ]
  },
  {
   "cell_type": "code",
   "execution_count": 19,
   "metadata": {},
   "outputs": [],
   "source": [
    "data=pd.read_csv(\"HIGGS.csv/HIGGS.csv\",nrows=50000,header=None)"
   ]
  },
  {
   "cell_type": "code",
   "execution_count": 20,
   "metadata": {},
   "outputs": [],
   "source": [
    "test=pd.read_csv(\"HIGGS.csv/HIGGS.csv\",nrows=50000,skiprows=10500000,header=None)"
   ]
  },
  {
   "cell_type": "code",
   "execution_count": 21,
   "metadata": {},
   "outputs": [],
   "source": [
    "rf_Kfold=KFold(n_splits=5)\n",
    "lr_Kfold=KFold(n_splits=4)\n",
    "rf=RandomForestClassifier()\n",
    "train_data=data.iloc[:,1:]\n",
    "target_data=data.iloc[:,0]"
   ]
  },
  {
   "cell_type": "code",
   "execution_count": 22,
   "metadata": {},
   "outputs": [
    {
     "name": "stdout",
     "output_type": "stream",
     "text": [
      "Fold ROC score is 0.734856\n",
      "Fold ROC score is 0.733782\n",
      "Fold ROC score is 0.733572\n",
      "Fold ROC score is 0.729510\n",
      "Fold ROC score is 0.725742\n"
     ]
    }
   ],
   "source": [
    "rf_oof_predict=np.zeros(data.shape[0])\n",
    "for train_idx, test_idx in rf_Kfold.split(data):\n",
    "    rf.fit(train_data.loc[train_idx],target_data.loc[train_idx])\n",
    "    rf_oof_predict[test_idx]=rf.predict_proba(train_data.loc[test_idx])[:,1]\n",
    "    print(\"Fold ROC score is %f\" % roc_auc_score(target_data[test_idx],rf_oof_predict[test_idx]))\n",
    "    "
   ]
  },
  {
   "cell_type": "code",
   "execution_count": 23,
   "metadata": {},
   "outputs": [
    {
     "name": "stdout",
     "output_type": "stream",
     "text": [
      "Fold ROC score is 0.687455\n",
      "Fold ROC score is 0.681206\n",
      "Fold ROC score is 0.675599\n",
      "Fold ROC score is 0.676999\n"
     ]
    }
   ],
   "source": [
    "lr=LogisticRegression()\n",
    "lr_oof_predict=np.zeros(data.shape[0])\n",
    "for train_idx, test_idx in lr_Kfold.split(data):\n",
    "    lr.fit(train_data.iloc[train_idx],target_data.iloc[train_idx])\n",
    "    lr_oof_predict[test_idx]=lr.predict_proba(train_data.loc[test_idx])[:,1]\n",
    "    print(\"Fold ROC score is %f\" % roc_auc_score(target_data[test_idx],lr_oof_predict[test_idx]))\n",
    "    \n",
    "    \n",
    "    "
   ]
  },
  {
   "cell_type": "code",
   "execution_count": 9,
   "metadata": {},
   "outputs": [
    {
     "data": {
      "text/plain": [
       "array([0.9, 0.8, 0.7, ..., 0.1, 0.5, 0.8])"
      ]
     },
     "execution_count": 9,
     "metadata": {},
     "output_type": "execute_result"
    }
   ],
   "source": [
    "rf_oof_predict"
   ]
  },
  {
   "cell_type": "code",
   "execution_count": 24,
   "metadata": {},
   "outputs": [],
   "source": [
    "from sklearn.linear_model import LinearRegression\n",
    "stage2=LinearRegression()\n"
   ]
  },
  {
   "cell_type": "code",
   "execution_count": 25,
   "metadata": {},
   "outputs": [],
   "source": [
    "stage2_data=pd.DataFrame({'RF_data':rf_oof_predict,'Log_Data':lr_oof_predict})"
   ]
  },
  {
   "cell_type": "code",
   "execution_count": 26,
   "metadata": {},
   "outputs": [
    {
     "data": {
      "text/html": [
       "<div>\n",
       "<style scoped>\n",
       "    .dataframe tbody tr th:only-of-type {\n",
       "        vertical-align: middle;\n",
       "    }\n",
       "\n",
       "    .dataframe tbody tr th {\n",
       "        vertical-align: top;\n",
       "    }\n",
       "\n",
       "    .dataframe thead th {\n",
       "        text-align: right;\n",
       "    }\n",
       "</style>\n",
       "<table border=\"1\" class=\"dataframe\">\n",
       "  <thead>\n",
       "    <tr style=\"text-align: right;\">\n",
       "      <th></th>\n",
       "      <th>RF_data</th>\n",
       "      <th>Log_Data</th>\n",
       "    </tr>\n",
       "  </thead>\n",
       "  <tbody>\n",
       "    <tr>\n",
       "      <th>0</th>\n",
       "      <td>0.8</td>\n",
       "      <td>0.623785</td>\n",
       "    </tr>\n",
       "    <tr>\n",
       "      <th>1</th>\n",
       "      <td>0.8</td>\n",
       "      <td>0.621718</td>\n",
       "    </tr>\n",
       "    <tr>\n",
       "      <th>2</th>\n",
       "      <td>0.9</td>\n",
       "      <td>0.681501</td>\n",
       "    </tr>\n",
       "    <tr>\n",
       "      <th>3</th>\n",
       "      <td>0.8</td>\n",
       "      <td>0.599843</td>\n",
       "    </tr>\n",
       "    <tr>\n",
       "      <th>4</th>\n",
       "      <td>0.7</td>\n",
       "      <td>0.492166</td>\n",
       "    </tr>\n",
       "    <tr>\n",
       "      <th>5</th>\n",
       "      <td>0.1</td>\n",
       "      <td>0.436956</td>\n",
       "    </tr>\n",
       "    <tr>\n",
       "      <th>6</th>\n",
       "      <td>0.8</td>\n",
       "      <td>0.659486</td>\n",
       "    </tr>\n",
       "    <tr>\n",
       "      <th>7</th>\n",
       "      <td>0.7</td>\n",
       "      <td>0.645068</td>\n",
       "    </tr>\n",
       "    <tr>\n",
       "      <th>8</th>\n",
       "      <td>0.5</td>\n",
       "      <td>0.898230</td>\n",
       "    </tr>\n",
       "    <tr>\n",
       "      <th>9</th>\n",
       "      <td>0.9</td>\n",
       "      <td>0.695113</td>\n",
       "    </tr>\n",
       "    <tr>\n",
       "      <th>10</th>\n",
       "      <td>0.7</td>\n",
       "      <td>0.646868</td>\n",
       "    </tr>\n",
       "    <tr>\n",
       "      <th>11</th>\n",
       "      <td>0.3</td>\n",
       "      <td>0.526675</td>\n",
       "    </tr>\n",
       "    <tr>\n",
       "      <th>12</th>\n",
       "      <td>1.0</td>\n",
       "      <td>0.637948</td>\n",
       "    </tr>\n",
       "    <tr>\n",
       "      <th>13</th>\n",
       "      <td>0.7</td>\n",
       "      <td>0.599850</td>\n",
       "    </tr>\n",
       "    <tr>\n",
       "      <th>14</th>\n",
       "      <td>0.7</td>\n",
       "      <td>0.569695</td>\n",
       "    </tr>\n",
       "    <tr>\n",
       "      <th>15</th>\n",
       "      <td>0.2</td>\n",
       "      <td>0.338579</td>\n",
       "    </tr>\n",
       "    <tr>\n",
       "      <th>16</th>\n",
       "      <td>0.9</td>\n",
       "      <td>0.724059</td>\n",
       "    </tr>\n",
       "    <tr>\n",
       "      <th>17</th>\n",
       "      <td>0.1</td>\n",
       "      <td>0.337902</td>\n",
       "    </tr>\n",
       "    <tr>\n",
       "      <th>18</th>\n",
       "      <td>0.5</td>\n",
       "      <td>0.433495</td>\n",
       "    </tr>\n",
       "    <tr>\n",
       "      <th>19</th>\n",
       "      <td>0.4</td>\n",
       "      <td>0.654440</td>\n",
       "    </tr>\n",
       "    <tr>\n",
       "      <th>20</th>\n",
       "      <td>1.0</td>\n",
       "      <td>0.641274</td>\n",
       "    </tr>\n",
       "    <tr>\n",
       "      <th>21</th>\n",
       "      <td>0.4</td>\n",
       "      <td>0.681501</td>\n",
       "    </tr>\n",
       "    <tr>\n",
       "      <th>22</th>\n",
       "      <td>0.1</td>\n",
       "      <td>0.519976</td>\n",
       "    </tr>\n",
       "    <tr>\n",
       "      <th>23</th>\n",
       "      <td>0.8</td>\n",
       "      <td>0.567423</td>\n",
       "    </tr>\n",
       "    <tr>\n",
       "      <th>24</th>\n",
       "      <td>0.5</td>\n",
       "      <td>0.517621</td>\n",
       "    </tr>\n",
       "    <tr>\n",
       "      <th>25</th>\n",
       "      <td>0.1</td>\n",
       "      <td>0.731537</td>\n",
       "    </tr>\n",
       "    <tr>\n",
       "      <th>26</th>\n",
       "      <td>0.5</td>\n",
       "      <td>0.565319</td>\n",
       "    </tr>\n",
       "    <tr>\n",
       "      <th>27</th>\n",
       "      <td>0.0</td>\n",
       "      <td>0.151353</td>\n",
       "    </tr>\n",
       "    <tr>\n",
       "      <th>28</th>\n",
       "      <td>0.5</td>\n",
       "      <td>0.467452</td>\n",
       "    </tr>\n",
       "    <tr>\n",
       "      <th>29</th>\n",
       "      <td>0.2</td>\n",
       "      <td>0.619396</td>\n",
       "    </tr>\n",
       "    <tr>\n",
       "      <th>...</th>\n",
       "      <td>...</td>\n",
       "      <td>...</td>\n",
       "    </tr>\n",
       "    <tr>\n",
       "      <th>49970</th>\n",
       "      <td>0.1</td>\n",
       "      <td>0.631468</td>\n",
       "    </tr>\n",
       "    <tr>\n",
       "      <th>49971</th>\n",
       "      <td>0.8</td>\n",
       "      <td>0.731005</td>\n",
       "    </tr>\n",
       "    <tr>\n",
       "      <th>49972</th>\n",
       "      <td>0.6</td>\n",
       "      <td>0.759152</td>\n",
       "    </tr>\n",
       "    <tr>\n",
       "      <th>49973</th>\n",
       "      <td>0.4</td>\n",
       "      <td>0.610263</td>\n",
       "    </tr>\n",
       "    <tr>\n",
       "      <th>49974</th>\n",
       "      <td>0.5</td>\n",
       "      <td>0.517083</td>\n",
       "    </tr>\n",
       "    <tr>\n",
       "      <th>49975</th>\n",
       "      <td>0.6</td>\n",
       "      <td>0.655155</td>\n",
       "    </tr>\n",
       "    <tr>\n",
       "      <th>49976</th>\n",
       "      <td>0.9</td>\n",
       "      <td>0.566432</td>\n",
       "    </tr>\n",
       "    <tr>\n",
       "      <th>49977</th>\n",
       "      <td>0.4</td>\n",
       "      <td>0.595487</td>\n",
       "    </tr>\n",
       "    <tr>\n",
       "      <th>49978</th>\n",
       "      <td>0.7</td>\n",
       "      <td>0.517136</td>\n",
       "    </tr>\n",
       "    <tr>\n",
       "      <th>49979</th>\n",
       "      <td>0.9</td>\n",
       "      <td>0.881560</td>\n",
       "    </tr>\n",
       "    <tr>\n",
       "      <th>49980</th>\n",
       "      <td>0.1</td>\n",
       "      <td>0.536721</td>\n",
       "    </tr>\n",
       "    <tr>\n",
       "      <th>49981</th>\n",
       "      <td>0.6</td>\n",
       "      <td>0.599542</td>\n",
       "    </tr>\n",
       "    <tr>\n",
       "      <th>49982</th>\n",
       "      <td>0.7</td>\n",
       "      <td>0.529621</td>\n",
       "    </tr>\n",
       "    <tr>\n",
       "      <th>49983</th>\n",
       "      <td>0.7</td>\n",
       "      <td>0.553084</td>\n",
       "    </tr>\n",
       "    <tr>\n",
       "      <th>49984</th>\n",
       "      <td>0.0</td>\n",
       "      <td>0.558692</td>\n",
       "    </tr>\n",
       "    <tr>\n",
       "      <th>49985</th>\n",
       "      <td>0.1</td>\n",
       "      <td>0.280224</td>\n",
       "    </tr>\n",
       "    <tr>\n",
       "      <th>49986</th>\n",
       "      <td>0.8</td>\n",
       "      <td>0.878373</td>\n",
       "    </tr>\n",
       "    <tr>\n",
       "      <th>49987</th>\n",
       "      <td>0.9</td>\n",
       "      <td>0.535524</td>\n",
       "    </tr>\n",
       "    <tr>\n",
       "      <th>49988</th>\n",
       "      <td>0.5</td>\n",
       "      <td>0.392028</td>\n",
       "    </tr>\n",
       "    <tr>\n",
       "      <th>49989</th>\n",
       "      <td>0.8</td>\n",
       "      <td>0.579059</td>\n",
       "    </tr>\n",
       "    <tr>\n",
       "      <th>49990</th>\n",
       "      <td>0.3</td>\n",
       "      <td>0.660807</td>\n",
       "    </tr>\n",
       "    <tr>\n",
       "      <th>49991</th>\n",
       "      <td>0.8</td>\n",
       "      <td>0.707824</td>\n",
       "    </tr>\n",
       "    <tr>\n",
       "      <th>49992</th>\n",
       "      <td>0.4</td>\n",
       "      <td>0.209353</td>\n",
       "    </tr>\n",
       "    <tr>\n",
       "      <th>49993</th>\n",
       "      <td>0.3</td>\n",
       "      <td>0.441406</td>\n",
       "    </tr>\n",
       "    <tr>\n",
       "      <th>49994</th>\n",
       "      <td>0.6</td>\n",
       "      <td>0.665070</td>\n",
       "    </tr>\n",
       "    <tr>\n",
       "      <th>49995</th>\n",
       "      <td>0.6</td>\n",
       "      <td>0.806580</td>\n",
       "    </tr>\n",
       "    <tr>\n",
       "      <th>49996</th>\n",
       "      <td>0.2</td>\n",
       "      <td>0.618881</td>\n",
       "    </tr>\n",
       "    <tr>\n",
       "      <th>49997</th>\n",
       "      <td>0.5</td>\n",
       "      <td>0.527228</td>\n",
       "    </tr>\n",
       "    <tr>\n",
       "      <th>49998</th>\n",
       "      <td>0.7</td>\n",
       "      <td>0.502486</td>\n",
       "    </tr>\n",
       "    <tr>\n",
       "      <th>49999</th>\n",
       "      <td>0.3</td>\n",
       "      <td>0.598704</td>\n",
       "    </tr>\n",
       "  </tbody>\n",
       "</table>\n",
       "<p>50000 rows × 2 columns</p>\n",
       "</div>"
      ],
      "text/plain": [
       "       RF_data  Log_Data\n",
       "0          0.8  0.623785\n",
       "1          0.8  0.621718\n",
       "2          0.9  0.681501\n",
       "3          0.8  0.599843\n",
       "4          0.7  0.492166\n",
       "5          0.1  0.436956\n",
       "6          0.8  0.659486\n",
       "7          0.7  0.645068\n",
       "8          0.5  0.898230\n",
       "9          0.9  0.695113\n",
       "10         0.7  0.646868\n",
       "11         0.3  0.526675\n",
       "12         1.0  0.637948\n",
       "13         0.7  0.599850\n",
       "14         0.7  0.569695\n",
       "15         0.2  0.338579\n",
       "16         0.9  0.724059\n",
       "17         0.1  0.337902\n",
       "18         0.5  0.433495\n",
       "19         0.4  0.654440\n",
       "20         1.0  0.641274\n",
       "21         0.4  0.681501\n",
       "22         0.1  0.519976\n",
       "23         0.8  0.567423\n",
       "24         0.5  0.517621\n",
       "25         0.1  0.731537\n",
       "26         0.5  0.565319\n",
       "27         0.0  0.151353\n",
       "28         0.5  0.467452\n",
       "29         0.2  0.619396\n",
       "...        ...       ...\n",
       "49970      0.1  0.631468\n",
       "49971      0.8  0.731005\n",
       "49972      0.6  0.759152\n",
       "49973      0.4  0.610263\n",
       "49974      0.5  0.517083\n",
       "49975      0.6  0.655155\n",
       "49976      0.9  0.566432\n",
       "49977      0.4  0.595487\n",
       "49978      0.7  0.517136\n",
       "49979      0.9  0.881560\n",
       "49980      0.1  0.536721\n",
       "49981      0.6  0.599542\n",
       "49982      0.7  0.529621\n",
       "49983      0.7  0.553084\n",
       "49984      0.0  0.558692\n",
       "49985      0.1  0.280224\n",
       "49986      0.8  0.878373\n",
       "49987      0.9  0.535524\n",
       "49988      0.5  0.392028\n",
       "49989      0.8  0.579059\n",
       "49990      0.3  0.660807\n",
       "49991      0.8  0.707824\n",
       "49992      0.4  0.209353\n",
       "49993      0.3  0.441406\n",
       "49994      0.6  0.665070\n",
       "49995      0.6  0.806580\n",
       "49996      0.2  0.618881\n",
       "49997      0.5  0.527228\n",
       "49998      0.7  0.502486\n",
       "49999      0.3  0.598704\n",
       "\n",
       "[50000 rows x 2 columns]"
      ]
     },
     "execution_count": 26,
     "metadata": {},
     "output_type": "execute_result"
    }
   ],
   "source": [
    "stage2_data"
   ]
  },
  {
   "cell_type": "code",
   "execution_count": 27,
   "metadata": {},
   "outputs": [
    {
     "data": {
      "text/plain": [
       "LinearRegression(copy_X=True, fit_intercept=True, n_jobs=1, normalize=False)"
      ]
     },
     "execution_count": 27,
     "metadata": {},
     "output_type": "execute_result"
    }
   ],
   "source": [
    "stage2.fit(stage2_data,target_data)"
   ]
  },
  {
   "cell_type": "code",
   "execution_count": 28,
   "metadata": {},
   "outputs": [
    {
     "data": {
      "text/plain": [
       "array([0.67966431, 0.52413764])"
      ]
     },
     "execution_count": 28,
     "metadata": {},
     "output_type": "execute_result"
    }
   ],
   "source": [
    "stage2.coef_"
   ]
  },
  {
   "cell_type": "code",
   "execution_count": 29,
   "metadata": {},
   "outputs": [
    {
     "data": {
      "text/plain": [
       "RandomForestClassifier(bootstrap=True, class_weight=None, criterion='gini',\n",
       "            max_depth=None, max_features='auto', max_leaf_nodes=None,\n",
       "            min_impurity_decrease=0.0, min_impurity_split=None,\n",
       "            min_samples_leaf=1, min_samples_split=2,\n",
       "            min_weight_fraction_leaf=0.0, n_estimators=10, n_jobs=1,\n",
       "            oob_score=False, random_state=None, verbose=0,\n",
       "            warm_start=False)"
      ]
     },
     "execution_count": 29,
     "metadata": {},
     "output_type": "execute_result"
    }
   ],
   "source": [
    "lr.fit(train_data,target_data)\n",
    "rf.fit(train_data,target_data)"
   ]
  },
  {
   "cell_type": "code",
   "execution_count": 30,
   "metadata": {},
   "outputs": [
    {
     "name": "stdout",
     "output_type": "stream",
     "text": [
      "Log Reg score is 0.683865\n",
      "RF score is 0.742051\n",
      "Final Stage score is  0.756542\n"
     ]
    }
   ],
   "source": [
    "test_lr=lr.predict_proba(test.loc[:,1:])[:,1]\n",
    "print(\"Log Reg score is %f\" % roc_auc_score(test.loc[:,0],test_lr))\n",
    "test_rf=rf.predict_proba(test.loc[:,1:])[:,1]\n",
    "print(\"RF score is %f\" % roc_auc_score(test.loc[:,0],test_rf))\n",
    "test_s2=pd.DataFrame({'RF data':test_rf,'Log Data':test_lr})\n",
    "test_stage2=stage2.predict(test_s2)\n",
    "print(\"Final Stage score is % f\" % roc_auc_score(test.loc[:,0],test_stage2))"
   ]
  },
  {
   "cell_type": "code",
   "execution_count": null,
   "metadata": {},
   "outputs": [],
   "source": []
  },
  {
   "cell_type": "code",
   "execution_count": null,
   "metadata": {},
   "outputs": [],
   "source": [
    "data.shape"
   ]
  },
  {
   "cell_type": "code",
   "execution_count": null,
   "metadata": {},
   "outputs": [],
   "source": [
    "rf.fit(train_data,target_data)\n",
    "lr.fit(train_data,target_data)"
   ]
  },
  {
   "cell_type": "code",
   "execution_count": 17,
   "metadata": {},
   "outputs": [
    {
     "data": {
      "text/plain": [
       "LinearRegression(copy_X=True, fit_intercept=True, n_jobs=1, normalize=False)"
      ]
     },
     "execution_count": 17,
     "metadata": {},
     "output_type": "execute_result"
    }
   ],
   "source": [
    "rf_preds=rf.predict_proba(train_data)[:,1]\n",
    "lr_preds=lr.predict_proba(train_data)[:,1]\n",
    "train_data_s2=pd.DataFrame({'RF data':rf_preds,'Log Data':lr_preds})\n",
    "stage2.fit(train_data_s2,target_data)\n",
    "\n"
   ]
  },
  {
   "cell_type": "code",
   "execution_count": 18,
   "metadata": {},
   "outputs": [
    {
     "name": "stdout",
     "output_type": "stream",
     "text": [
      "RF score is 0.717866\n",
      "Log Reg score is 0.677535\n",
      "Final score is 0.706069\n"
     ]
    }
   ],
   "source": [
    "rf_test=rf.predict_proba(test.loc[:,1:])[:,1]\n",
    "print(\"RF score is %f\" % roc_auc_score(test.loc[:,0],rf_test))\n",
    "lr_test=lr.predict_proba(test.loc[:,1:])[:,1]\n",
    "print(\"Log Reg score is %f\" % roc_auc_score(test.loc[:,0],lr_test))\n",
    "test_data_s2=pd.DataFrame({'RF data':rf_test,'Log Data':lr_test})\n",
    "final=stage2.predict(test_data_s2)\n",
    "print(\"Final score is %f\" % roc_auc_score(test.loc[:,0],final))"
   ]
  },
  {
   "cell_type": "code",
   "execution_count": null,
   "metadata": {},
   "outputs": [],
   "source": [
    "test_s2['target']=target_data"
   ]
  },
  {
   "cell_type": "code",
   "execution_count": null,
   "metadata": {},
   "outputs": [],
   "source": [
    "test_s2"
   ]
  },
  {
   "cell_type": "code",
   "execution_count": null,
   "metadata": {},
   "outputs": [],
   "source": []
  }
 ],
 "metadata": {
  "kernelspec": {
   "display_name": "Python 3",
   "language": "python",
   "name": "python3"
  },
  "language_info": {
   "codemirror_mode": {
    "name": "ipython",
    "version": 3
   },
   "file_extension": ".py",
   "mimetype": "text/x-python",
   "name": "python",
   "nbconvert_exporter": "python",
   "pygments_lexer": "ipython3",
   "version": "3.6.5"
  }
 },
 "nbformat": 4,
 "nbformat_minor": 2
}
