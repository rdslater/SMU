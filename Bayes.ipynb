{
 "cells": [
  {
   "cell_type": "code",
   "execution_count": 1,
   "id": "royal-trigger",
   "metadata": {},
   "outputs": [],
   "source": [
    "from sklearn.datasets import fetch_20newsgroups\n",
    "from sklearn.feature_extraction.text import CountVectorizer\n",
    "from sklearn.feature_extraction.text import TfidfVectorizer"
   ]
  },
  {
   "cell_type": "code",
   "execution_count": 3,
   "id": "stopped-staff",
   "metadata": {},
   "outputs": [],
   "source": [
    "newsgroups_train = fetch_20newsgroups(subset ='train',\n",
    "                                     remove=('headers','footers','quotes'))\n",
    "newsgroups_test = fetch_20newsgroups(subset ='test',\n",
    "                                     remove=('headers','footers','quotes'))\n",
    "  "
   ]
  },
  {
   "cell_type": "code",
   "execution_count": 4,
   "id": "stunning-pontiac",
   "metadata": {},
   "outputs": [],
   "source": [
    "cv = CountVectorizer()\n",
    "tfidf = TfidfVectorizer()"
   ]
  },
  {
   "cell_type": "code",
   "execution_count": 5,
   "id": "occasional-evanescence",
   "metadata": {},
   "outputs": [],
   "source": [
    "cv_data = cv.fit_transform(newsgroups_train['data'])\n",
    "tf_data = tfidf.fit_transform(newsgroups_train['data'])"
   ]
  },
  {
   "cell_type": "code",
   "execution_count": 6,
   "id": "retained-winning",
   "metadata": {},
   "outputs": [],
   "source": [
    "from sklearn.naive_bayes import MultinomialNB\n",
    "model = MultinomialNB(alpha=0.1)"
   ]
  },
  {
   "cell_type": "code",
   "execution_count": 7,
   "id": "dependent-testament",
   "metadata": {},
   "outputs": [],
   "source": [
    "cv_test_data = cv.transform(newsgroups_test['data'])"
   ]
  },
  {
   "cell_type": "code",
   "execution_count": 8,
   "id": "statutory-prescription",
   "metadata": {},
   "outputs": [
    {
     "data": {
      "text/plain": [
       "MultinomialNB(alpha=0.1)"
      ]
     },
     "execution_count": 8,
     "metadata": {},
     "output_type": "execute_result"
    }
   ],
   "source": [
    "model.fit(cv_data, newsgroups_train['target'])"
   ]
  },
  {
   "cell_type": "code",
   "execution_count": 9,
   "id": "external-sampling",
   "metadata": {},
   "outputs": [],
   "source": [
    "test_preds = model.predict(cv_test_data)"
   ]
  },
  {
   "cell_type": "code",
   "execution_count": 10,
   "id": "adequate-classic",
   "metadata": {},
   "outputs": [
    {
     "data": {
      "text/plain": [
       "0.6492299522039299"
      ]
     },
     "execution_count": 10,
     "metadata": {},
     "output_type": "execute_result"
    }
   ],
   "source": [
    "from sklearn.metrics import accuracy_score\n",
    "accuracy_score(test_preds, newsgroups_test['target'])"
   ]
  },
  {
   "cell_type": "code",
   "execution_count": 11,
   "id": "alternative-sixth",
   "metadata": {},
   "outputs": [
    {
     "data": {
      "text/plain": [
       "MultinomialNB(alpha=0.1)"
      ]
     },
     "execution_count": 11,
     "metadata": {},
     "output_type": "execute_result"
    }
   ],
   "source": [
    "model.fit(tf_data,newsgroups_train['target'])"
   ]
  },
  {
   "cell_type": "code",
   "execution_count": 12,
   "id": "confirmed-detector",
   "metadata": {},
   "outputs": [],
   "source": [
    "tf_test_data = tfidf.transform(newsgroups_test['data'])"
   ]
  },
  {
   "cell_type": "code",
   "execution_count": 13,
   "id": "revised-brush",
   "metadata": {},
   "outputs": [],
   "source": [
    "preds = model.predict(tf_test_data)"
   ]
  },
  {
   "cell_type": "code",
   "execution_count": 14,
   "id": "spare-ecology",
   "metadata": {},
   "outputs": [
    {
     "data": {
      "text/plain": [
       "0.6845459373340415"
      ]
     },
     "execution_count": 14,
     "metadata": {},
     "output_type": "execute_result"
    }
   ],
   "source": [
    "accuracy_score(preds, newsgroups_test['target'])"
   ]
  },
  {
   "cell_type": "code",
   "execution_count": null,
   "id": "nasty-sussex",
   "metadata": {},
   "outputs": [],
   "source": []
  }
 ],
 "metadata": {
  "kernelspec": {
   "display_name": "MSDS7333",
   "language": "python",
   "name": "msds7333"
  },
  "language_info": {
   "codemirror_mode": {
    "name": "ipython",
    "version": 3
   },
   "file_extension": ".py",
   "mimetype": "text/x-python",
   "name": "python",
   "nbconvert_exporter": "python",
   "pygments_lexer": "ipython3",
   "version": "3.8.7"
  }
 },
 "nbformat": 4,
 "nbformat_minor": 5
}
